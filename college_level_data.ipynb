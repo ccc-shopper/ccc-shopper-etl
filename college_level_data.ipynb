{
 "cells": [
  {
   "cell_type": "markdown",
   "metadata": {},
   "source": [
    "# College Data"
   ]
  },
  {
   "cell_type": "code",
   "execution_count": 1,
   "metadata": {},
   "outputs": [],
   "source": [
    "# Data science libraries\n",
    "import matplotlib.pyplot as plt\n",
    "import plotly.express as px\n",
    "import pandas as pd\n",
    "import plotly.express as px\n",
    "import seaborn as sns\n",
    "\n",
    "# Local modules\n",
    "import scripts.cccco as cccco\n",
    "import scripts.college_scorecard as scorecard"
   ]
  },
  {
   "cell_type": "markdown",
   "metadata": {},
   "source": [
    "## 1. Gather all relevant metadata on California Community Colleges using `colleges` endpoint of the [the CCC API](https://api.cccco.edu/)"
   ]
  },
  {
   "cell_type": "markdown",
   "metadata": {},
   "source": [
    "### College and District Location"
   ]
  },
  {
   "cell_type": "code",
   "execution_count": 2,
   "metadata": {},
   "outputs": [],
   "source": [
    "all_colleges = cccco.get_ccc_colleges()\n",
    "all_districts = cccco.get_ccc_districts()"
   ]
  },
  {
   "cell_type": "code",
   "execution_count": 3,
   "metadata": {},
   "outputs": [
    {
     "name": "stdout",
     "output_type": "stream",
     "text": [
      "115 rows\n"
     ]
    },
    {
     "data": {
      "text/html": [
       "<div>\n",
       "<style scoped>\n",
       "    .dataframe tbody tr th:only-of-type {\n",
       "        vertical-align: middle;\n",
       "    }\n",
       "\n",
       "    .dataframe tbody tr th {\n",
       "        vertical-align: top;\n",
       "    }\n",
       "\n",
       "    .dataframe thead th {\n",
       "        text-align: right;\n",
       "    }\n",
       "</style>\n",
       "<table border=\"1\" class=\"dataframe\">\n",
       "  <thead>\n",
       "    <tr style=\"text-align: right;\">\n",
       "      <th></th>\n",
       "      <th>CollegeID</th>\n",
       "      <th>CollegeName</th>\n",
       "      <th>DistrictID</th>\n",
       "      <th>StreetAddress</th>\n",
       "      <th>City</th>\n",
       "      <th>County</th>\n",
       "      <th>Zip</th>\n",
       "      <th>ZipPlus4</th>\n",
       "      <th>MailingAddress</th>\n",
       "      <th>MailingCity</th>\n",
       "      <th>MailingZip</th>\n",
       "      <th>Phone</th>\n",
       "      <th>WebsiteURL</th>\n",
       "      <th>Latitude</th>\n",
       "      <th>Longitude</th>\n",
       "      <th>LogoURL</th>\n",
       "      <th>District</th>\n",
       "    </tr>\n",
       "  </thead>\n",
       "  <tbody>\n",
       "    <tr>\n",
       "      <th>0</th>\n",
       "      <td>021</td>\n",
       "      <td>Cuyamaca College</td>\n",
       "      <td>020</td>\n",
       "      <td>900 Rancho San Diego Parkway</td>\n",
       "      <td>El Cajon</td>\n",
       "      <td>San Diego</td>\n",
       "      <td>92019</td>\n",
       "      <td>4304</td>\n",
       "      <td>900 Rancho San Diego Parkway</td>\n",
       "      <td>El Cajon</td>\n",
       "      <td>92019</td>\n",
       "      <td>619.660.4000</td>\n",
       "      <td>www.cuyamaca.edu</td>\n",
       "      <td>32.744890</td>\n",
       "      <td>-116.935229</td>\n",
       "      <td>CuyamacaCollegeLogo.jpg</td>\n",
       "      <td>None</td>\n",
       "    </tr>\n",
       "    <tr>\n",
       "      <th>1</th>\n",
       "      <td>022</td>\n",
       "      <td>Grossmont College</td>\n",
       "      <td>020</td>\n",
       "      <td>8800 Grossmont College Drive</td>\n",
       "      <td>El Cajon</td>\n",
       "      <td>San Diego</td>\n",
       "      <td>92020</td>\n",
       "      <td>1799</td>\n",
       "      <td>8800 Grossmont College Drive</td>\n",
       "      <td>El Cajon</td>\n",
       "      <td>92020</td>\n",
       "      <td>619.644.7000</td>\n",
       "      <td>www.grossmont.edu</td>\n",
       "      <td>32.817897</td>\n",
       "      <td>-117.005640</td>\n",
       "      <td>GrossmontCollegelogo.jpg</td>\n",
       "      <td>None</td>\n",
       "    </tr>\n",
       "    <tr>\n",
       "      <th>2</th>\n",
       "      <td>031</td>\n",
       "      <td>Imperial Valley College</td>\n",
       "      <td>030</td>\n",
       "      <td>380 East Aten Road</td>\n",
       "      <td>Imperial</td>\n",
       "      <td>Imperial</td>\n",
       "      <td>92251</td>\n",
       "      <td>9787</td>\n",
       "      <td>380 East Aten Road</td>\n",
       "      <td>Imperial</td>\n",
       "      <td>92251</td>\n",
       "      <td>760.352.8320</td>\n",
       "      <td>www.imperial.edu</td>\n",
       "      <td>32.825859</td>\n",
       "      <td>-115.502999</td>\n",
       "      <td>ImperialValleyCollegeLogocopy.jpg</td>\n",
       "      <td>None</td>\n",
       "    </tr>\n",
       "    <tr>\n",
       "      <th>3</th>\n",
       "      <td>051</td>\n",
       "      <td>MiraCosta College</td>\n",
       "      <td>050</td>\n",
       "      <td>1 Barnard Drive</td>\n",
       "      <td>Oceanside</td>\n",
       "      <td>San Diego</td>\n",
       "      <td>92056</td>\n",
       "      <td>3899</td>\n",
       "      <td>1 Barnard Drive</td>\n",
       "      <td>Oceanside</td>\n",
       "      <td>92056</td>\n",
       "      <td>760.757.2121</td>\n",
       "      <td>www.miracosta.edu</td>\n",
       "      <td>33.188864</td>\n",
       "      <td>-117.301064</td>\n",
       "      <td>Mira_Costa_College_Logo_4c.png</td>\n",
       "      <td>None</td>\n",
       "    </tr>\n",
       "    <tr>\n",
       "      <th>4</th>\n",
       "      <td>061</td>\n",
       "      <td>Palomar College</td>\n",
       "      <td>060</td>\n",
       "      <td>1140 West Mission Road</td>\n",
       "      <td>San Marcos</td>\n",
       "      <td>San Diego</td>\n",
       "      <td>92069</td>\n",
       "      <td>1487</td>\n",
       "      <td>1140 West Mission Road</td>\n",
       "      <td>San Marcos</td>\n",
       "      <td>92069</td>\n",
       "      <td>760.744.1150</td>\n",
       "      <td>www.palomar.edu</td>\n",
       "      <td>33.147015</td>\n",
       "      <td>-117.183980</td>\n",
       "      <td>PalomarCollegeLogo.jpg</td>\n",
       "      <td>None</td>\n",
       "    </tr>\n",
       "  </tbody>\n",
       "</table>\n",
       "</div>"
      ],
      "text/plain": [
       "  CollegeID              CollegeName DistrictID                 StreetAddress  \\\n",
       "0       021         Cuyamaca College        020  900 Rancho San Diego Parkway   \n",
       "1       022        Grossmont College        020  8800 Grossmont College Drive   \n",
       "2       031  Imperial Valley College        030            380 East Aten Road   \n",
       "3       051        MiraCosta College        050               1 Barnard Drive   \n",
       "4       061          Palomar College        060        1140 West Mission Road   \n",
       "\n",
       "         City      County    Zip ZipPlus4                 MailingAddress  \\\n",
       "0    El Cajon  San Diego   92019     4304   900 Rancho San Diego Parkway   \n",
       "1    El Cajon  San Diego   92020     1799  8800 Grossmont College Drive    \n",
       "2    Imperial   Imperial   92251     9787            380 East Aten Road    \n",
       "3   Oceanside  San Diego   92056     3899               1 Barnard Drive    \n",
       "4  San Marcos  San Diego   92069     1487        1140 West Mission Road    \n",
       "\n",
       "  MailingCity MailingZip          Phone         WebsiteURL   Latitude  \\\n",
       "0    El Cajon      92019  619.660.4000    www.cuyamaca.edu  32.744890   \n",
       "1    El Cajon      92020  619.644.7000   www.grossmont.edu  32.817897   \n",
       "2    Imperial      92251  760.352.8320    www.imperial.edu  32.825859   \n",
       "3   Oceanside      92056  760.757.2121   www.miracosta.edu  33.188864   \n",
       "4  San Marcos      92069  760.744.1150     www.palomar.edu  33.147015   \n",
       "\n",
       "    Longitude                            LogoURL District  \n",
       "0 -116.935229            CuyamacaCollegeLogo.jpg     None  \n",
       "1 -117.005640           GrossmontCollegelogo.jpg     None  \n",
       "2 -115.502999  ImperialValleyCollegeLogocopy.jpg     None  \n",
       "3 -117.301064     Mira_Costa_College_Logo_4c.png     None  \n",
       "4 -117.183980             PalomarCollegeLogo.jpg     None  "
      ]
     },
     "execution_count": 3,
     "metadata": {},
     "output_type": "execute_result"
    }
   ],
   "source": [
    "print(f\"{all_colleges.shape[0]:,} rows\")\n",
    "all_colleges.head()"
   ]
  },
  {
   "cell_type": "code",
   "execution_count": 4,
   "metadata": {},
   "outputs": [
    {
     "name": "stdout",
     "output_type": "stream",
     "text": [
      "73 rows\n"
     ]
    },
    {
     "data": {
      "text/html": [
       "<div>\n",
       "<style scoped>\n",
       "    .dataframe tbody tr th:only-of-type {\n",
       "        vertical-align: middle;\n",
       "    }\n",
       "\n",
       "    .dataframe tbody tr th {\n",
       "        vertical-align: top;\n",
       "    }\n",
       "\n",
       "    .dataframe thead th {\n",
       "        text-align: right;\n",
       "    }\n",
       "</style>\n",
       "<table border=\"1\" class=\"dataframe\">\n",
       "  <thead>\n",
       "    <tr style=\"text-align: right;\">\n",
       "      <th></th>\n",
       "      <th>DistrictID</th>\n",
       "      <th>DistrictName</th>\n",
       "      <th>DistrictTitle</th>\n",
       "      <th>StreetAddress</th>\n",
       "      <th>City</th>\n",
       "      <th>Zip</th>\n",
       "      <th>Phone</th>\n",
       "      <th>WebsiteURL</th>\n",
       "      <th>Boundaries</th>\n",
       "      <th>Colleges</th>\n",
       "    </tr>\n",
       "  </thead>\n",
       "  <tbody>\n",
       "    <tr>\n",
       "      <th>0</th>\n",
       "      <td>020</td>\n",
       "      <td>Grossmont-Cuyamaca                            ...</td>\n",
       "      <td>Grossmont-Cuyamaca Community College District</td>\n",
       "      <td>8800 Grossmont College Drive</td>\n",
       "      <td>El Cajon</td>\n",
       "      <td>92020</td>\n",
       "      <td>619-644-7010</td>\n",
       "      <td>www.gcccd.edu</td>\n",
       "      <td>None</td>\n",
       "      <td>[{'CollegeID': '021', 'CollegeName': 'Cuyamaca...</td>\n",
       "    </tr>\n",
       "    <tr>\n",
       "      <th>1</th>\n",
       "      <td>030</td>\n",
       "      <td>Imperial                                      ...</td>\n",
       "      <td>Imperial Community College District</td>\n",
       "      <td>380 E. Aten Road (PO Box 158)</td>\n",
       "      <td>Imperial</td>\n",
       "      <td>92251</td>\n",
       "      <td>760-352-8320</td>\n",
       "      <td>www.imperial.edu</td>\n",
       "      <td>None</td>\n",
       "      <td>[{'CollegeID': '031', 'CollegeName': 'Imperial...</td>\n",
       "    </tr>\n",
       "    <tr>\n",
       "      <th>2</th>\n",
       "      <td>050</td>\n",
       "      <td>MiraCosta                                     ...</td>\n",
       "      <td>MiraCosta Community College District</td>\n",
       "      <td>None</td>\n",
       "      <td>None</td>\n",
       "      <td>None</td>\n",
       "      <td>None</td>\n",
       "      <td>www.miracosta.edu</td>\n",
       "      <td>None</td>\n",
       "      <td>[{'CollegeID': '051', 'CollegeName': 'MiraCost...</td>\n",
       "    </tr>\n",
       "    <tr>\n",
       "      <th>3</th>\n",
       "      <td>060</td>\n",
       "      <td>Palomar                                       ...</td>\n",
       "      <td>Palomar Community College District</td>\n",
       "      <td>1140 W. Mission Road</td>\n",
       "      <td>San Marcos</td>\n",
       "      <td>92069</td>\n",
       "      <td>760-744-1150</td>\n",
       "      <td>www.palomar.edu</td>\n",
       "      <td>None</td>\n",
       "      <td>[{'CollegeID': '061', 'CollegeName': 'Palomar ...</td>\n",
       "    </tr>\n",
       "    <tr>\n",
       "      <th>4</th>\n",
       "      <td>070</td>\n",
       "      <td>San Diego                                     ...</td>\n",
       "      <td>San Diego Community College District</td>\n",
       "      <td>3375 Camino del Rio South</td>\n",
       "      <td>San Diego</td>\n",
       "      <td>92108</td>\n",
       "      <td>619-388-6500</td>\n",
       "      <td>www.sdccd.edu</td>\n",
       "      <td>None</td>\n",
       "      <td>[{'CollegeID': '071', 'CollegeName': 'San Dieg...</td>\n",
       "    </tr>\n",
       "  </tbody>\n",
       "</table>\n",
       "</div>"
      ],
      "text/plain": [
       "  DistrictID                                       DistrictName  \\\n",
       "0        020  Grossmont-Cuyamaca                            ...   \n",
       "1        030  Imperial                                      ...   \n",
       "2        050  MiraCosta                                     ...   \n",
       "3        060  Palomar                                       ...   \n",
       "4        070  San Diego                                     ...   \n",
       "\n",
       "                                   DistrictTitle  \\\n",
       "0  Grossmont-Cuyamaca Community College District   \n",
       "1            Imperial Community College District   \n",
       "2           MiraCosta Community College District   \n",
       "3             Palomar Community College District   \n",
       "4           San Diego Community College District   \n",
       "\n",
       "                   StreetAddress        City    Zip         Phone  \\\n",
       "0   8800 Grossmont College Drive    El Cajon  92020  619-644-7010   \n",
       "1  380 E. Aten Road (PO Box 158)    Imperial  92251  760-352-8320   \n",
       "2                           None        None   None          None   \n",
       "3          1140 W. Mission Road   San Marcos  92069  760-744-1150   \n",
       "4      3375 Camino del Rio South   San Diego  92108  619-388-6500   \n",
       "\n",
       "          WebsiteURL Boundaries  \\\n",
       "0      www.gcccd.edu       None   \n",
       "1   www.imperial.edu       None   \n",
       "2  www.miracosta.edu       None   \n",
       "3    www.palomar.edu       None   \n",
       "4      www.sdccd.edu       None   \n",
       "\n",
       "                                            Colleges  \n",
       "0  [{'CollegeID': '021', 'CollegeName': 'Cuyamaca...  \n",
       "1  [{'CollegeID': '031', 'CollegeName': 'Imperial...  \n",
       "2  [{'CollegeID': '051', 'CollegeName': 'MiraCost...  \n",
       "3  [{'CollegeID': '061', 'CollegeName': 'Palomar ...  \n",
       "4  [{'CollegeID': '071', 'CollegeName': 'San Dieg...  "
      ]
     },
     "execution_count": 4,
     "metadata": {},
     "output_type": "execute_result"
    }
   ],
   "source": [
    "print(f\"{all_districts.shape[0]:,} rows\")\n",
    "all_districts.head()"
   ]
  },
  {
   "cell_type": "code",
   "execution_count": 5,
   "metadata": {},
   "outputs": [],
   "source": [
    "# Each distict has a number of colleges associated with it. These colleges are\n",
    "# stored in dictionaries in the \"Colleges\" column.\n",
    "\n",
    "all_districts[\"CollegesPerDistrict\"] = all_districts[\"Colleges\"].apply(len)"
   ]
  },
  {
   "cell_type": "code",
   "execution_count": 6,
   "metadata": {},
   "outputs": [],
   "source": [
    "all_districts = all_districts[\n",
    "    # This is Calbright College, which is the system's first online-only college\n",
    "    # and doesn't have a physical campus. \n",
    "    all_districts[\"DistrictID\"] != \"210\"\n",
    "]"
   ]
  },
  {
   "cell_type": "code",
   "execution_count": 7,
   "metadata": {},
   "outputs": [
    {
     "data": {
      "text/plain": [
       "CollegesPerDistrict\n",
       "1    49\n",
       "2    12\n",
       "3     7\n",
       "4     3\n",
       "9     1\n",
       "Name: count, dtype: int64"
      ]
     },
     "execution_count": 7,
     "metadata": {},
     "output_type": "execute_result"
    }
   ],
   "source": [
    "all_districts[\"CollegesPerDistrict\"].value_counts()"
   ]
  },
  {
   "cell_type": "code",
   "execution_count": 8,
   "metadata": {},
   "outputs": [
    {
     "data": {
      "text/html": [
       "<div>\n",
       "<style scoped>\n",
       "    .dataframe tbody tr th:only-of-type {\n",
       "        vertical-align: middle;\n",
       "    }\n",
       "\n",
       "    .dataframe tbody tr th {\n",
       "        vertical-align: top;\n",
       "    }\n",
       "\n",
       "    .dataframe thead th {\n",
       "        text-align: right;\n",
       "    }\n",
       "</style>\n",
       "<table border=\"1\" class=\"dataframe\">\n",
       "  <thead>\n",
       "    <tr style=\"text-align: right;\">\n",
       "      <th></th>\n",
       "      <th>CollegeID</th>\n",
       "      <th>CollegeName</th>\n",
       "      <th>DistrictID</th>\n",
       "      <th>StreetAddress</th>\n",
       "      <th>City</th>\n",
       "      <th>County</th>\n",
       "      <th>Zip</th>\n",
       "      <th>ZipPlus4</th>\n",
       "      <th>MailingAddress</th>\n",
       "      <th>MailingCity</th>\n",
       "      <th>MailingZip</th>\n",
       "      <th>Phone</th>\n",
       "      <th>WebsiteURL</th>\n",
       "      <th>Latitude</th>\n",
       "      <th>Longitude</th>\n",
       "      <th>LogoURL</th>\n",
       "      <th>District</th>\n",
       "    </tr>\n",
       "  </thead>\n",
       "  <tbody>\n",
       "    <tr>\n",
       "      <th>78</th>\n",
       "      <td>741</td>\n",
       "      <td>Los Angeles City College</td>\n",
       "      <td>740</td>\n",
       "      <td>855 North Vermont Avenue</td>\n",
       "      <td>Los Angeles</td>\n",
       "      <td>Los Angeles</td>\n",
       "      <td>90029</td>\n",
       "      <td>3590</td>\n",
       "      <td>855 North Vermont Avenue</td>\n",
       "      <td>Los Angeles</td>\n",
       "      <td>90029</td>\n",
       "      <td>323.953.4000</td>\n",
       "      <td>www.lacitycollege.edu</td>\n",
       "      <td>34.086844</td>\n",
       "      <td>-118.291864</td>\n",
       "      <td>Los Angeles CC-Logo.jpg</td>\n",
       "      <td>None</td>\n",
       "    </tr>\n",
       "    <tr>\n",
       "      <th>79</th>\n",
       "      <td>742</td>\n",
       "      <td>Los Angeles Harbor College</td>\n",
       "      <td>740</td>\n",
       "      <td>1111 Figueroa Place</td>\n",
       "      <td>Wilmington</td>\n",
       "      <td>Los Angeles</td>\n",
       "      <td>90744</td>\n",
       "      <td>2397</td>\n",
       "      <td>1111 Figueroa Place</td>\n",
       "      <td>Wilmington</td>\n",
       "      <td>90744</td>\n",
       "      <td>310.233.4000</td>\n",
       "      <td>www.lahc.edu</td>\n",
       "      <td>33.784817</td>\n",
       "      <td>-118.281649</td>\n",
       "      <td>LosAngelesHarborCollegelogo.jpg</td>\n",
       "      <td>None</td>\n",
       "    </tr>\n",
       "    <tr>\n",
       "      <th>80</th>\n",
       "      <td>743</td>\n",
       "      <td>Los Angeles Mission College</td>\n",
       "      <td>740</td>\n",
       "      <td>13356 Eldridge Avenue</td>\n",
       "      <td>Sylmar</td>\n",
       "      <td>Los Angeles</td>\n",
       "      <td>91342</td>\n",
       "      <td>3200</td>\n",
       "      <td>13356 Eldridge Avenue</td>\n",
       "      <td>Sylmar</td>\n",
       "      <td>91342</td>\n",
       "      <td>818.364.7600</td>\n",
       "      <td>www.lamission.edu</td>\n",
       "      <td>34.314604</td>\n",
       "      <td>-118.420189</td>\n",
       "      <td>LosAngelesMClogocopy.jpg</td>\n",
       "      <td>None</td>\n",
       "    </tr>\n",
       "    <tr>\n",
       "      <th>81</th>\n",
       "      <td>744</td>\n",
       "      <td>Los Angeles Pierce College</td>\n",
       "      <td>740</td>\n",
       "      <td>6201 Winnetka Avenue</td>\n",
       "      <td>Woodland Hills</td>\n",
       "      <td>Los Angeles</td>\n",
       "      <td>91371</td>\n",
       "      <td>0001</td>\n",
       "      <td>6201 Winnetka Avenue</td>\n",
       "      <td>Woodland Hills</td>\n",
       "      <td>91371</td>\n",
       "      <td>818.719.6401</td>\n",
       "      <td>www.piercecollege.edu</td>\n",
       "      <td>34.183189</td>\n",
       "      <td>-118.571124</td>\n",
       "      <td>LosAngelesPierceCollegeLogo.jpg</td>\n",
       "      <td>None</td>\n",
       "    </tr>\n",
       "    <tr>\n",
       "      <th>82</th>\n",
       "      <td>745</td>\n",
       "      <td>Los Angeles Southwest College</td>\n",
       "      <td>740</td>\n",
       "      <td>1600 West Imperial Highway</td>\n",
       "      <td>Los Angeles</td>\n",
       "      <td>Los Angeles</td>\n",
       "      <td>90047</td>\n",
       "      <td>4899</td>\n",
       "      <td>1600 West Imperial Highway</td>\n",
       "      <td>Los Angeles</td>\n",
       "      <td>90047</td>\n",
       "      <td>323.241.5225</td>\n",
       "      <td>www.lasc.edu</td>\n",
       "      <td>33.930808</td>\n",
       "      <td>-118.304588</td>\n",
       "      <td>Los Angeles Southwest-logo.jpg</td>\n",
       "      <td>None</td>\n",
       "    </tr>\n",
       "    <tr>\n",
       "      <th>83</th>\n",
       "      <td>746</td>\n",
       "      <td>Los Angeles Trade-Technical College</td>\n",
       "      <td>740</td>\n",
       "      <td>400 West Washington Boulevard</td>\n",
       "      <td>Los Angeles</td>\n",
       "      <td>Los Angeles</td>\n",
       "      <td>90015</td>\n",
       "      <td>4108</td>\n",
       "      <td>400 West Washington Boulevard</td>\n",
       "      <td>Los Angeles</td>\n",
       "      <td>90015</td>\n",
       "      <td>213.763.7000</td>\n",
       "      <td>www.lattc.edu</td>\n",
       "      <td>34.033038</td>\n",
       "      <td>-118.269624</td>\n",
       "      <td>LosAngelesTTlogo.jpg</td>\n",
       "      <td>None</td>\n",
       "    </tr>\n",
       "    <tr>\n",
       "      <th>84</th>\n",
       "      <td>747</td>\n",
       "      <td>Los Angeles Valley College</td>\n",
       "      <td>740</td>\n",
       "      <td>5800 Fulton Avenue</td>\n",
       "      <td>Van Nuys</td>\n",
       "      <td>Los Angeles</td>\n",
       "      <td>91401</td>\n",
       "      <td>4096</td>\n",
       "      <td>5800 Fulton Avenue</td>\n",
       "      <td>Van Nuys</td>\n",
       "      <td>91401</td>\n",
       "      <td>818.947.2600</td>\n",
       "      <td>www.lavc.edu</td>\n",
       "      <td>34.176044</td>\n",
       "      <td>-118.422335</td>\n",
       "      <td>Los Angeles Valley College-logo.jpg</td>\n",
       "      <td>None</td>\n",
       "    </tr>\n",
       "    <tr>\n",
       "      <th>85</th>\n",
       "      <td>748</td>\n",
       "      <td>East Los Angeles College</td>\n",
       "      <td>740</td>\n",
       "      <td>1301 Avenida Cesar Chavez</td>\n",
       "      <td>Monterey Park</td>\n",
       "      <td>Los Angeles</td>\n",
       "      <td>91754</td>\n",
       "      <td>6099</td>\n",
       "      <td>1301 Avenida Cesar Chavez</td>\n",
       "      <td>Monterey Park</td>\n",
       "      <td>91754</td>\n",
       "      <td>323.265.8650</td>\n",
       "      <td>www.elac.edu</td>\n",
       "      <td>34.039736</td>\n",
       "      <td>-118.148754</td>\n",
       "      <td>EastLosAngelesCollegeLogo.jpg</td>\n",
       "      <td>None</td>\n",
       "    </tr>\n",
       "    <tr>\n",
       "      <th>86</th>\n",
       "      <td>749</td>\n",
       "      <td>West Los Angeles College</td>\n",
       "      <td>740</td>\n",
       "      <td>9000 Overland Avenue</td>\n",
       "      <td>Culver City</td>\n",
       "      <td>Los Angeles</td>\n",
       "      <td>90230</td>\n",
       "      <td>5002</td>\n",
       "      <td>9000 Overland Avenue</td>\n",
       "      <td>Culver City</td>\n",
       "      <td>90230</td>\n",
       "      <td>310.287.4200</td>\n",
       "      <td>www.wlac.edu</td>\n",
       "      <td>34.001820</td>\n",
       "      <td>-118.391139</td>\n",
       "      <td>WLAC logo-color.jpg</td>\n",
       "      <td>None</td>\n",
       "    </tr>\n",
       "  </tbody>\n",
       "</table>\n",
       "</div>"
      ],
      "text/plain": [
       "   CollegeID                          CollegeName DistrictID  \\\n",
       "78       741             Los Angeles City College        740   \n",
       "79       742           Los Angeles Harbor College        740   \n",
       "80       743          Los Angeles Mission College        740   \n",
       "81       744           Los Angeles Pierce College        740   \n",
       "82       745        Los Angeles Southwest College        740   \n",
       "83       746  Los Angeles Trade-Technical College        740   \n",
       "84       747           Los Angeles Valley College        740   \n",
       "85       748             East Los Angeles College        740   \n",
       "86       749             West Los Angeles College        740   \n",
       "\n",
       "                    StreetAddress            City         County    Zip  \\\n",
       "78       855 North Vermont Avenue     Los Angeles   Los Angeles   90029   \n",
       "79            1111 Figueroa Place      Wilmington   Los Angeles   90744   \n",
       "80          13356 Eldridge Avenue          Sylmar   Los Angeles   91342   \n",
       "81           6201 Winnetka Avenue  Woodland Hills   Los Angeles   91371   \n",
       "82     1600 West Imperial Highway     Los Angeles   Los Angeles   90047   \n",
       "83  400 West Washington Boulevard     Los Angeles   Los Angeles   90015   \n",
       "84             5800 Fulton Avenue        Van Nuys   Los Angeles   91401   \n",
       "85      1301 Avenida Cesar Chavez   Monterey Park   Los Angeles   91754   \n",
       "86           9000 Overland Avenue     Culver City   Los Angeles   90230   \n",
       "\n",
       "   ZipPlus4                  MailingAddress     MailingCity MailingZip  \\\n",
       "78     3590       855 North Vermont Avenue      Los Angeles      90029   \n",
       "79     2397            1111 Figueroa Place       Wilmington      90744   \n",
       "80     3200          13356 Eldridge Avenue           Sylmar      91342   \n",
       "81     0001           6201 Winnetka Avenue   Woodland Hills      91371   \n",
       "82     4899     1600 West Imperial Highway      Los Angeles      90047   \n",
       "83     4108  400 West Washington Boulevard      Los Angeles      90015   \n",
       "84     4096             5800 Fulton Avenue         Van Nuys      91401   \n",
       "85     6099      1301 Avenida Cesar Chavez    Monterey Park      91754   \n",
       "86     5002           9000 Overland Avenue      Culver City      90230   \n",
       "\n",
       "            Phone             WebsiteURL   Latitude   Longitude  \\\n",
       "78  323.953.4000   www.lacitycollege.edu  34.086844 -118.291864   \n",
       "79  310.233.4000            www.lahc.edu  33.784817 -118.281649   \n",
       "80  818.364.7600       www.lamission.edu  34.314604 -118.420189   \n",
       "81  818.719.6401   www.piercecollege.edu  34.183189 -118.571124   \n",
       "82  323.241.5225            www.lasc.edu  33.930808 -118.304588   \n",
       "83  213.763.7000           www.lattc.edu  34.033038 -118.269624   \n",
       "84  818.947.2600            www.lavc.edu  34.176044 -118.422335   \n",
       "85  323.265.8650            www.elac.edu  34.039736 -118.148754   \n",
       "86  310.287.4200            www.wlac.edu  34.001820 -118.391139   \n",
       "\n",
       "                                LogoURL District  \n",
       "78              Los Angeles CC-Logo.jpg     None  \n",
       "79      LosAngelesHarborCollegelogo.jpg     None  \n",
       "80             LosAngelesMClogocopy.jpg     None  \n",
       "81      LosAngelesPierceCollegeLogo.jpg     None  \n",
       "82       Los Angeles Southwest-logo.jpg     None  \n",
       "83                 LosAngelesTTlogo.jpg     None  \n",
       "84  Los Angeles Valley College-logo.jpg     None  \n",
       "85        EastLosAngelesCollegeLogo.jpg     None  \n",
       "86                  WLAC logo-color.jpg     None  "
      ]
     },
     "execution_count": 8,
     "metadata": {},
     "output_type": "execute_result"
    }
   ],
   "source": [
    "# There is a clear largest district. What is it? \n",
    "\n",
    "biggest_district = all_districts.loc[\n",
    "    all_districts[\"CollegesPerDistrict\"] == 9,\n",
    "    \"DistrictID\"\n",
    "]\n",
    "\n",
    "all_colleges[all_colleges[\"DistrictID\"].isin(biggest_district)]"
   ]
  },
  {
   "cell_type": "code",
   "execution_count": 9,
   "metadata": {},
   "outputs": [
    {
     "data": {
      "image/png": "[encoded data removed]",
      "text/plain": [
       "<Figure size 1000x600 with 1 Axes>"
      ]
     },
     "metadata": {},
     "output_type": "display_data"
    }
   ],
   "source": [
    "ax = all_districts[\"CollegesPerDistrict\"].value_counts().plot(\n",
    "    kind=\"barh\",\n",
    "    title=\"Number of Colleges per District\",\n",
    "    xlabel=\"Count of Districts\",\n",
    "    ylabel=\"Number of Colleges Within the District\",\n",
    "    figsize=(10, 6),\n",
    "    rot=0,\n",
    "    cmap='viridis'\n",
    ")\n",
    "\n",
    "#plt.savefig(\"./figures/number_of_colleges_per_district.png\")\n",
    "plt.show()"
   ]
  },
  {
   "cell_type": "code",
   "execution_count": 10,
   "metadata": {},
   "outputs": [],
   "source": [
    "# If a distict has only one college, we'll call it a \"Single College District\"\n",
    "\n",
    "all_districts.loc[\n",
    "    all_districts[\"Colleges\"].apply(len) == 1, \"DistrictName\"\n",
    "] = \"Single College District\""
   ]
  },
  {
   "cell_type": "code",
   "execution_count": 11,
   "metadata": {},
   "outputs": [
    {
     "data": {
      "text/plain": [
       "DistrictName\n",
       "Single College District                                    49\n",
       "Grossmont-Cuyamaca                                          1\n",
       "Riverside                                                   1\n",
       "South Orange County                                         1\n",
       "Rancho Santiago                                             1\n",
       "North Orange County                                         1\n",
       "Coast                                                       1\n",
       "Los Angeles                                                 1\n",
       "Ventura County                                              1\n",
       "Yosemite                                                    1\n",
       "West Hills                                                  1\n",
       "State Center                                                1\n",
       "Kern                                                        1\n",
       "West Valley-Mission                                         1\n",
       "Chabot-Las Positas                                          1\n",
       "San José-Evergreen                                          1\n",
       "Foothill-De Anza                                            1\n",
       "San Mateo County                                            1\n",
       "Peralta                                                     1\n",
       "Contra Costa                                                1\n",
       "Yuba                                                        1\n",
       "Los Rios                                                    1\n",
       "San Diego                                                   1\n",
       "San Bernardino                                              1\n",
       "Name: count, dtype: int64"
      ]
     },
     "execution_count": 11,
     "metadata": {},
     "output_type": "execute_result"
    }
   ],
   "source": [
    "all_districts[\"DistrictName\"].value_counts()"
   ]
  },
  {
   "cell_type": "code",
   "execution_count": 12,
   "metadata": {},
   "outputs": [
    {
     "data": {
      "text/html": [
       "<div>\n",
       "<style scoped>\n",
       "    .dataframe tbody tr th:only-of-type {\n",
       "        vertical-align: middle;\n",
       "    }\n",
       "\n",
       "    .dataframe tbody tr th {\n",
       "        vertical-align: top;\n",
       "    }\n",
       "\n",
       "    .dataframe thead th {\n",
       "        text-align: right;\n",
       "    }\n",
       "</style>\n",
       "<table border=\"1\" class=\"dataframe\">\n",
       "  <thead>\n",
       "    <tr style=\"text-align: right;\">\n",
       "      <th></th>\n",
       "      <th>CollegeID</th>\n",
       "      <th>CollegeName</th>\n",
       "      <th>DistrictID</th>\n",
       "      <th>StreetAddress</th>\n",
       "      <th>City</th>\n",
       "      <th>County</th>\n",
       "      <th>Zip</th>\n",
       "      <th>ZipPlus4</th>\n",
       "      <th>MailingAddress</th>\n",
       "      <th>MailingCity</th>\n",
       "      <th>...</th>\n",
       "      <th>Phone</th>\n",
       "      <th>WebsiteURL</th>\n",
       "      <th>Latitude</th>\n",
       "      <th>Longitude</th>\n",
       "      <th>LogoURL</th>\n",
       "      <th>District</th>\n",
       "      <th>DistrictName</th>\n",
       "      <th>DistrictTitle</th>\n",
       "      <th>WebsiteURLDistrict</th>\n",
       "      <th>CollegesPerDistrict</th>\n",
       "    </tr>\n",
       "  </thead>\n",
       "  <tbody>\n",
       "    <tr>\n",
       "      <th>0</th>\n",
       "      <td>021</td>\n",
       "      <td>Cuyamaca College</td>\n",
       "      <td>020</td>\n",
       "      <td>900 Rancho San Diego Parkway</td>\n",
       "      <td>El Cajon</td>\n",
       "      <td>San Diego</td>\n",
       "      <td>92019</td>\n",
       "      <td>4304</td>\n",
       "      <td>900 Rancho San Diego Parkway</td>\n",
       "      <td>El Cajon</td>\n",
       "      <td>...</td>\n",
       "      <td>619.660.4000</td>\n",
       "      <td>www.cuyamaca.edu</td>\n",
       "      <td>32.744890</td>\n",
       "      <td>-116.935229</td>\n",
       "      <td>CuyamacaCollegeLogo.jpg</td>\n",
       "      <td>None</td>\n",
       "      <td>Grossmont-Cuyamaca                            ...</td>\n",
       "      <td>Grossmont-Cuyamaca Community College District</td>\n",
       "      <td>www.gcccd.edu</td>\n",
       "      <td>2</td>\n",
       "    </tr>\n",
       "    <tr>\n",
       "      <th>1</th>\n",
       "      <td>022</td>\n",
       "      <td>Grossmont College</td>\n",
       "      <td>020</td>\n",
       "      <td>8800 Grossmont College Drive</td>\n",
       "      <td>El Cajon</td>\n",
       "      <td>San Diego</td>\n",
       "      <td>92020</td>\n",
       "      <td>1799</td>\n",
       "      <td>8800 Grossmont College Drive</td>\n",
       "      <td>El Cajon</td>\n",
       "      <td>...</td>\n",
       "      <td>619.644.7000</td>\n",
       "      <td>www.grossmont.edu</td>\n",
       "      <td>32.817897</td>\n",
       "      <td>-117.005640</td>\n",
       "      <td>GrossmontCollegelogo.jpg</td>\n",
       "      <td>None</td>\n",
       "      <td>Grossmont-Cuyamaca                            ...</td>\n",
       "      <td>Grossmont-Cuyamaca Community College District</td>\n",
       "      <td>www.gcccd.edu</td>\n",
       "      <td>2</td>\n",
       "    </tr>\n",
       "    <tr>\n",
       "      <th>2</th>\n",
       "      <td>031</td>\n",
       "      <td>Imperial Valley College</td>\n",
       "      <td>030</td>\n",
       "      <td>380 East Aten Road</td>\n",
       "      <td>Imperial</td>\n",
       "      <td>Imperial</td>\n",
       "      <td>92251</td>\n",
       "      <td>9787</td>\n",
       "      <td>380 East Aten Road</td>\n",
       "      <td>Imperial</td>\n",
       "      <td>...</td>\n",
       "      <td>760.352.8320</td>\n",
       "      <td>www.imperial.edu</td>\n",
       "      <td>32.825859</td>\n",
       "      <td>-115.502999</td>\n",
       "      <td>ImperialValleyCollegeLogocopy.jpg</td>\n",
       "      <td>None</td>\n",
       "      <td>Single College District</td>\n",
       "      <td>Imperial Community College District</td>\n",
       "      <td>www.imperial.edu</td>\n",
       "      <td>1</td>\n",
       "    </tr>\n",
       "    <tr>\n",
       "      <th>3</th>\n",
       "      <td>051</td>\n",
       "      <td>MiraCosta College</td>\n",
       "      <td>050</td>\n",
       "      <td>1 Barnard Drive</td>\n",
       "      <td>Oceanside</td>\n",
       "      <td>San Diego</td>\n",
       "      <td>92056</td>\n",
       "      <td>3899</td>\n",
       "      <td>1 Barnard Drive</td>\n",
       "      <td>Oceanside</td>\n",
       "      <td>...</td>\n",
       "      <td>760.757.2121</td>\n",
       "      <td>www.miracosta.edu</td>\n",
       "      <td>33.188864</td>\n",
       "      <td>-117.301064</td>\n",
       "      <td>Mira_Costa_College_Logo_4c.png</td>\n",
       "      <td>None</td>\n",
       "      <td>Single College District</td>\n",
       "      <td>MiraCosta Community College District</td>\n",
       "      <td>www.miracosta.edu</td>\n",
       "      <td>1</td>\n",
       "    </tr>\n",
       "    <tr>\n",
       "      <th>4</th>\n",
       "      <td>061</td>\n",
       "      <td>Palomar College</td>\n",
       "      <td>060</td>\n",
       "      <td>1140 West Mission Road</td>\n",
       "      <td>San Marcos</td>\n",
       "      <td>San Diego</td>\n",
       "      <td>92069</td>\n",
       "      <td>1487</td>\n",
       "      <td>1140 West Mission Road</td>\n",
       "      <td>San Marcos</td>\n",
       "      <td>...</td>\n",
       "      <td>760.744.1150</td>\n",
       "      <td>www.palomar.edu</td>\n",
       "      <td>33.147015</td>\n",
       "      <td>-117.183980</td>\n",
       "      <td>PalomarCollegeLogo.jpg</td>\n",
       "      <td>None</td>\n",
       "      <td>Single College District</td>\n",
       "      <td>Palomar Community College District</td>\n",
       "      <td>www.palomar.edu</td>\n",
       "      <td>1</td>\n",
       "    </tr>\n",
       "  </tbody>\n",
       "</table>\n",
       "<p>5 rows × 21 columns</p>\n",
       "</div>"
      ],
      "text/plain": [
       "  CollegeID              CollegeName DistrictID                 StreetAddress  \\\n",
       "0       021         Cuyamaca College        020  900 Rancho San Diego Parkway   \n",
       "1       022        Grossmont College        020  8800 Grossmont College Drive   \n",
       "2       031  Imperial Valley College        030            380 East Aten Road   \n",
       "3       051        MiraCosta College        050               1 Barnard Drive   \n",
       "4       061          Palomar College        060        1140 West Mission Road   \n",
       "\n",
       "         City      County    Zip ZipPlus4                 MailingAddress  \\\n",
       "0    El Cajon  San Diego   92019     4304   900 Rancho San Diego Parkway   \n",
       "1    El Cajon  San Diego   92020     1799  8800 Grossmont College Drive    \n",
       "2    Imperial   Imperial   92251     9787            380 East Aten Road    \n",
       "3   Oceanside  San Diego   92056     3899               1 Barnard Drive    \n",
       "4  San Marcos  San Diego   92069     1487        1140 West Mission Road    \n",
       "\n",
       "  MailingCity  ...          Phone         WebsiteURL   Latitude   Longitude  \\\n",
       "0    El Cajon  ...  619.660.4000    www.cuyamaca.edu  32.744890 -116.935229   \n",
       "1    El Cajon  ...  619.644.7000   www.grossmont.edu  32.817897 -117.005640   \n",
       "2    Imperial  ...  760.352.8320    www.imperial.edu  32.825859 -115.502999   \n",
       "3   Oceanside  ...  760.757.2121   www.miracosta.edu  33.188864 -117.301064   \n",
       "4  San Marcos  ...  760.744.1150     www.palomar.edu  33.147015 -117.183980   \n",
       "\n",
       "                             LogoURL District  \\\n",
       "0            CuyamacaCollegeLogo.jpg     None   \n",
       "1           GrossmontCollegelogo.jpg     None   \n",
       "2  ImperialValleyCollegeLogocopy.jpg     None   \n",
       "3     Mira_Costa_College_Logo_4c.png     None   \n",
       "4             PalomarCollegeLogo.jpg     None   \n",
       "\n",
       "                                        DistrictName  \\\n",
       "0  Grossmont-Cuyamaca                            ...   \n",
       "1  Grossmont-Cuyamaca                            ...   \n",
       "2                            Single College District   \n",
       "3                            Single College District   \n",
       "4                            Single College District   \n",
       "\n",
       "                                   DistrictTitle WebsiteURLDistrict  \\\n",
       "0  Grossmont-Cuyamaca Community College District      www.gcccd.edu   \n",
       "1  Grossmont-Cuyamaca Community College District      www.gcccd.edu   \n",
       "2            Imperial Community College District   www.imperial.edu   \n",
       "3           MiraCosta Community College District  www.miracosta.edu   \n",
       "4             Palomar Community College District    www.palomar.edu   \n",
       "\n",
       "  CollegesPerDistrict  \n",
       "0                   2  \n",
       "1                   2  \n",
       "2                   1  \n",
       "3                   1  \n",
       "4                   1  \n",
       "\n",
       "[5 rows x 21 columns]"
      ]
     },
     "execution_count": 12,
     "metadata": {},
     "output_type": "execute_result"
    }
   ],
   "source": [
    "# Append district data to the college dataset.\n",
    "\n",
    "all_colleges = pd.merge(\n",
    "    all_colleges,\n",
    "    all_districts.drop(\n",
    "        columns=[\n",
    "            \"StreetAddress\",\n",
    "            \"City\",\n",
    "            \"Zip\",\n",
    "            \"Phone\",\n",
    "            \"Boundaries\",\n",
    "            \"Colleges\",\n",
    "        ]\n",
    "    ),\n",
    "    on='DistrictID',\n",
    "    how='left',\n",
    "    suffixes=('', 'District')\n",
    ")\n",
    "\n",
    "all_colleges.head()"
   ]
  },
  {
   "cell_type": "code",
   "execution_count": 13,
   "metadata": {},
   "outputs": [
    {
     "data": {
      "application/vnd.plotly.v1+json": {
       "config": {
        "plotlyServerURL": "https://plot.ly"
       },
       "data": [
        {
         "hovertemplate": "<b>%{hovertext}</b><br><br>District=Grossmont-Cuyamaca                                     <br>Latitude=%{lat}<br>Longitude=%{lon}<extra></extra>",
         "hovertext": [
          "Cuyamaca College",
          "Grossmont College"
         ],
         "lat": [
          32.74489,
          32.817897
         ],
         "legendgroup": "Grossmont-Cuyamaca                                     ",
         "lon": [
          -116.935229,
          -117.00564
         ],
         "marker": {
          "color": "#636efa",
          "size": 6
         },
         "mode": "markers",
         "name": "Grossmont-Cuyamaca                                     ",
         "showlegend": true,
         "subplot": "mapbox",
         "type": "scattermapbox"
        },
        {
         "hovertemplate": "<b>%{hovertext}</b><br><br>District=Single College District<br>Latitude=%{lat}<br>Longitude=%{lon}<extra></extra>",
         "hovertext": [
          "Imperial Valley College",
          "MiraCosta College",
          "Palomar College",
          "Southwestern College",
          "Butte College",
          "Feather River College",
          "Lassen Community College",
          "Mendocino College",
          "College of the Redwoods",
          "Shasta College",
          "College of the Siskiyous",
          "Lake Tahoe Community College",
          "Napa Valley College",
          "Santa Rosa Junior College",
          "Sierra College",
          "Solano Community College",
          "College of Marin",
          "City College of San Francisco",
          "Cabrillo College",
          "Ohlone College",
          "Gavilan College",
          "Hartnell College",
          "Monterey Peninsula College",
          "Merced College",
          "San Joaquin Delta College",
          "College of the Sequoias",
          "Allan Hancock College",
          "Antelope Valley College",
          "Cuesta College",
          "Santa Barbara City College",
          "College of the Canyons",
          "Taft College",
          "Compton College",
          "El Camino College",
          "Glendale Community College",
          "Pasadena City College",
          "Santa Monica College",
          "Cerritos College",
          "Citrus College",
          "Long Beach City College",
          "Mt. San Antonio College",
          "Rio Hondo College",
          "Barstow Community College",
          "Chaffey College",
          "College of the Desert",
          "Mt. San Jacinto College",
          "Palo Verde College",
          "Copper Mountain College",
          "Victor Valley College"
         ],
         "lat": [
          32.825859,
          33.188864,
          33.147015,
          32.641828,
          39.647365,
          39.95095,
          40.432698,
          39.185684,
          40.70504,
          40.634751,
          41.412714,
          38.926708,
          38.27363,
          38.454805,
          38.788501,
          38.232644,
          37.953801,
          37.724247,
          36.9883421,
          37.527822,
          36.9762761,
          36.673843,
          36.5947521,
          37.333957,
          37.995974,
          36.322927,
          34.9421711,
          34.675044,
          35.3330991,
          34.4067171,
          34.402685,
          35.149388,
          33.874393,
          33.884799,
          34.168679,
          34.145852,
          34.018915,
          33.88766,
          34.135857,
          33.832509,
          34.043398,
          34.019628,
          34.87077,
          34.146492,
          33.732329,
          33.807225,
          33.610395,
          34.141518,
          34.471081
         ],
         "legendgroup": "Single College District",
         "lon": [
          -115.502999,
          -117.301064,
          -117.18398,
          -116.994018,
          -121.649277,
          -120.970148,
          -120.635333,
          -123.219601,
          -124.207829,
          -122.325779,
          -122.395695,
          -119.971093,
          -122.272936,
          -122.717412,
          -121.209383,
          -122.126308,
          -122.548962,
          -122.452332,
          -121.9250651,
          -121.918369,
          -121.5690541,
          -121.664833,
          -121.8873291,
          -120.477941,
          -121.314813,
          -119.314184,
          -120.4247051,
          -118.184579,
          -120.7428041,
          -119.7002881,
          -118.566617,
          -119.458858,
          -118.2092632,
          -118.326698,
          -118.22837,
          -118.117937,
          -118.470329,
          -118.066309,
          -117.884995,
          -118.135245,
          -117.847776,
          -118.037848,
          -117.021172,
          -117.575627,
          -116.391,
          -116.971923,
          -114.598849,
          -116.212214,
          -117.260293
         ],
         "marker": {
          "color": "#EF553B",
          "size": 6
         },
         "mode": "markers",
         "name": "Single College District",
         "showlegend": true,
         "subplot": "mapbox",
         "type": "scattermapbox"
        },
        {
         "hovertemplate": "<b>%{hovertext}</b><br><br>District=San Diego                                              <br>Latitude=%{lat}<br>Longitude=%{lon}<extra></extra>",
         "hovertext": [
          "San Diego City College",
          "San Diego Mesa College",
          "San Diego Miramar College"
         ],
         "lat": [
          32.718957,
          32.803441,
          32.908849
         ],
         "legendgroup": "San Diego                                              ",
         "lon": [
          -117.153631,
          -117.164172,
          -117.123989
         ],
         "marker": {
          "color": "#00cc96",
          "size": 6
         },
         "mode": "markers",
         "name": "San Diego                                              ",
         "showlegend": true,
         "subplot": "mapbox",
         "type": "scattermapbox"
        },
        {
         "hovertemplate": "<b>%{hovertext}</b><br><br>District=Los Rios                                               <br>Latitude=%{lat}<br>Longitude=%{lon}<extra></extra>",
         "hovertext": [
          "American River College",
          "Cosumnes River College",
          "Sacramento City College",
          "Folsom Lake College"
         ],
         "lat": [
          38.650125,
          38.455405,
          38.541473,
          38.65825
         ],
         "legendgroup": "Los Rios                                               ",
         "lon": [
          -121.350283,
          -121.427561,
          -121.491631,
          -121.128419
         ],
         "marker": {
          "color": "#ab63fa",
          "size": 6
         },
         "mode": "markers",
         "name": "Los Rios                                               ",
         "showlegend": true,
         "subplot": "mapbox",
         "type": "scattermapbox"
        },
        {
         "hovertemplate": "<b>%{hovertext}</b><br><br>District=Yuba                                                   <br>Latitude=%{lat}<br>Longitude=%{lon}<extra></extra>",
         "hovertext": [
          "Yuba College",
          "Woodland Community College"
         ],
         "lat": [
          39.127895,
          38.662461
         ],
         "legendgroup": "Yuba                                                   ",
         "lon": [
          -121.539753,
          -121.735667
         ],
         "marker": {
          "color": "#FFA15A",
          "size": 6
         },
         "mode": "markers",
         "name": "Yuba                                                   ",
         "showlegend": true,
         "subplot": "mapbox",
         "type": "scattermapbox"
        },
        {
         "hovertemplate": "<b>%{hovertext}</b><br><br>District=Contra Costa                                           <br>Latitude=%{lat}<br>Longitude=%{lon}<extra></extra>",
         "hovertext": [
          "Contra Costa College",
          "Diablo Valley College",
          "Los Medanos College"
         ],
         "lat": [
          37.96696,
          37.971268,
          38.008082
         ],
         "legendgroup": "Contra Costa                                           ",
         "lon": [
          -122.343213,
          -122.070027,
          -121.860106
         ],
         "marker": {
          "color": "#19d3f3",
          "size": 6
         },
         "mode": "markers",
         "name": "Contra Costa                                           ",
         "showlegend": true,
         "subplot": "mapbox",
         "type": "scattermapbox"
        },
        {
         "hovertemplate": "<b>%{hovertext}</b><br><br>District=Peralta                                                <br>Latitude=%{lat}<br>Longitude=%{lon}<extra></extra>",
         "hovertext": [
          "College of Alameda",
          "Laney College",
          "Merritt College",
          "Berkeley City College"
         ],
         "lat": [
          37.779899,
          37.797205,
          37.791241,
          37.869997
         ],
         "legendgroup": "Peralta                                                ",
         "lon": [
          -122.280515,
          -122.263717,
          -122.16773,
          -122.269272
         ],
         "marker": {
          "color": "#FF6692",
          "size": 6
         },
         "mode": "markers",
         "name": "Peralta                                                ",
         "showlegend": true,
         "subplot": "mapbox",
         "type": "scattermapbox"
        },
        {
         "hovertemplate": "<b>%{hovertext}</b><br><br>District=San Mateo County                                       <br>Latitude=%{lat}<br>Longitude=%{lon}<extra></extra>",
         "hovertext": [
          "Cañada College",
          "College of San Mateo",
          "Skyline College"
         ],
         "lat": [
          37.447235,
          37.531806,
          37.632218
         ],
         "legendgroup": "San Mateo County                                       ",
         "lon": [
          -122.260516,
          -122.33523,
          -122.461335
         ],
         "marker": {
          "color": "#B6E880",
          "size": 6
         },
         "mode": "markers",
         "name": "San Mateo County                                       ",
         "showlegend": true,
         "subplot": "mapbox",
         "type": "scattermapbox"
        },
        {
         "hovertemplate": "<b>%{hovertext}</b><br><br>District=Foothill-De Anza                                       <br>Latitude=%{lat}<br>Longitude=%{lon}<extra></extra>",
         "hovertext": [
          "De Anza College",
          "Foothill College"
         ],
         "lat": [
          37.322667,
          37.359792
         ],
         "legendgroup": "Foothill-De Anza                                       ",
         "lon": [
          -122.045855,
          -122.122352
         ],
         "marker": {
          "color": "#FF97FF",
          "size": 6
         },
         "mode": "markers",
         "name": "Foothill-De Anza                                       ",
         "showlegend": true,
         "subplot": "mapbox",
         "type": "scattermapbox"
        },
        {
         "hovertemplate": "<b>%{hovertext}</b><br><br>District=San José-Evergreen                                     <br>Latitude=%{lat}<br>Longitude=%{lon}<extra></extra>",
         "hovertext": [
          "Evergreen Valley College",
          "San José City College"
         ],
         "lat": [
          37.2979351,
          37.3163381
         ],
         "legendgroup": "San José-Evergreen                                     ",
         "lon": [
          -121.761481,
          -121.926891
         ],
         "marker": {
          "color": "#FECB52",
          "size": 6
         },
         "mode": "markers",
         "name": "San José-Evergreen                                     ",
         "showlegend": true,
         "subplot": "mapbox",
         "type": "scattermapbox"
        },
        {
         "hovertemplate": "<b>%{hovertext}</b><br><br>District=Chabot-Las Positas                                     <br>Latitude=%{lat}<br>Longitude=%{lon}<extra></extra>",
         "hovertext": [
          "Las Positas College",
          "Chabot College"
         ],
         "lat": [
          37.7086,
          37.642865
         ],
         "legendgroup": "Chabot-Las Positas                                     ",
         "lon": [
          -121.804916,
          -122.104307
         ],
         "marker": {
          "color": "#636efa",
          "size": 6
         },
         "mode": "markers",
         "name": "Chabot-Las Positas                                     ",
         "showlegend": true,
         "subplot": "mapbox",
         "type": "scattermapbox"
        },
        {
         "hovertemplate": "<b>%{hovertext}</b><br><br>District=West Valley-Mission                                    <br>Latitude=%{lat}<br>Longitude=%{lon}<extra></extra>",
         "hovertext": [
          "Mission College",
          "West Valley College"
         ],
         "lat": [
          37.391842,
          37.265841
         ],
         "legendgroup": "West Valley-Mission                                    ",
         "lon": [
          -121.980134,
          -122.013575
         ],
         "marker": {
          "color": "#EF553B",
          "size": 6
         },
         "mode": "markers",
         "name": "West Valley-Mission                                    ",
         "showlegend": true,
         "subplot": "mapbox",
         "type": "scattermapbox"
        },
        {
         "hovertemplate": "<b>%{hovertext}</b><br><br>District=Kern                                                   <br>Latitude=%{lat}<br>Longitude=%{lon}<extra></extra>",
         "hovertext": [
          "Bakersfield College",
          "Cerro Coso Community College",
          "Porterville College"
         ],
         "lat": [
          35.410795,
          35.568673,
          36.048309
         ],
         "legendgroup": "Kern                                                   ",
         "lon": [
          -118.9735,
          -117.670047,
          -119.014193
         ],
         "marker": {
          "color": "#00cc96",
          "size": 6
         },
         "mode": "markers",
         "name": "Kern                                                   ",
         "showlegend": true,
         "subplot": "mapbox",
         "type": "scattermapbox"
        },
        {
         "hovertemplate": "<b>%{hovertext}</b><br><br>District=State Center                                           <br>Latitude=%{lat}<br>Longitude=%{lon}<extra></extra>",
         "hovertext": [
          "Fresno City College",
          "Reedley College",
          "Madera Community College",
          "Clovis Community College"
         ],
         "lat": [
          36.766625,
          36.605852,
          36.924985,
          36.884529
         ],
         "legendgroup": "State Center                                           ",
         "lon": [
          -119.798312,
          -119.457834,
          -119.998072,
          -119.73
         ],
         "marker": {
          "color": "#ab63fa",
          "size": 6
         },
         "mode": "markers",
         "name": "State Center                                           ",
         "showlegend": true,
         "subplot": "mapbox",
         "type": "scattermapbox"
        },
        {
         "hovertemplate": "<b>%{hovertext}</b><br><br>District=West Hills                                             <br>Latitude=%{lat}<br>Longitude=%{lon}<extra></extra>",
         "hovertext": [
          "Coalinga College",
          "Lemoore College"
         ],
         "lat": [
          36.147575,
          36.292286
         ],
         "legendgroup": "West Hills                                             ",
         "lon": [
          -120.357183,
          -119.821752
         ],
         "marker": {
          "color": "#FFA15A",
          "size": 6
         },
         "mode": "markers",
         "name": "West Hills                                             ",
         "showlegend": true,
         "subplot": "mapbox",
         "type": "scattermapbox"
        },
        {
         "hovertemplate": "<b>%{hovertext}</b><br><br>District=Yosemite                                               <br>Latitude=%{lat}<br>Longitude=%{lon}<extra></extra>",
         "hovertext": [
          "Columbia College",
          "Modesto Junior College"
         ],
         "lat": [
          38.032148,
          37.650879
         ],
         "legendgroup": "Yosemite                                               ",
         "lon": [
          -120.389719,
          -121.007474
         ],
         "marker": {
          "color": "#19d3f3",
          "size": 6
         },
         "mode": "markers",
         "name": "Yosemite                                               ",
         "showlegend": true,
         "subplot": "mapbox",
         "type": "scattermapbox"
        },
        {
         "hovertemplate": "<b>%{hovertext}</b><br><br>District=Ventura County                                         <br>Latitude=%{lat}<br>Longitude=%{lon}<extra></extra>",
         "hovertext": [
          "Moorpark College",
          "Oxnard College",
          "Ventura College"
         ],
         "lat": [
          34.301162,
          34.1677431,
          34.2757611
         ],
         "legendgroup": "Ventura County                                         ",
         "lon": [
          -118.831972,
          -119.1593981,
          -119.2304871
         ],
         "marker": {
          "color": "#FF6692",
          "size": 6
         },
         "mode": "markers",
         "name": "Ventura County                                         ",
         "showlegend": true,
         "subplot": "mapbox",
         "type": "scattermapbox"
        },
        {
         "hovertemplate": "<b>%{hovertext}</b><br><br>District=Los Angeles                                            <br>Latitude=%{lat}<br>Longitude=%{lon}<extra></extra>",
         "hovertext": [
          "Los Angeles City College",
          "Los Angeles Harbor College",
          "Los Angeles Mission College",
          "Los Angeles Pierce College",
          "Los Angeles Southwest College",
          "Los Angeles Trade-Technical College",
          "Los Angeles Valley College",
          "East Los Angeles College",
          "West Los Angeles College"
         ],
         "lat": [
          34.086844,
          33.784817,
          34.314604,
          34.183189,
          33.930808,
          34.033038,
          34.176044,
          34.039736,
          34.00182
         ],
         "legendgroup": "Los Angeles                                            ",
         "lon": [
          -118.291864,
          -118.281649,
          -118.420189,
          -118.571124,
          -118.304588,
          -118.269624,
          -118.422335,
          -118.148754,
          -118.391139
         ],
         "marker": {
          "color": "#B6E880",
          "size": 6
         },
         "mode": "markers",
         "name": "Los Angeles                                            ",
         "showlegend": true,
         "subplot": "mapbox",
         "type": "scattermapbox"
        },
        {
         "hovertemplate": "<b>%{hovertext}</b><br><br>District=Coast                                                  <br>Latitude=%{lat}<br>Longitude=%{lon}<extra></extra>",
         "hovertext": [
          "Coastline College",
          "Golden West College",
          "Orange Coast College"
         ],
         "lat": [
          33.716208,
          33.732291,
          33.67204
         ],
         "legendgroup": "Coast                                                  ",
         "lon": [
          -117.929166,
          -118.006656,
          -117.907979
         ],
         "marker": {
          "color": "#FF97FF",
          "size": 6
         },
         "mode": "markers",
         "name": "Coast                                                  ",
         "showlegend": true,
         "subplot": "mapbox",
         "type": "scattermapbox"
        },
        {
         "hovertemplate": "<b>%{hovertext}</b><br><br>District=North Orange County                                    <br>Latitude=%{lat}<br>Longitude=%{lon}<extra></extra>",
         "hovertext": [
          "Cypress College",
          "Fullerton College"
         ],
         "lat": [
          33.82834,
          33.874148
         ],
         "legendgroup": "North Orange County                                    ",
         "lon": [
          -118.028153,
          -117.920096
         ],
         "marker": {
          "color": "#FECB52",
          "size": 6
         },
         "mode": "markers",
         "name": "North Orange County                                    ",
         "showlegend": true,
         "subplot": "mapbox",
         "type": "scattermapbox"
        },
        {
         "hovertemplate": "<b>%{hovertext}</b><br><br>District=Rancho Santiago                                        <br>Latitude=%{lat}<br>Longitude=%{lon}<extra></extra>",
         "hovertext": [
          "Santa Ana College",
          "Santiago Canyon College"
         ],
         "lat": [
          33.75983,
          33.794694
         ],
         "legendgroup": "Rancho Santiago                                        ",
         "lon": [
          -117.888996,
          -117.769334
         ],
         "marker": {
          "color": "#636efa",
          "size": 6
         },
         "mode": "markers",
         "name": "Rancho Santiago                                        ",
         "showlegend": true,
         "subplot": "mapbox",
         "type": "scattermapbox"
        },
        {
         "hovertemplate": "<b>%{hovertext}</b><br><br>District=South Orange County                                    <br>Latitude=%{lat}<br>Longitude=%{lon}<extra></extra>",
         "hovertext": [
          "Saddleback College",
          "Irvine Valley College"
         ],
         "lat": [
          33.557694,
          33.679097
         ],
         "legendgroup": "South Orange County                                    ",
         "lon": [
          -117.664457,
          -117.778525
         ],
         "marker": {
          "color": "#EF553B",
          "size": 6
         },
         "mode": "markers",
         "name": "South Orange County                                    ",
         "showlegend": true,
         "subplot": "mapbox",
         "type": "scattermapbox"
        },
        {
         "hovertemplate": "<b>%{hovertext}</b><br><br>District=Riverside                                              <br>Latitude=%{lat}<br>Longitude=%{lon}<extra></extra>",
         "hovertext": [
          "Riverside City College",
          "Moreno Valley College",
          "Norco College"
         ],
         "lat": [
          33.971771,
          33.887025,
          33.915421
         ],
         "legendgroup": "Riverside                                              ",
         "lon": [
          -117.384356,
          -117.20505,
          -117.568755
         ],
         "marker": {
          "color": "#00cc96",
          "size": 6
         },
         "mode": "markers",
         "name": "Riverside                                              ",
         "showlegend": true,
         "subplot": "mapbox",
         "type": "scattermapbox"
        },
        {
         "hovertemplate": "<b>%{hovertext}</b><br><br>District=San Bernardino                                         <br>Latitude=%{lat}<br>Longitude=%{lon}<extra></extra>",
         "hovertext": [
          "Crafton Hills College",
          "San Bernardino Valley College"
         ],
         "lat": [
          34.041104,
          34.088099
         ],
         "legendgroup": "San Bernardino                                         ",
         "lon": [
          -117.107133,
          -117.313704
         ],
         "marker": {
          "color": "#ab63fa",
          "size": 6
         },
         "mode": "markers",
         "name": "San Bernardino                                         ",
         "showlegend": true,
         "subplot": "mapbox",
         "type": "scattermapbox"
        }
       ],
       "layout": {
        "height": 800,
        "legend": {
         "title": {
          "text": "District"
         },
         "tracegroupgap": 0
        },
        "mapbox": {
         "center": {
          "lat": 35.86590452173913,
          "lon": -119.63765350434782
         },
         "domain": {
          "x": [
           0,
           1
          ],
          "y": [
           0,
           1
          ]
         },
         "style": "carto-positron",
         "zoom": 5
        },
        "template": {
         "data": {
          "bar": [
           {
            "error_x": {
             "color": "#2a3f5f"
            },
            "error_y": {
             "color": "#2a3f5f"
            },
            "marker": {
             "line": {
              "color": "white",
              "width": 0.5
             },
             "pattern": {
              "fillmode": "overlay",
              "size": 10,
              "solidity": 0.2
             }
            },
            "type": "bar"
           }
          ],
          "barpolar": [
           {
            "marker": {
             "line": {
              "color": "white",
              "width": 0.5
             },
             "pattern": {
              "fillmode": "overlay",
              "size": 10,
              "solidity": 0.2
             }
            },
            "type": "barpolar"
           }
          ],
          "carpet": [
           {
            "aaxis": {
             "endlinecolor": "#2a3f5f",
             "gridcolor": "#C8D4E3",
             "linecolor": "#C8D4E3",
             "minorgridcolor": "#C8D4E3",
             "startlinecolor": "#2a3f5f"
            },
            "baxis": {
             "endlinecolor": "#2a3f5f",
             "gridcolor": "#C8D4E3",
             "linecolor": "#C8D4E3",
             "minorgridcolor": "#C8D4E3",
             "startlinecolor": "#2a3f5f"
            },
            "type": "carpet"
           }
          ],
          "choropleth": [
           {
            "colorbar": {
             "outlinewidth": 0,
             "ticks": ""
            },
            "type": "choropleth"
           }
          ],
          "contour": [
           {
            "colorbar": {
             "outlinewidth": 0,
             "ticks": ""
            },
            "colorscale": [
             [
              0,
              "#0d0887"
             ],
             [
              0.1111111111111111,
              "#46039f"
             ],
             [
              0.2222222222222222,
              "#7201a8"
             ],
             [
              0.3333333333333333,
              "#9c179e"
             ],
             [
              0.4444444444444444,
              "#bd3786"
             ],
             [
              0.5555555555555556,
              "#d8576b"
             ],
             [
              0.6666666666666666,
              "#ed7953"
             ],
             [
              0.7777777777777778,
              "#fb9f3a"
             ],
             [
              0.8888888888888888,
              "#fdca26"
             ],
             [
              1,
              "#f0f921"
             ]
            ],
            "type": "contour"
           }
          ],
          "contourcarpet": [
           {
            "colorbar": {
             "outlinewidth": 0,
             "ticks": ""
            },
            "type": "contourcarpet"
           }
          ],
          "heatmap": [
           {
            "colorbar": {
             "outlinewidth": 0,
             "ticks": ""
            },
            "colorscale": [
             [
              0,
              "#0d0887"
             ],
             [
              0.1111111111111111,
              "#46039f"
             ],
             [
              0.2222222222222222,
              "#7201a8"
             ],
             [
              0.3333333333333333,
              "#9c179e"
             ],
             [
              0.4444444444444444,
              "#bd3786"
             ],
             [
              0.5555555555555556,
              "#d8576b"
             ],
             [
              0.6666666666666666,
              "#ed7953"
             ],
             [
              0.7777777777777778,
              "#fb9f3a"
             ],
             [
              0.8888888888888888,
              "#fdca26"
             ],
             [
              1,
              "#f0f921"
             ]
            ],
            "type": "heatmap"
           }
          ],
          "heatmapgl": [
           {
            "colorbar": {
             "outlinewidth": 0,
             "ticks": ""
            },
            "colorscale": [
             [
              0,
              "#0d0887"
             ],
             [
              0.1111111111111111,
              "#46039f"
             ],
             [
              0.2222222222222222,
              "#7201a8"
             ],
             [
              0.3333333333333333,
              "#9c179e"
             ],
             [
              0.4444444444444444,
              "#bd3786"
             ],
             [
              0.5555555555555556,
              "#d8576b"
             ],
             [
              0.6666666666666666,
              "#ed7953"
             ],
             [
              0.7777777777777778,
              "#fb9f3a"
             ],
             [
              0.8888888888888888,
              "#fdca26"
             ],
             [
              1,
              "#f0f921"
             ]
            ],
            "type": "heatmapgl"
           }
          ],
          "histogram": [
           {
            "marker": {
             "pattern": {
              "fillmode": "overlay",
              "size": 10,
              "solidity": 0.2
             }
            },
            "type": "histogram"
           }
          ],
          "histogram2d": [
           {
            "colorbar": {
             "outlinewidth": 0,
             "ticks": ""
            },
            "colorscale": [
             [
              0,
              "#0d0887"
             ],
             [
              0.1111111111111111,
              "#46039f"
             ],
             [
              0.2222222222222222,
              "#7201a8"
             ],
             [
              0.3333333333333333,
              "#9c179e"
             ],
             [
              0.4444444444444444,
              "#bd3786"
             ],
             [
              0.5555555555555556,
              "#d8576b"
             ],
             [
              0.6666666666666666,
              "#ed7953"
             ],
             [
              0.7777777777777778,
              "#fb9f3a"
             ],
             [
              0.8888888888888888,
              "#fdca26"
             ],
             [
              1,
              "#f0f921"
             ]
            ],
            "type": "histogram2d"
           }
          ],
          "histogram2dcontour": [
           {
            "colorbar": {
             "outlinewidth": 0,
             "ticks": ""
            },
            "colorscale": [
             [
              0,
              "#0d0887"
             ],
             [
              0.1111111111111111,
              "#46039f"
             ],
             [
              0.2222222222222222,
              "#7201a8"
             ],
             [
              0.3333333333333333,
              "#9c179e"
             ],
             [
              0.4444444444444444,
              "#bd3786"
             ],
             [
              0.5555555555555556,
              "#d8576b"
             ],
             [
              0.6666666666666666,
              "#ed7953"
             ],
             [
              0.7777777777777778,
              "#fb9f3a"
             ],
             [
              0.8888888888888888,
              "#fdca26"
             ],
             [
              1,
              "#f0f921"
             ]
            ],
            "type": "histogram2dcontour"
           }
          ],
          "mesh3d": [
           {
            "colorbar": {
             "outlinewidth": 0,
             "ticks": ""
            },
            "type": "mesh3d"
           }
          ],
          "parcoords": [
           {
            "line": {
             "colorbar": {
              "outlinewidth": 0,
              "ticks": ""
             }
            },
            "type": "parcoords"
           }
          ],
          "pie": [
           {
            "automargin": true,
            "type": "pie"
           }
          ],
          "scatter": [
           {
            "fillpattern": {
             "fillmode": "overlay",
             "size": 10,
             "solidity": 0.2
            },
            "type": "scatter"
           }
          ],
          "scatter3d": [
           {
            "line": {
             "colorbar": {
              "outlinewidth": 0,
              "ticks": ""
             }
            },
            "marker": {
             "colorbar": {
              "outlinewidth": 0,
              "ticks": ""
             }
            },
            "type": "scatter3d"
           }
          ],
          "scattercarpet": [
           {
            "marker": {
             "colorbar": {
              "outlinewidth": 0,
              "ticks": ""
             }
            },
            "type": "scattercarpet"
           }
          ],
          "scattergeo": [
           {
            "marker": {
             "colorbar": {
              "outlinewidth": 0,
              "ticks": ""
             }
            },
            "type": "scattergeo"
           }
          ],
          "scattergl": [
           {
            "marker": {
             "colorbar": {
              "outlinewidth": 0,
              "ticks": ""
             }
            },
            "type": "scattergl"
           }
          ],
          "scattermapbox": [
           {
            "marker": {
             "colorbar": {
              "outlinewidth": 0,
              "ticks": ""
             }
            },
            "type": "scattermapbox"
           }
          ],
          "scatterpolar": [
           {
            "marker": {
             "colorbar": {
              "outlinewidth": 0,
              "ticks": ""
             }
            },
            "type": "scatterpolar"
           }
          ],
          "scatterpolargl": [
           {
            "marker": {
             "colorbar": {
              "outlinewidth": 0,
              "ticks": ""
             }
            },
            "type": "scatterpolargl"
           }
          ],
          "scatterternary": [
           {
            "marker": {
             "colorbar": {
              "outlinewidth": 0,
              "ticks": ""
             }
            },
            "type": "scatterternary"
           }
          ],
          "surface": [
           {
            "colorbar": {
             "outlinewidth": 0,
             "ticks": ""
            },
            "colorscale": [
             [
              0,
              "#0d0887"
             ],
             [
              0.1111111111111111,
              "#46039f"
             ],
             [
              0.2222222222222222,
              "#7201a8"
             ],
             [
              0.3333333333333333,
              "#9c179e"
             ],
             [
              0.4444444444444444,
              "#bd3786"
             ],
             [
              0.5555555555555556,
              "#d8576b"
             ],
             [
              0.6666666666666666,
              "#ed7953"
             ],
             [
              0.7777777777777778,
              "#fb9f3a"
             ],
             [
              0.8888888888888888,
              "#fdca26"
             ],
             [
              1,
              "#f0f921"
             ]
            ],
            "type": "surface"
           }
          ],
          "table": [
           {
            "cells": {
             "fill": {
              "color": "#EBF0F8"
             },
             "line": {
              "color": "white"
             }
            },
            "header": {
             "fill": {
              "color": "#C8D4E3"
             },
             "line": {
              "color": "white"
             }
            },
            "type": "table"
           }
          ]
         },
         "layout": {
          "annotationdefaults": {
           "arrowcolor": "#2a3f5f",
           "arrowhead": 0,
           "arrowwidth": 1
          },
          "autotypenumbers": "strict",
          "coloraxis": {
           "colorbar": {
            "outlinewidth": 0,
            "ticks": ""
           }
          },
          "colorscale": {
           "diverging": [
            [
             0,
             "#8e0152"
            ],
            [
             0.1,
             "#c51b7d"
            ],
            [
             0.2,
             "#de77ae"
            ],
            [
             0.3,
             "#f1b6da"
            ],
            [
             0.4,
             "#fde0ef"
            ],
            [
             0.5,
             "#f7f7f7"
            ],
            [
             0.6,
             "#e6f5d0"
            ],
            [
             0.7,
             "#b8e186"
            ],
            [
             0.8,
             "#7fbc41"
            ],
            [
             0.9,
             "#4d9221"
            ],
            [
             1,
             "#276419"
            ]
           ],
           "sequential": [
            [
             0,
             "#0d0887"
            ],
            [
             0.1111111111111111,
             "#46039f"
            ],
            [
             0.2222222222222222,
             "#7201a8"
            ],
            [
             0.3333333333333333,
             "#9c179e"
            ],
            [
             0.4444444444444444,
             "#bd3786"
            ],
            [
             0.5555555555555556,
             "#d8576b"
            ],
            [
             0.6666666666666666,
             "#ed7953"
            ],
            [
             0.7777777777777778,
             "#fb9f3a"
            ],
            [
             0.8888888888888888,
             "#fdca26"
            ],
            [
             1,
             "#f0f921"
            ]
           ],
           "sequentialminus": [
            [
             0,
             "#0d0887"
            ],
            [
             0.1111111111111111,
             "#46039f"
            ],
            [
             0.2222222222222222,
             "#7201a8"
            ],
            [
             0.3333333333333333,
             "#9c179e"
            ],
            [
             0.4444444444444444,
             "#bd3786"
            ],
            [
             0.5555555555555556,
             "#d8576b"
            ],
            [
             0.6666666666666666,
             "#ed7953"
            ],
            [
             0.7777777777777778,
             "#fb9f3a"
            ],
            [
             0.8888888888888888,
             "#fdca26"
            ],
            [
             1,
             "#f0f921"
            ]
           ]
          },
          "colorway": [
           "#636efa",
           "#EF553B",
           "#00cc96",
           "#ab63fa",
           "#FFA15A",
           "#19d3f3",
           "#FF6692",
           "#B6E880",
           "#FF97FF",
           "#FECB52"
          ],
          "font": {
           "color": "#2a3f5f"
          },
          "geo": {
           "bgcolor": "white",
           "lakecolor": "white",
           "landcolor": "white",
           "showlakes": true,
           "showland": true,
           "subunitcolor": "#C8D4E3"
          },
          "hoverlabel": {
           "align": "left"
          },
          "hovermode": "closest",
          "mapbox": {
           "style": "light"
          },
          "paper_bgcolor": "white",
          "plot_bgcolor": "white",
          "polar": {
           "angularaxis": {
            "gridcolor": "#EBF0F8",
            "linecolor": "#EBF0F8",
            "ticks": ""
           },
           "bgcolor": "white",
           "radialaxis": {
            "gridcolor": "#EBF0F8",
            "linecolor": "#EBF0F8",
            "ticks": ""
           }
          },
          "scene": {
           "xaxis": {
            "backgroundcolor": "white",
            "gridcolor": "#DFE8F3",
            "gridwidth": 2,
            "linecolor": "#EBF0F8",
            "showbackground": true,
            "ticks": "",
            "zerolinecolor": "#EBF0F8"
           },
           "yaxis": {
            "backgroundcolor": "white",
            "gridcolor": "#DFE8F3",
            "gridwidth": 2,
            "linecolor": "#EBF0F8",
            "showbackground": true,
            "ticks": "",
            "zerolinecolor": "#EBF0F8"
           },
           "zaxis": {
            "backgroundcolor": "white",
            "gridcolor": "#DFE8F3",
            "gridwidth": 2,
            "linecolor": "#EBF0F8",
            "showbackground": true,
            "ticks": "",
            "zerolinecolor": "#EBF0F8"
           }
          },
          "shapedefaults": {
           "line": {
            "color": "#2a3f5f"
           }
          },
          "ternary": {
           "aaxis": {
            "gridcolor": "#DFE8F3",
            "linecolor": "#A2B1C6",
            "ticks": ""
           },
           "baxis": {
            "gridcolor": "#DFE8F3",
            "linecolor": "#A2B1C6",
            "ticks": ""
           },
           "bgcolor": "white",
           "caxis": {
            "gridcolor": "#DFE8F3",
            "linecolor": "#A2B1C6",
            "ticks": ""
           }
          },
          "title": {
           "x": 0.05
          },
          "xaxis": {
           "automargin": true,
           "gridcolor": "#EBF0F8",
           "linecolor": "#EBF0F8",
           "ticks": "",
           "title": {
            "standoff": 15
           },
           "zerolinecolor": "#EBF0F8",
           "zerolinewidth": 2
          },
          "yaxis": {
           "automargin": true,
           "gridcolor": "#EBF0F8",
           "linecolor": "#EBF0F8",
           "ticks": "",
           "title": {
            "standoff": 15
           },
           "zerolinecolor": "#EBF0F8",
           "zerolinewidth": 2
          }
         }
        },
        "title": {
         "text": "Geographic Distribution of California Community Colleges"
        },
        "width": 1200
       }
      }
     },
     "metadata": {},
     "output_type": "display_data"
    }
   ],
   "source": [
    "fig = px.scatter_mapbox(\n",
    "    all_colleges,\n",
    "    lat=\"Latitude\",\n",
    "    lon=\"Longitude\",\n",
    "    hover_name=\"CollegeName\",\n",
    "    zoom=5,\n",
    "    width=1200,\n",
    "    height=800,\n",
    "    color=\"DistrictName\",\n",
    "    title=\"Geographic Distribution of California Community Colleges\",\n",
    "    labels={\n",
    "        \"DistrictName\": \"District\",\n",
    "    },\n",
    ")\n",
    "\n",
    "fig.update_layout(\n",
    "    mapbox_style=\"carto-positron\",\n",
    "    template=\"plotly_white\",\n",
    ")\n",
    "\n",
    "fig.update_traces(marker=dict(size=6))\n",
    "\n",
    "fig.write_html(\"./docs/california_community_colleges.html\")\n",
    "fig.show()"
   ]
  },
  {
   "cell_type": "code",
   "execution_count": 14,
   "metadata": {},
   "outputs": [
    {
     "data": {
      "text/plain": [
       "DistrictTitle\n",
       "Los Angeles Community College District            9\n",
       "Los Rios Community College District               4\n",
       "Peralta Community College District                4\n",
       "State Center Community College District           4\n",
       "Kern Community College District                   3\n",
       "Ventura County Community College District         3\n",
       "Riverside Community College District              3\n",
       "Contra Costa Community College District           3\n",
       "San Mateo County Community College District       3\n",
       "Coast Community College District                  3\n",
       "San Diego Community College District              3\n",
       "South Orange County Community College District    2\n",
       "Rancho Santiago Community College District        2\n",
       "North Orange County Community College District    2\n",
       "Grossmont-Cuyamaca Community College District     2\n",
       "Yosemite Community College District               2\n",
       "West Hills Community College District             2\n",
       "West Valley-Mission Community College District    2\n",
       "Chabot-Las Positas Community College District     2\n",
       "San José-Evergreen Community College District     2\n",
       "Foothill-De Anza Community College District       2\n",
       "Yuba Community College District                   2\n",
       "San Bernardino Community College District         2\n",
       "Name: count, dtype: int64"
      ]
     },
     "execution_count": 14,
     "metadata": {},
     "output_type": "execute_result"
    }
   ],
   "source": [
    "# Rank the districts by college count.\n",
    "\n",
    "mc_district = all_districts.loc[all_districts[\"CollegesPerDistrict\"] > 1, \"DistrictID\"]\n",
    "all_colleges[all_colleges[\"DistrictID\"].isin(mc_district)][\"DistrictTitle\"].value_counts()"
   ]
  },
  {
   "cell_type": "markdown",
   "metadata": {},
   "source": [
    "## 2. Gather all colleges in the CCC system that offer a degree or certificate in the programs of interest using `programs` endpoint [the CCC API](https://api.cccco.edu/)"
   ]
  },
  {
   "cell_type": "code",
   "execution_count": 15,
   "metadata": {},
   "outputs": [],
   "source": [
    "# Example of use case\n",
    "\n",
    "programs = [\n",
    "    \"Database\",\n",
    "    \"Computer Science\",\n",
    "    \"Data Science\",\n",
    "]"
   ]
  },
  {
   "cell_type": "code",
   "execution_count": 16,
   "metadata": {},
   "outputs": [],
   "source": [
    "cccco_programs = pd.DataFrame()\n",
    "\n",
    "for program in programs:\n",
    "    df = cccco.get_ccc_programs(program)\n",
    "    df[\"Program Query\"] = program\n",
    "    cccco_programs = pd.concat([cccco_programs, df])"
   ]
  },
  {
   "cell_type": "code",
   "execution_count": 17,
   "metadata": {},
   "outputs": [
    {
     "name": "stdout",
     "output_type": "stream",
     "text": [
      "207 rows\n"
     ]
    },
    {
     "data": {
      "text/html": [
       "<div>\n",
       "<style scoped>\n",
       "    .dataframe tbody tr th:only-of-type {\n",
       "        vertical-align: middle;\n",
       "    }\n",
       "\n",
       "    .dataframe tbody tr th {\n",
       "        vertical-align: top;\n",
       "    }\n",
       "\n",
       "    .dataframe thead th {\n",
       "        text-align: right;\n",
       "    }\n",
       "</style>\n",
       "<table border=\"1\" class=\"dataframe\">\n",
       "  <thead>\n",
       "    <tr style=\"text-align: right;\">\n",
       "      <th></th>\n",
       "      <th>CollegeID</th>\n",
       "      <th>CollegeName</th>\n",
       "      <th>ProgramAward</th>\n",
       "      <th>CreditType</th>\n",
       "      <th>Title</th>\n",
       "      <th>TopCode</th>\n",
       "      <th>Program Query</th>\n",
       "    </tr>\n",
       "  </thead>\n",
       "  <tbody>\n",
       "    <tr>\n",
       "      <th>2</th>\n",
       "      <td>551</td>\n",
       "      <td>San Joaquin Delta College</td>\n",
       "      <td>C</td>\n",
       "      <td>C</td>\n",
       "      <td>Computer Science</td>\n",
       "      <td>070200</td>\n",
       "      <td>Computer Science</td>\n",
       "    </tr>\n",
       "    <tr>\n",
       "      <th>43</th>\n",
       "      <td>731</td>\n",
       "      <td>Glendale Community College</td>\n",
       "      <td>T</td>\n",
       "      <td>C</td>\n",
       "      <td>Computer Science</td>\n",
       "      <td>070600</td>\n",
       "      <td>Computer Science</td>\n",
       "    </tr>\n",
       "    <tr>\n",
       "      <th>126</th>\n",
       "      <td>749</td>\n",
       "      <td>West Los Angeles College</td>\n",
       "      <td>T</td>\n",
       "      <td>C</td>\n",
       "      <td>Computer Science Information Technology</td>\n",
       "      <td>070200</td>\n",
       "      <td>Computer Science</td>\n",
       "    </tr>\n",
       "    <tr>\n",
       "      <th>15</th>\n",
       "      <td>963</td>\n",
       "      <td>Norco College</td>\n",
       "      <td>S</td>\n",
       "      <td>C</td>\n",
       "      <td>Data Science</td>\n",
       "      <td>070730</td>\n",
       "      <td>Data Science</td>\n",
       "    </tr>\n",
       "    <tr>\n",
       "      <th>0</th>\n",
       "      <td>233</td>\n",
       "      <td>Sacramento City College</td>\n",
       "      <td>M</td>\n",
       "      <td>C</td>\n",
       "      <td>Data Science</td>\n",
       "      <td>070200</td>\n",
       "      <td>Data Science</td>\n",
       "    </tr>\n",
       "    <tr>\n",
       "      <th>22</th>\n",
       "      <td>422</td>\n",
       "      <td>Foothill College</td>\n",
       "      <td>S</td>\n",
       "      <td>C</td>\n",
       "      <td>Computer Science</td>\n",
       "      <td>070600</td>\n",
       "      <td>Computer Science</td>\n",
       "    </tr>\n",
       "    <tr>\n",
       "      <th>27</th>\n",
       "      <td>592</td>\n",
       "      <td>Modesto Junior College</td>\n",
       "      <td>S</td>\n",
       "      <td>C</td>\n",
       "      <td>Computer Science</td>\n",
       "      <td>070600</td>\n",
       "      <td>Computer Science</td>\n",
       "    </tr>\n",
       "    <tr>\n",
       "      <th>25</th>\n",
       "      <td>343</td>\n",
       "      <td>Laney College</td>\n",
       "      <td>N</td>\n",
       "      <td>C</td>\n",
       "      <td>Data Science Fundamentals</td>\n",
       "      <td>070100</td>\n",
       "      <td>Data Science</td>\n",
       "    </tr>\n",
       "    <tr>\n",
       "      <th>4</th>\n",
       "      <td>749</td>\n",
       "      <td>West Los Angeles College</td>\n",
       "      <td>N</td>\n",
       "      <td>C</td>\n",
       "      <td>Data Science</td>\n",
       "      <td>070200</td>\n",
       "      <td>Data Science</td>\n",
       "    </tr>\n",
       "    <tr>\n",
       "      <th>5</th>\n",
       "      <td>231</td>\n",
       "      <td>American River College</td>\n",
       "      <td>S</td>\n",
       "      <td>C</td>\n",
       "      <td>CIS: Database Management</td>\n",
       "      <td>070720</td>\n",
       "      <td>Database</td>\n",
       "    </tr>\n",
       "  </tbody>\n",
       "</table>\n",
       "</div>"
      ],
      "text/plain": [
       "    CollegeID                 CollegeName ProgramAward CreditType  \\\n",
       "2         551   San Joaquin Delta College            C          C   \n",
       "43        731  Glendale Community College            T          C   \n",
       "126       749    West Los Angeles College            T          C   \n",
       "15        963               Norco College            S          C   \n",
       "0         233     Sacramento City College            M          C   \n",
       "22        422            Foothill College            S          C   \n",
       "27        592      Modesto Junior College            S          C   \n",
       "25        343               Laney College            N          C   \n",
       "4         749    West Los Angeles College            N          C   \n",
       "5         231      American River College            S          C   \n",
       "\n",
       "                                       Title TopCode     Program Query  \n",
       "2                           Computer Science  070200  Computer Science  \n",
       "43                          Computer Science  070600  Computer Science  \n",
       "126  Computer Science Information Technology  070200  Computer Science  \n",
       "15                              Data Science  070730      Data Science  \n",
       "0                               Data Science  070200      Data Science  \n",
       "22                          Computer Science  070600  Computer Science  \n",
       "27                          Computer Science  070600  Computer Science  \n",
       "25                 Data Science Fundamentals  070100      Data Science  \n",
       "4                               Data Science  070200      Data Science  \n",
       "5                   CIS: Database Management  070720          Database  "
      ]
     },
     "execution_count": 17,
     "metadata": {},
     "output_type": "execute_result"
    }
   ],
   "source": [
    "print(f\"{cccco_programs.shape[0]:,} rows\")\n",
    "cccco_programs.sample(10)"
   ]
  },
  {
   "cell_type": "code",
   "execution_count": 18,
   "metadata": {},
   "outputs": [
    {
     "data": {
      "text/plain": [
       "Program Query\n",
       "Computer Science    153\n",
       "Data Science         28\n",
       "Database             26\n",
       "Name: count, dtype: int64"
      ]
     },
     "execution_count": 18,
     "metadata": {},
     "output_type": "execute_result"
    }
   ],
   "source": [
    "cccco_programs[\"Program Query\"].value_counts()"
   ]
  },
  {
   "cell_type": "markdown",
   "metadata": {},
   "source": [
    "## 3. Merge the `colleges` endpoint data with the `programs` endpoint data (one row per college per program)"
   ]
  },
  {
   "cell_type": "code",
   "execution_count": 19,
   "metadata": {},
   "outputs": [
    {
     "name": "stdout",
     "output_type": "stream",
     "text": [
      "207 rows\n"
     ]
    },
    {
     "data": {
      "text/html": [
       "<div>\n",
       "<style scoped>\n",
       "    .dataframe tbody tr th:only-of-type {\n",
       "        vertical-align: middle;\n",
       "    }\n",
       "\n",
       "    .dataframe tbody tr th {\n",
       "        vertical-align: top;\n",
       "    }\n",
       "\n",
       "    .dataframe thead th {\n",
       "        text-align: right;\n",
       "    }\n",
       "</style>\n",
       "<table border=\"1\" class=\"dataframe\">\n",
       "  <thead>\n",
       "    <tr style=\"text-align: right;\">\n",
       "      <th></th>\n",
       "      <th>CollegeID</th>\n",
       "      <th>CollegeName</th>\n",
       "      <th>DistrictID</th>\n",
       "      <th>StreetAddress</th>\n",
       "      <th>City</th>\n",
       "      <th>County</th>\n",
       "      <th>Zip</th>\n",
       "      <th>ZipPlus4</th>\n",
       "      <th>MailingAddress</th>\n",
       "      <th>MailingCity</th>\n",
       "      <th>...</th>\n",
       "      <th>District</th>\n",
       "      <th>DistrictName</th>\n",
       "      <th>DistrictTitle</th>\n",
       "      <th>WebsiteURLDistrict</th>\n",
       "      <th>CollegesPerDistrict</th>\n",
       "      <th>ProgramAward</th>\n",
       "      <th>CreditType</th>\n",
       "      <th>Title</th>\n",
       "      <th>TopCode</th>\n",
       "      <th>Program Query</th>\n",
       "    </tr>\n",
       "  </thead>\n",
       "  <tbody>\n",
       "    <tr>\n",
       "      <th>71</th>\n",
       "      <td>021</td>\n",
       "      <td>Cuyamaca College</td>\n",
       "      <td>020</td>\n",
       "      <td>900 Rancho San Diego Parkway</td>\n",
       "      <td>El Cajon</td>\n",
       "      <td>San Diego</td>\n",
       "      <td>92019</td>\n",
       "      <td>4304</td>\n",
       "      <td>900 Rancho San Diego Parkway</td>\n",
       "      <td>El Cajon</td>\n",
       "      <td>...</td>\n",
       "      <td>None</td>\n",
       "      <td>Grossmont-Cuyamaca                            ...</td>\n",
       "      <td>Grossmont-Cuyamaca Community College District</td>\n",
       "      <td>www.gcccd.edu</td>\n",
       "      <td>2</td>\n",
       "      <td>X</td>\n",
       "      <td>C</td>\n",
       "      <td>Computer Science</td>\n",
       "      <td>070600</td>\n",
       "      <td>Computer Science</td>\n",
       "    </tr>\n",
       "    <tr>\n",
       "      <th>72</th>\n",
       "      <td>022</td>\n",
       "      <td>Grossmont College</td>\n",
       "      <td>020</td>\n",
       "      <td>8800 Grossmont College Drive</td>\n",
       "      <td>El Cajon</td>\n",
       "      <td>San Diego</td>\n",
       "      <td>92020</td>\n",
       "      <td>1799</td>\n",
       "      <td>8800 Grossmont College Drive</td>\n",
       "      <td>El Cajon</td>\n",
       "      <td>...</td>\n",
       "      <td>None</td>\n",
       "      <td>Grossmont-Cuyamaca                            ...</td>\n",
       "      <td>Grossmont-Cuyamaca Community College District</td>\n",
       "      <td>www.gcccd.edu</td>\n",
       "      <td>2</td>\n",
       "      <td>X</td>\n",
       "      <td>C</td>\n",
       "      <td>Computer Science</td>\n",
       "      <td>070600</td>\n",
       "      <td>Computer Science</td>\n",
       "    </tr>\n",
       "    <tr>\n",
       "      <th>178</th>\n",
       "      <td>022</td>\n",
       "      <td>Grossmont College</td>\n",
       "      <td>020</td>\n",
       "      <td>8800 Grossmont College Drive</td>\n",
       "      <td>El Cajon</td>\n",
       "      <td>San Diego</td>\n",
       "      <td>92020</td>\n",
       "      <td>1799</td>\n",
       "      <td>8800 Grossmont College Drive</td>\n",
       "      <td>El Cajon</td>\n",
       "      <td>...</td>\n",
       "      <td>None</td>\n",
       "      <td>Grossmont-Cuyamaca                            ...</td>\n",
       "      <td>Grossmont-Cuyamaca Community College District</td>\n",
       "      <td>www.gcccd.edu</td>\n",
       "      <td>2</td>\n",
       "      <td>S</td>\n",
       "      <td>C</td>\n",
       "      <td>University Studies: Mathematics and Natural Sc...</td>\n",
       "      <td>490200</td>\n",
       "      <td>Computer Science</td>\n",
       "    </tr>\n",
       "    <tr>\n",
       "      <th>190</th>\n",
       "      <td>022</td>\n",
       "      <td>Grossmont College</td>\n",
       "      <td>020</td>\n",
       "      <td>8800 Grossmont College Drive</td>\n",
       "      <td>El Cajon</td>\n",
       "      <td>San Diego</td>\n",
       "      <td>92020</td>\n",
       "      <td>1799</td>\n",
       "      <td>8800 Grossmont College Drive</td>\n",
       "      <td>El Cajon</td>\n",
       "      <td>...</td>\n",
       "      <td>None</td>\n",
       "      <td>Grossmont-Cuyamaca                            ...</td>\n",
       "      <td>Grossmont-Cuyamaca Community College District</td>\n",
       "      <td>www.gcccd.edu</td>\n",
       "      <td>2</td>\n",
       "      <td>N</td>\n",
       "      <td>C</td>\n",
       "      <td>Data Science</td>\n",
       "      <td>070700</td>\n",
       "      <td>Data Science</td>\n",
       "    </tr>\n",
       "    <tr>\n",
       "      <th>73</th>\n",
       "      <td>031</td>\n",
       "      <td>Imperial Valley College</td>\n",
       "      <td>030</td>\n",
       "      <td>380 East Aten Road</td>\n",
       "      <td>Imperial</td>\n",
       "      <td>Imperial</td>\n",
       "      <td>92251</td>\n",
       "      <td>9787</td>\n",
       "      <td>380 East Aten Road</td>\n",
       "      <td>Imperial</td>\n",
       "      <td>...</td>\n",
       "      <td>None</td>\n",
       "      <td>Single College District</td>\n",
       "      <td>Imperial Community College District</td>\n",
       "      <td>www.imperial.edu</td>\n",
       "      <td>1</td>\n",
       "      <td>X</td>\n",
       "      <td>C</td>\n",
       "      <td>Computer Science</td>\n",
       "      <td>070600</td>\n",
       "      <td>Computer Science</td>\n",
       "    </tr>\n",
       "  </tbody>\n",
       "</table>\n",
       "<p>5 rows × 26 columns</p>\n",
       "</div>"
      ],
      "text/plain": [
       "    CollegeID              CollegeName DistrictID  \\\n",
       "71        021         Cuyamaca College        020   \n",
       "72        022        Grossmont College        020   \n",
       "178       022        Grossmont College        020   \n",
       "190       022        Grossmont College        020   \n",
       "73        031  Imperial Valley College        030   \n",
       "\n",
       "                    StreetAddress      City      County    Zip ZipPlus4  \\\n",
       "71   900 Rancho San Diego Parkway  El Cajon  San Diego   92019     4304   \n",
       "72   8800 Grossmont College Drive  El Cajon  San Diego   92020     1799   \n",
       "178  8800 Grossmont College Drive  El Cajon  San Diego   92020     1799   \n",
       "190  8800 Grossmont College Drive  El Cajon  San Diego   92020     1799   \n",
       "73             380 East Aten Road  Imperial   Imperial   92251     9787   \n",
       "\n",
       "                    MailingAddress MailingCity  ... District  \\\n",
       "71    900 Rancho San Diego Parkway    El Cajon  ...     None   \n",
       "72   8800 Grossmont College Drive     El Cajon  ...     None   \n",
       "178  8800 Grossmont College Drive     El Cajon  ...     None   \n",
       "190  8800 Grossmont College Drive     El Cajon  ...     None   \n",
       "73             380 East Aten Road     Imperial  ...     None   \n",
       "\n",
       "                                          DistrictName  \\\n",
       "71   Grossmont-Cuyamaca                            ...   \n",
       "72   Grossmont-Cuyamaca                            ...   \n",
       "178  Grossmont-Cuyamaca                            ...   \n",
       "190  Grossmont-Cuyamaca                            ...   \n",
       "73                             Single College District   \n",
       "\n",
       "                                     DistrictTitle  WebsiteURLDistrict  \\\n",
       "71   Grossmont-Cuyamaca Community College District       www.gcccd.edu   \n",
       "72   Grossmont-Cuyamaca Community College District       www.gcccd.edu   \n",
       "178  Grossmont-Cuyamaca Community College District       www.gcccd.edu   \n",
       "190  Grossmont-Cuyamaca Community College District       www.gcccd.edu   \n",
       "73             Imperial Community College District    www.imperial.edu   \n",
       "\n",
       "     CollegesPerDistrict ProgramAward CreditType  \\\n",
       "71                     2            X          C   \n",
       "72                     2            X          C   \n",
       "178                    2            S          C   \n",
       "190                    2            N          C   \n",
       "73                     1            X          C   \n",
       "\n",
       "                                                 Title TopCode  \\\n",
       "71                                    Computer Science  070600   \n",
       "72                                    Computer Science  070600   \n",
       "178  University Studies: Mathematics and Natural Sc...  490200   \n",
       "190                                       Data Science  070700   \n",
       "73                                    Computer Science  070600   \n",
       "\n",
       "        Program Query  \n",
       "71   Computer Science  \n",
       "72   Computer Science  \n",
       "178  Computer Science  \n",
       "190      Data Science  \n",
       "73   Computer Science  \n",
       "\n",
       "[5 rows x 26 columns]"
      ]
     },
     "execution_count": 19,
     "metadata": {},
     "output_type": "execute_result"
    }
   ],
   "source": [
    "# Merge College Metadata with Program Data\n",
    "# One row per college per program\n",
    "\n",
    "college_data = pd.merge(\n",
    "    all_colleges,\n",
    "    cccco_programs.drop(columns=[\"CollegeName\"]),\n",
    "    on=\"CollegeID\",\n",
    "    how=\"right\",\n",
    ")\n",
    "\n",
    "college_data.sort_values(by=[\"CollegeID\", \"Program Query\"], inplace=True)\n",
    "\n",
    "print(f\"{college_data.shape[0]:,} rows\")\n",
    "college_data.head()"
   ]
  },
  {
   "cell_type": "markdown",
   "metadata": {},
   "source": [
    "## 4. Merge the college data with the DataMart program data (one row per college per program)"
   ]
  },
  {
   "cell_type": "code",
   "execution_count": 20,
   "metadata": {},
   "outputs": [],
   "source": [
    "pass # Not implemented in this notebook"
   ]
  },
  {
   "cell_type": "markdown",
   "metadata": {},
   "source": [
    "## 5. Merge the College Scorecard data"
   ]
  },
  {
   "cell_type": "code",
   "execution_count": 21,
   "metadata": {},
   "outputs": [
    {
     "data": {
      "text/html": [
       "<div>\n",
       "<style scoped>\n",
       "    .dataframe tbody tr th:only-of-type {\n",
       "        vertical-align: middle;\n",
       "    }\n",
       "\n",
       "    .dataframe tbody tr th {\n",
       "        vertical-align: top;\n",
       "    }\n",
       "\n",
       "    .dataframe thead th {\n",
       "        text-align: right;\n",
       "    }\n",
       "</style>\n",
       "<table border=\"1\" class=\"dataframe\">\n",
       "  <thead>\n",
       "    <tr style=\"text-align: right;\">\n",
       "      <th></th>\n",
       "      <th>school_name</th>\n",
       "      <th>latest_student_size</th>\n",
       "      <th>latest_student_enrollment_undergrad_12_month</th>\n",
       "      <th>latest_student_demographics_over_23_at_entry</th>\n",
       "      <th>latest_student_demographics_first_generation</th>\n",
       "      <th>latest_student_demographics_median_hh_income</th>\n",
       "      <th>latest_student_demographics_student_faculty_ratio</th>\n",
       "      <th>latest_student_FAFSA_applications</th>\n",
       "    </tr>\n",
       "  </thead>\n",
       "  <tbody>\n",
       "    <tr>\n",
       "      <th>0</th>\n",
       "      <td>Solano Community College</td>\n",
       "      <td>7213</td>\n",
       "      <td>11932</td>\n",
       "      <td>0.5</td>\n",
       "      <td>0.484509</td>\n",
       "      <td>72436</td>\n",
       "      <td>25</td>\n",
       "      <td>2251</td>\n",
       "    </tr>\n",
       "  </tbody>\n",
       "</table>\n",
       "</div>"
      ],
      "text/plain": [
       "                school_name  latest_student_size  \\\n",
       "0  Solano Community College                 7213   \n",
       "\n",
       "   latest_student_enrollment_undergrad_12_month  \\\n",
       "0                                         11932   \n",
       "\n",
       "   latest_student_demographics_over_23_at_entry  \\\n",
       "0                                           0.5   \n",
       "\n",
       "   latest_student_demographics_first_generation  \\\n",
       "0                                      0.484509   \n",
       "\n",
       "   latest_student_demographics_median_hh_income  \\\n",
       "0                                         72436   \n",
       "\n",
       "   latest_student_demographics_student_faculty_ratio  \\\n",
       "0                                                 25   \n",
       "\n",
       "   latest_student_FAFSA_applications  \n",
       "0                               2251  "
      ]
     },
     "execution_count": 21,
     "metadata": {},
     "output_type": "execute_result"
    }
   ],
   "source": [
    "scorecard.get_scorecard_by_college(\"Solano\")"
   ]
  },
  {
   "cell_type": "code",
   "execution_count": 22,
   "metadata": {},
   "outputs": [
    {
     "name": "stdout",
     "output_type": "stream",
     "text": [
      "Error with Lake Tahoe Community College: \"None of [Index(['school_name'], dtype='object')] are in the [columns]\"\n",
      "Error with Los Angeles Valley College: \"None of [Index(['school_name'], dtype='object')] are in the [columns]\"\n",
      "115 rows\n"
     ]
    },
    {
     "data": {
      "text/html": [
       "<div>\n",
       "<style scoped>\n",
       "    .dataframe tbody tr th:only-of-type {\n",
       "        vertical-align: middle;\n",
       "    }\n",
       "\n",
       "    .dataframe tbody tr th {\n",
       "        vertical-align: top;\n",
       "    }\n",
       "\n",
       "    .dataframe thead th {\n",
       "        text-align: right;\n",
       "    }\n",
       "</style>\n",
       "<table border=\"1\" class=\"dataframe\">\n",
       "  <thead>\n",
       "    <tr style=\"text-align: right;\">\n",
       "      <th></th>\n",
       "      <th>CollegeID</th>\n",
       "      <th>CollegeName</th>\n",
       "      <th>DistrictID</th>\n",
       "      <th>StreetAddress</th>\n",
       "      <th>City</th>\n",
       "      <th>County</th>\n",
       "      <th>Zip</th>\n",
       "      <th>ZipPlus4</th>\n",
       "      <th>MailingAddress</th>\n",
       "      <th>MailingCity</th>\n",
       "      <th>...</th>\n",
       "      <th>DistrictTitle</th>\n",
       "      <th>WebsiteURLDistrict</th>\n",
       "      <th>CollegesPerDistrict</th>\n",
       "      <th>latest_student_size</th>\n",
       "      <th>latest_student_enrollment_undergrad_12_month</th>\n",
       "      <th>latest_student_demographics_over_23_at_entry</th>\n",
       "      <th>latest_student_demographics_first_generation</th>\n",
       "      <th>latest_student_demographics_median_hh_income</th>\n",
       "      <th>latest_student_demographics_student_faculty_ratio</th>\n",
       "      <th>latest_student_FAFSA_applications</th>\n",
       "    </tr>\n",
       "  </thead>\n",
       "  <tbody>\n",
       "    <tr>\n",
       "      <th>0</th>\n",
       "      <td>021</td>\n",
       "      <td>Cuyamaca College</td>\n",
       "      <td>020</td>\n",
       "      <td>900 Rancho San Diego Parkway</td>\n",
       "      <td>El Cajon</td>\n",
       "      <td>San Diego</td>\n",
       "      <td>92019</td>\n",
       "      <td>4304</td>\n",
       "      <td>900 Rancho San Diego Parkway</td>\n",
       "      <td>El Cajon</td>\n",
       "      <td>...</td>\n",
       "      <td>Grossmont-Cuyamaca Community College District</td>\n",
       "      <td>www.gcccd.edu</td>\n",
       "      <td>2</td>\n",
       "      <td>6527.0</td>\n",
       "      <td>12428.0</td>\n",
       "      <td>0.47</td>\n",
       "      <td>0.610113</td>\n",
       "      <td>61734.0</td>\n",
       "      <td>23.0</td>\n",
       "      <td>2901.0</td>\n",
       "    </tr>\n",
       "    <tr>\n",
       "      <th>1</th>\n",
       "      <td>022</td>\n",
       "      <td>Grossmont College</td>\n",
       "      <td>020</td>\n",
       "      <td>8800 Grossmont College Drive</td>\n",
       "      <td>El Cajon</td>\n",
       "      <td>San Diego</td>\n",
       "      <td>92020</td>\n",
       "      <td>1799</td>\n",
       "      <td>8800 Grossmont College Drive</td>\n",
       "      <td>El Cajon</td>\n",
       "      <td>...</td>\n",
       "      <td>Grossmont-Cuyamaca Community College District</td>\n",
       "      <td>www.gcccd.edu</td>\n",
       "      <td>2</td>\n",
       "      <td>10994.0</td>\n",
       "      <td>18249.0</td>\n",
       "      <td>0.39</td>\n",
       "      <td>0.550389</td>\n",
       "      <td>60424.0</td>\n",
       "      <td>19.0</td>\n",
       "      <td>5463.0</td>\n",
       "    </tr>\n",
       "    <tr>\n",
       "      <th>2</th>\n",
       "      <td>031</td>\n",
       "      <td>Imperial Valley College</td>\n",
       "      <td>030</td>\n",
       "      <td>380 East Aten Road</td>\n",
       "      <td>Imperial</td>\n",
       "      <td>Imperial</td>\n",
       "      <td>92251</td>\n",
       "      <td>9787</td>\n",
       "      <td>380 East Aten Road</td>\n",
       "      <td>Imperial</td>\n",
       "      <td>...</td>\n",
       "      <td>Imperial Community College District</td>\n",
       "      <td>www.imperial.edu</td>\n",
       "      <td>1</td>\n",
       "      <td>6952.0</td>\n",
       "      <td>10185.0</td>\n",
       "      <td>0.26</td>\n",
       "      <td>0.609207</td>\n",
       "      <td>45460.0</td>\n",
       "      <td>31.0</td>\n",
       "      <td>3798.0</td>\n",
       "    </tr>\n",
       "    <tr>\n",
       "      <th>3</th>\n",
       "      <td>051</td>\n",
       "      <td>MiraCosta College</td>\n",
       "      <td>050</td>\n",
       "      <td>1 Barnard Drive</td>\n",
       "      <td>Oceanside</td>\n",
       "      <td>San Diego</td>\n",
       "      <td>92056</td>\n",
       "      <td>3899</td>\n",
       "      <td>1 Barnard Drive</td>\n",
       "      <td>Oceanside</td>\n",
       "      <td>...</td>\n",
       "      <td>MiraCosta Community College District</td>\n",
       "      <td>www.miracosta.edu</td>\n",
       "      <td>1</td>\n",
       "      <td>10094.0</td>\n",
       "      <td>16847.0</td>\n",
       "      <td>0.43</td>\n",
       "      <td>0.509714</td>\n",
       "      <td>68755.0</td>\n",
       "      <td>19.0</td>\n",
       "      <td>4602.0</td>\n",
       "    </tr>\n",
       "    <tr>\n",
       "      <th>4</th>\n",
       "      <td>061</td>\n",
       "      <td>Palomar College</td>\n",
       "      <td>060</td>\n",
       "      <td>1140 West Mission Road</td>\n",
       "      <td>San Marcos</td>\n",
       "      <td>San Diego</td>\n",
       "      <td>92069</td>\n",
       "      <td>1487</td>\n",
       "      <td>1140 West Mission Road</td>\n",
       "      <td>San Marcos</td>\n",
       "      <td>...</td>\n",
       "      <td>Palomar Community College District</td>\n",
       "      <td>www.palomar.edu</td>\n",
       "      <td>1</td>\n",
       "      <td>15057.0</td>\n",
       "      <td>26222.0</td>\n",
       "      <td>0.44</td>\n",
       "      <td>0.538365</td>\n",
       "      <td>68227.0</td>\n",
       "      <td>21.0</td>\n",
       "      <td>5316.0</td>\n",
       "    </tr>\n",
       "  </tbody>\n",
       "</table>\n",
       "<p>5 rows × 28 columns</p>\n",
       "</div>"
      ],
      "text/plain": [
       "  CollegeID              CollegeName DistrictID                 StreetAddress  \\\n",
       "0       021         Cuyamaca College        020  900 Rancho San Diego Parkway   \n",
       "1       022        Grossmont College        020  8800 Grossmont College Drive   \n",
       "2       031  Imperial Valley College        030            380 East Aten Road   \n",
       "3       051        MiraCosta College        050               1 Barnard Drive   \n",
       "4       061          Palomar College        060        1140 West Mission Road   \n",
       "\n",
       "         City      County    Zip ZipPlus4                 MailingAddress  \\\n",
       "0    El Cajon  San Diego   92019     4304   900 Rancho San Diego Parkway   \n",
       "1    El Cajon  San Diego   92020     1799  8800 Grossmont College Drive    \n",
       "2    Imperial   Imperial   92251     9787            380 East Aten Road    \n",
       "3   Oceanside  San Diego   92056     3899               1 Barnard Drive    \n",
       "4  San Marcos  San Diego   92069     1487        1140 West Mission Road    \n",
       "\n",
       "  MailingCity  ...                                  DistrictTitle  \\\n",
       "0    El Cajon  ...  Grossmont-Cuyamaca Community College District   \n",
       "1    El Cajon  ...  Grossmont-Cuyamaca Community College District   \n",
       "2    Imperial  ...            Imperial Community College District   \n",
       "3   Oceanside  ...           MiraCosta Community College District   \n",
       "4  San Marcos  ...             Palomar Community College District   \n",
       "\n",
       "  WebsiteURLDistrict CollegesPerDistrict  latest_student_size  \\\n",
       "0      www.gcccd.edu                   2               6527.0   \n",
       "1      www.gcccd.edu                   2              10994.0   \n",
       "2   www.imperial.edu                   1               6952.0   \n",
       "3  www.miracosta.edu                   1              10094.0   \n",
       "4    www.palomar.edu                   1              15057.0   \n",
       "\n",
       "   latest_student_enrollment_undergrad_12_month  \\\n",
       "0                                       12428.0   \n",
       "1                                       18249.0   \n",
       "2                                       10185.0   \n",
       "3                                       16847.0   \n",
       "4                                       26222.0   \n",
       "\n",
       "  latest_student_demographics_over_23_at_entry  \\\n",
       "0                                         0.47   \n",
       "1                                         0.39   \n",
       "2                                         0.26   \n",
       "3                                         0.43   \n",
       "4                                         0.44   \n",
       "\n",
       "  latest_student_demographics_first_generation  \\\n",
       "0                                     0.610113   \n",
       "1                                     0.550389   \n",
       "2                                     0.609207   \n",
       "3                                     0.509714   \n",
       "4                                     0.538365   \n",
       "\n",
       "  latest_student_demographics_median_hh_income  \\\n",
       "0                                      61734.0   \n",
       "1                                      60424.0   \n",
       "2                                      45460.0   \n",
       "3                                      68755.0   \n",
       "4                                      68227.0   \n",
       "\n",
       "  latest_student_demographics_student_faculty_ratio  \\\n",
       "0                                              23.0   \n",
       "1                                              19.0   \n",
       "2                                              31.0   \n",
       "3                                              19.0   \n",
       "4                                              21.0   \n",
       "\n",
       "  latest_student_FAFSA_applications  \n",
       "0                            2901.0  \n",
       "1                            5463.0  \n",
       "2                            3798.0  \n",
       "3                            4602.0  \n",
       "4                            5316.0  \n",
       "\n",
       "[5 rows x 28 columns]"
      ]
     },
     "execution_count": 22,
     "metadata": {},
     "output_type": "execute_result"
    }
   ],
   "source": [
    "import time\n",
    "\n",
    "scorecard_data = pd.DataFrame()\n",
    "\n",
    "for name, city in all_colleges[[\"CollegeName\", \"City\"]].drop_duplicates().itertuples(index=False):\n",
    "    time.sleep(0.25)\n",
    "    try:\n",
    "        scorecard_info = scorecard.get_scorecard_by_college(name, city, \"CA\")\n",
    "        scorecard_data = pd.concat([scorecard_data, scorecard_info], ignore_index=True)\n",
    "    except Exception as e:\n",
    "        print(f\"Error with {name}: {e}\")\n",
    "\n",
    "# Merge the scorecard data with the all_colleges DataFrame\n",
    "all_colleges = pd.merge(\n",
    "    all_colleges,\n",
    "    scorecard_data,\n",
    "    left_on=\"CollegeName\",\n",
    "    right_on=\"school_name\",\n",
    "    how=\"left\"\n",
    ").drop(columns=[\"school_name\"])\n",
    "\n",
    "\n",
    "print(f\"{all_colleges.shape[0]:,} rows\")\n",
    "all_colleges.head()"
   ]
  },
  {
   "cell_type": "code",
   "execution_count": 23,
   "metadata": {},
   "outputs": [
    {
     "data": {
      "text/html": [
       "<div>\n",
       "<style scoped>\n",
       "    .dataframe tbody tr th:only-of-type {\n",
       "        vertical-align: middle;\n",
       "    }\n",
       "\n",
       "    .dataframe tbody tr th {\n",
       "        vertical-align: top;\n",
       "    }\n",
       "\n",
       "    .dataframe thead th {\n",
       "        text-align: right;\n",
       "    }\n",
       "</style>\n",
       "<table border=\"1\" class=\"dataframe\">\n",
       "  <thead>\n",
       "    <tr style=\"text-align: right;\">\n",
       "      <th></th>\n",
       "      <th>CollegeID</th>\n",
       "      <th>CollegeName</th>\n",
       "      <th>DistrictID</th>\n",
       "      <th>StreetAddress</th>\n",
       "      <th>City</th>\n",
       "      <th>County</th>\n",
       "      <th>Zip</th>\n",
       "      <th>ZipPlus4</th>\n",
       "      <th>MailingAddress</th>\n",
       "      <th>MailingCity</th>\n",
       "      <th>...</th>\n",
       "      <th>DistrictTitle</th>\n",
       "      <th>WebsiteURLDistrict</th>\n",
       "      <th>CollegesPerDistrict</th>\n",
       "      <th>latest_student_size</th>\n",
       "      <th>latest_student_enrollment_undergrad_12_month</th>\n",
       "      <th>latest_student_demographics_over_23_at_entry</th>\n",
       "      <th>latest_student_demographics_first_generation</th>\n",
       "      <th>latest_student_demographics_median_hh_income</th>\n",
       "      <th>latest_student_demographics_student_faculty_ratio</th>\n",
       "      <th>latest_student_FAFSA_applications</th>\n",
       "    </tr>\n",
       "  </thead>\n",
       "  <tbody>\n",
       "    <tr>\n",
       "      <th>85</th>\n",
       "      <td>748</td>\n",
       "      <td>East Los Angeles College</td>\n",
       "      <td>740</td>\n",
       "      <td>1301 Avenida Cesar Chavez</td>\n",
       "      <td>Monterey Park</td>\n",
       "      <td>Los Angeles</td>\n",
       "      <td>91754</td>\n",
       "      <td>6099</td>\n",
       "      <td>1301 Avenida Cesar Chavez</td>\n",
       "      <td>Monterey Park</td>\n",
       "      <td>...</td>\n",
       "      <td>Los Angeles Community College District</td>\n",
       "      <td>www.laccd.edu</td>\n",
       "      <td>9</td>\n",
       "      <td>23499.0</td>\n",
       "      <td>49266.0</td>\n",
       "      <td>0.31</td>\n",
       "      <td>0.685203</td>\n",
       "      <td>45627.0</td>\n",
       "      <td>29.0</td>\n",
       "      <td>7896.0</td>\n",
       "    </tr>\n",
       "    <tr>\n",
       "      <th>17</th>\n",
       "      <td>231</td>\n",
       "      <td>American River College</td>\n",
       "      <td>230</td>\n",
       "      <td>4700 College Oak Drive</td>\n",
       "      <td>Sacramento</td>\n",
       "      <td>Sacramento</td>\n",
       "      <td>95841</td>\n",
       "      <td>4286</td>\n",
       "      <td>4700 College Oak Drive</td>\n",
       "      <td>Sacramento</td>\n",
       "      <td>...</td>\n",
       "      <td>Los Rios Community College District</td>\n",
       "      <td>www.losrios.edu</td>\n",
       "      <td>4</td>\n",
       "      <td>24054.0</td>\n",
       "      <td>41538.0</td>\n",
       "      <td>0.52</td>\n",
       "      <td>0.514148</td>\n",
       "      <td>59196.0</td>\n",
       "      <td>27.0</td>\n",
       "      <td>7428.0</td>\n",
       "    </tr>\n",
       "    <tr>\n",
       "      <th>98</th>\n",
       "      <td>871</td>\n",
       "      <td>Santa Ana College</td>\n",
       "      <td>870</td>\n",
       "      <td>1530 W. 17th Street</td>\n",
       "      <td>Santa Ana</td>\n",
       "      <td>Orange County</td>\n",
       "      <td>92706</td>\n",
       "      <td>3398</td>\n",
       "      <td>1530 W. 17th Street</td>\n",
       "      <td>Santa Ana</td>\n",
       "      <td>...</td>\n",
       "      <td>Rancho Santiago Community College District</td>\n",
       "      <td>www.rsccd.edu</td>\n",
       "      <td>2</td>\n",
       "      <td>20309.0</td>\n",
       "      <td>38996.0</td>\n",
       "      <td>0.32</td>\n",
       "      <td>0.696058</td>\n",
       "      <td>69027.0</td>\n",
       "      <td>31.0</td>\n",
       "      <td>3832.0</td>\n",
       "    </tr>\n",
       "    <tr>\n",
       "      <th>52</th>\n",
       "      <td>521</td>\n",
       "      <td>Bakersfield College</td>\n",
       "      <td>520</td>\n",
       "      <td>1801 Panorama Drive</td>\n",
       "      <td>Bakersfield</td>\n",
       "      <td>Kern County</td>\n",
       "      <td>93305</td>\n",
       "      <td>1299</td>\n",
       "      <td>1801 Panorama Drive</td>\n",
       "      <td>Bakersfield</td>\n",
       "      <td>...</td>\n",
       "      <td>Kern Community College District</td>\n",
       "      <td>www.kccd.edu</td>\n",
       "      <td>3</td>\n",
       "      <td>18098.0</td>\n",
       "      <td>37017.0</td>\n",
       "      <td>0.36</td>\n",
       "      <td>0.630508</td>\n",
       "      <td>46274.0</td>\n",
       "      <td>28.0</td>\n",
       "      <td>8128.0</td>\n",
       "    </tr>\n",
       "    <tr>\n",
       "      <th>88</th>\n",
       "      <td>781</td>\n",
       "      <td>Santa Monica College</td>\n",
       "      <td>780</td>\n",
       "      <td>1900 Pico Boulevard</td>\n",
       "      <td>Santa Monica</td>\n",
       "      <td>Los Angeles</td>\n",
       "      <td>90405</td>\n",
       "      <td>1628</td>\n",
       "      <td>1900 Pico Boulevard</td>\n",
       "      <td>Santa Monica</td>\n",
       "      <td>...</td>\n",
       "      <td>Santa Monica Community College District</td>\n",
       "      <td>www.smc.edu</td>\n",
       "      <td>1</td>\n",
       "      <td>20376.0</td>\n",
       "      <td>34036.0</td>\n",
       "      <td>0.25</td>\n",
       "      <td>0.501535</td>\n",
       "      <td>54172.0</td>\n",
       "      <td>26.0</td>\n",
       "      <td>7297.0</td>\n",
       "    </tr>\n",
       "  </tbody>\n",
       "</table>\n",
       "<p>5 rows × 28 columns</p>\n",
       "</div>"
      ],
      "text/plain": [
       "   CollegeID               CollegeName DistrictID              StreetAddress  \\\n",
       "85       748  East Los Angeles College        740  1301 Avenida Cesar Chavez   \n",
       "17       231    American River College        230     4700 College Oak Drive   \n",
       "98       871         Santa Ana College        870        1530 W. 17th Street   \n",
       "52       521       Bakersfield College        520        1801 Panorama Drive   \n",
       "88       781      Santa Monica College        780        1900 Pico Boulevard   \n",
       "\n",
       "             City          County    Zip ZipPlus4              MailingAddress  \\\n",
       "85  Monterey Park    Los Angeles   91754     6099  1301 Avenida Cesar Chavez    \n",
       "17     Sacramento     Sacramento   95841     4286     4700 College Oak Drive    \n",
       "98      Santa Ana  Orange County   92706     3398        1530 W. 17th Street    \n",
       "52    Bakersfield    Kern County   93305     1299        1801 Panorama Drive    \n",
       "88   Santa Monica    Los Angeles   90405     1628        1900 Pico Boulevard    \n",
       "\n",
       "      MailingCity  ...                               DistrictTitle  \\\n",
       "85  Monterey Park  ...      Los Angeles Community College District   \n",
       "17     Sacramento  ...         Los Rios Community College District   \n",
       "98      Santa Ana  ...  Rancho Santiago Community College District   \n",
       "52    Bakersfield  ...             Kern Community College District   \n",
       "88   Santa Monica  ...     Santa Monica Community College District   \n",
       "\n",
       "   WebsiteURLDistrict CollegesPerDistrict  latest_student_size  \\\n",
       "85      www.laccd.edu                   9              23499.0   \n",
       "17    www.losrios.edu                   4              24054.0   \n",
       "98      www.rsccd.edu                   2              20309.0   \n",
       "52       www.kccd.edu                   3              18098.0   \n",
       "88        www.smc.edu                   1              20376.0   \n",
       "\n",
       "    latest_student_enrollment_undergrad_12_month  \\\n",
       "85                                       49266.0   \n",
       "17                                       41538.0   \n",
       "98                                       38996.0   \n",
       "52                                       37017.0   \n",
       "88                                       34036.0   \n",
       "\n",
       "   latest_student_demographics_over_23_at_entry  \\\n",
       "85                                         0.31   \n",
       "17                                         0.52   \n",
       "98                                         0.32   \n",
       "52                                         0.36   \n",
       "88                                         0.25   \n",
       "\n",
       "   latest_student_demographics_first_generation  \\\n",
       "85                                     0.685203   \n",
       "17                                     0.514148   \n",
       "98                                     0.696058   \n",
       "52                                     0.630508   \n",
       "88                                     0.501535   \n",
       "\n",
       "   latest_student_demographics_median_hh_income  \\\n",
       "85                                      45627.0   \n",
       "17                                      59196.0   \n",
       "98                                      69027.0   \n",
       "52                                      46274.0   \n",
       "88                                      54172.0   \n",
       "\n",
       "   latest_student_demographics_student_faculty_ratio  \\\n",
       "85                                              29.0   \n",
       "17                                              27.0   \n",
       "98                                              31.0   \n",
       "52                                              28.0   \n",
       "88                                              26.0   \n",
       "\n",
       "   latest_student_FAFSA_applications  \n",
       "85                            7896.0  \n",
       "17                            7428.0  \n",
       "98                            3832.0  \n",
       "52                            8128.0  \n",
       "88                            7297.0  \n",
       "\n",
       "[5 rows x 28 columns]"
      ]
     },
     "execution_count": 23,
     "metadata": {},
     "output_type": "execute_result"
    }
   ],
   "source": [
    "# Top 5 largest colleges by annual enrollment\n",
    "\n",
    "all_colleges.sort_values(\"latest_student_enrollment_undergrad_12_month\", ascending=False).head()"
   ]
  },
  {
   "cell_type": "code",
   "execution_count": 24,
   "metadata": {},
   "outputs": [
    {
     "data": {
      "text/html": [
       "<div>\n",
       "<style scoped>\n",
       "    .dataframe tbody tr th:only-of-type {\n",
       "        vertical-align: middle;\n",
       "    }\n",
       "\n",
       "    .dataframe tbody tr th {\n",
       "        vertical-align: top;\n",
       "    }\n",
       "\n",
       "    .dataframe thead th {\n",
       "        text-align: right;\n",
       "    }\n",
       "</style>\n",
       "<table border=\"1\" class=\"dataframe\">\n",
       "  <thead>\n",
       "    <tr style=\"text-align: right;\">\n",
       "      <th></th>\n",
       "      <th>CollegeID</th>\n",
       "      <th>CollegeName</th>\n",
       "      <th>DistrictID</th>\n",
       "      <th>StreetAddress</th>\n",
       "      <th>City</th>\n",
       "      <th>County</th>\n",
       "      <th>Zip</th>\n",
       "      <th>ZipPlus4</th>\n",
       "      <th>MailingAddress</th>\n",
       "      <th>MailingCity</th>\n",
       "      <th>...</th>\n",
       "      <th>DistrictTitle</th>\n",
       "      <th>WebsiteURLDistrict</th>\n",
       "      <th>CollegesPerDistrict</th>\n",
       "      <th>latest_student_size</th>\n",
       "      <th>latest_student_enrollment_undergrad_12_month</th>\n",
       "      <th>latest_student_demographics_over_23_at_entry</th>\n",
       "      <th>latest_student_demographics_first_generation</th>\n",
       "      <th>latest_student_demographics_median_hh_income</th>\n",
       "      <th>latest_student_demographics_student_faculty_ratio</th>\n",
       "      <th>latest_student_FAFSA_applications</th>\n",
       "    </tr>\n",
       "  </thead>\n",
       "  <tbody>\n",
       "    <tr>\n",
       "      <th>15</th>\n",
       "      <td>181</td>\n",
       "      <td>College of the Siskiyous</td>\n",
       "      <td>180</td>\n",
       "      <td>800 College Avenue</td>\n",
       "      <td>Weed</td>\n",
       "      <td>Siskiyou</td>\n",
       "      <td>96094</td>\n",
       "      <td>2899</td>\n",
       "      <td>800 College Avenue</td>\n",
       "      <td>Weed</td>\n",
       "      <td>...</td>\n",
       "      <td>Siskiyou Joint Community College District</td>\n",
       "      <td>www.siskiyous.edu</td>\n",
       "      <td>1</td>\n",
       "      <td>932.0</td>\n",
       "      <td>2421.0</td>\n",
       "      <td>0.39</td>\n",
       "      <td>0.446043</td>\n",
       "      <td>45814.0</td>\n",
       "      <td>13.0</td>\n",
       "      <td>810.0</td>\n",
       "    </tr>\n",
       "    <tr>\n",
       "      <th>11</th>\n",
       "      <td>131</td>\n",
       "      <td>Lassen Community College</td>\n",
       "      <td>130</td>\n",
       "      <td>478-200 Hwy 139</td>\n",
       "      <td>Susanville</td>\n",
       "      <td>Lassen</td>\n",
       "      <td>96130</td>\n",
       "      <td>3000</td>\n",
       "      <td>PO Box 3000</td>\n",
       "      <td>Susanville</td>\n",
       "      <td>...</td>\n",
       "      <td>Lassen Community College District</td>\n",
       "      <td>www.lassencollege.edu</td>\n",
       "      <td>1</td>\n",
       "      <td>1431.0</td>\n",
       "      <td>2885.0</td>\n",
       "      <td>0.41</td>\n",
       "      <td>0.549383</td>\n",
       "      <td>52031.0</td>\n",
       "      <td>13.0</td>\n",
       "      <td>383.0</td>\n",
       "    </tr>\n",
       "    <tr>\n",
       "      <th>64</th>\n",
       "      <td>591</td>\n",
       "      <td>Columbia College</td>\n",
       "      <td>590</td>\n",
       "      <td>11600 Columbia College Drive</td>\n",
       "      <td>Sonora</td>\n",
       "      <td>Tuolumne</td>\n",
       "      <td>95370</td>\n",
       "      <td>8518</td>\n",
       "      <td>11600 Columbia College Drive</td>\n",
       "      <td>Sonora</td>\n",
       "      <td>...</td>\n",
       "      <td>Yosemite Community College District</td>\n",
       "      <td>www.yosemite.edu</td>\n",
       "      <td>2</td>\n",
       "      <td>1801.0</td>\n",
       "      <td>3304.0</td>\n",
       "      <td>0.51</td>\n",
       "      <td>0.534121</td>\n",
       "      <td>53192.0</td>\n",
       "      <td>14.0</td>\n",
       "      <td>877.0</td>\n",
       "    </tr>\n",
       "    <tr>\n",
       "      <th>103</th>\n",
       "      <td>911</td>\n",
       "      <td>Barstow Community College</td>\n",
       "      <td>910</td>\n",
       "      <td>2700 Barstow Road</td>\n",
       "      <td>Barstow</td>\n",
       "      <td>San Bernardino</td>\n",
       "      <td>92311</td>\n",
       "      <td>6699</td>\n",
       "      <td>2700 Barstow Road</td>\n",
       "      <td>Barstow</td>\n",
       "      <td>...</td>\n",
       "      <td>Barstow Community College District</td>\n",
       "      <td>www.barstow.edu</td>\n",
       "      <td>1</td>\n",
       "      <td>2496.0</td>\n",
       "      <td>3615.0</td>\n",
       "      <td>0.61</td>\n",
       "      <td>0.531070</td>\n",
       "      <td>50748.0</td>\n",
       "      <td>21.0</td>\n",
       "      <td>1973.0</td>\n",
       "    </tr>\n",
       "    <tr>\n",
       "      <th>54</th>\n",
       "      <td>523</td>\n",
       "      <td>Porterville College</td>\n",
       "      <td>520</td>\n",
       "      <td>100 East College Avenue</td>\n",
       "      <td>Porterville</td>\n",
       "      <td>Tulare</td>\n",
       "      <td>93257</td>\n",
       "      <td>5901</td>\n",
       "      <td>100 East College Avenue</td>\n",
       "      <td>Porterville</td>\n",
       "      <td>...</td>\n",
       "      <td>Kern Community College District</td>\n",
       "      <td>www.kccd.edu</td>\n",
       "      <td>3</td>\n",
       "      <td>2757.0</td>\n",
       "      <td>5062.0</td>\n",
       "      <td>0.35</td>\n",
       "      <td>0.630058</td>\n",
       "      <td>42464.0</td>\n",
       "      <td>24.0</td>\n",
       "      <td>1845.0</td>\n",
       "    </tr>\n",
       "  </tbody>\n",
       "</table>\n",
       "<p>5 rows × 28 columns</p>\n",
       "</div>"
      ],
      "text/plain": [
       "    CollegeID                CollegeName DistrictID  \\\n",
       "15        181   College of the Siskiyous        180   \n",
       "11        131   Lassen Community College        130   \n",
       "64        591           Columbia College        590   \n",
       "103       911  Barstow Community College        910   \n",
       "54        523        Porterville College        520   \n",
       "\n",
       "                    StreetAddress         City           County    Zip  \\\n",
       "15             800 College Avenue         Weed        Siskiyou   96094   \n",
       "11                478-200 Hwy 139   Susanville          Lassen   96130   \n",
       "64   11600 Columbia College Drive       Sonora         Tuolumne  95370   \n",
       "103             2700 Barstow Road      Barstow  San Bernardino   92311   \n",
       "54        100 East College Avenue  Porterville          Tulare   93257   \n",
       "\n",
       "    ZipPlus4                 MailingAddress  MailingCity  ...  \\\n",
       "15      2899            800 College Avenue          Weed  ...   \n",
       "11      3000                   PO Box 3000    Susanville  ...   \n",
       "64      8518  11600 Columbia College Drive        Sonora  ...   \n",
       "103     6699             2700 Barstow Road       Barstow  ...   \n",
       "54      5901       100 East College Avenue   Porterville  ...   \n",
       "\n",
       "                                 DistrictTitle     WebsiteURLDistrict  \\\n",
       "15   Siskiyou Joint Community College District      www.siskiyous.edu   \n",
       "11           Lassen Community College District  www.lassencollege.edu   \n",
       "64         Yosemite Community College District       www.yosemite.edu   \n",
       "103         Barstow Community College District        www.barstow.edu   \n",
       "54             Kern Community College District           www.kccd.edu   \n",
       "\n",
       "    CollegesPerDistrict  latest_student_size  \\\n",
       "15                    1                932.0   \n",
       "11                    1               1431.0   \n",
       "64                    2               1801.0   \n",
       "103                   1               2496.0   \n",
       "54                    3               2757.0   \n",
       "\n",
       "     latest_student_enrollment_undergrad_12_month  \\\n",
       "15                                         2421.0   \n",
       "11                                         2885.0   \n",
       "64                                         3304.0   \n",
       "103                                        3615.0   \n",
       "54                                         5062.0   \n",
       "\n",
       "    latest_student_demographics_over_23_at_entry  \\\n",
       "15                                          0.39   \n",
       "11                                          0.41   \n",
       "64                                          0.51   \n",
       "103                                         0.61   \n",
       "54                                          0.35   \n",
       "\n",
       "    latest_student_demographics_first_generation  \\\n",
       "15                                      0.446043   \n",
       "11                                      0.549383   \n",
       "64                                      0.534121   \n",
       "103                                     0.531070   \n",
       "54                                      0.630058   \n",
       "\n",
       "    latest_student_demographics_median_hh_income  \\\n",
       "15                                       45814.0   \n",
       "11                                       52031.0   \n",
       "64                                       53192.0   \n",
       "103                                      50748.0   \n",
       "54                                       42464.0   \n",
       "\n",
       "    latest_student_demographics_student_faculty_ratio  \\\n",
       "15                                               13.0   \n",
       "11                                               13.0   \n",
       "64                                               14.0   \n",
       "103                                              21.0   \n",
       "54                                               24.0   \n",
       "\n",
       "    latest_student_FAFSA_applications  \n",
       "15                              810.0  \n",
       "11                              383.0  \n",
       "64                              877.0  \n",
       "103                            1973.0  \n",
       "54                             1845.0  \n",
       "\n",
       "[5 rows x 28 columns]"
      ]
     },
     "execution_count": 24,
     "metadata": {},
     "output_type": "execute_result"
    }
   ],
   "source": [
    "# Top 5 smallest colleges by annual enrollment\n",
    "\n",
    "all_colleges[\n",
    "    all_colleges[\"latest_student_enrollment_undergrad_12_month\"].notna()\n",
    "].sort_values(\"latest_student_enrollment_undergrad_12_month\", ascending=True).head()"
   ]
  },
  {
   "cell_type": "code",
   "execution_count": 25,
   "metadata": {},
   "outputs": [
    {
     "data": {
      "image/png": "[encoded data removed]",
      "text/plain": [
       "<Figure size 640x480 with 1 Axes>"
      ]
     },
     "metadata": {},
     "output_type": "display_data"
    }
   ],
   "source": [
    "sns.scatterplot(\n",
    "    data=all_colleges,\n",
    "    x=\"latest_student_size\",\n",
    "    y=\"latest_student_enrollment_undergrad_12_month\",\n",
    "    hue=\"latest_student_demographics_first_generation\",\n",
    "    palette=\"viridis\",\n",
    "    edgecolor=\"black\"\n",
    ")\n",
    "plt.title(\"Scatter Plot of Student Size vs Undergraduate Enrollment (12-month)\")\n",
    "plt.xlabel(\"Enrollment in Most Recent Term\")\n",
    "plt.ylabel(\"Undergraduate Enrollment (12-month)\")\n",
    "plt.legend(title=\"First Generation Students\")\n",
    "plt.grid(True)\n",
    "\n",
    "#plt.savefig('./figures/student_size_vs_undergraduate_enrollment.png', bbox_inches='tight')\n",
    "plt.show()"
   ]
  },
  {
   "cell_type": "code",
   "execution_count": null,
   "metadata": {},
   "outputs": [
    {
     "data": {
      "application/vnd.plotly.v1+json": {
       "config": {
        "plotlyServerURL": "https://plot.ly"
       },
       "data": [
        {
         "error_y": {
          "array": [
           328.09754647055803,
           1359.0424324991966,
           3167.838379715733,
           4584.580715107253,
           7678.544235942992,
           8647.20882713029,
           6106.526419877889,
           7792.690183755543,
           7630.418443247239,
           8228.688359095338,
           7641.448684640891,
           9513.571548640979,
           8003.819346099711,
           8796.907352225347,
           9249.014207049195,
           9482.9202815729,
           18996.4236765766,
           null,
           17138.98346849466,
           null,
           null,
           null
          ]
         },
         "hovertemplate": "Student Faculty Ratio=%{x}<br>Mean Enrollment=%{y}<extra></extra>",
         "legendgroup": "",
         "marker": {
          "color": "#1F77B4",
          "line": {
           "color": "DarkSlateGrey",
           "width": 2
          },
          "size": 6,
          "symbol": "circle"
         },
         "mode": "markers",
         "name": "",
         "orientation": "v",
         "showlegend": false,
         "type": "scatter",
         "x": [
          13,
          14,
          15,
          16,
          17,
          18,
          19,
          20,
          21,
          22,
          23,
          24,
          25,
          26,
          27,
          28,
          29,
          30,
          31,
          32,
          36,
          37
         ],
         "xaxis": "x",
         "y": [
          2653,
          4818.333333333333,
          7803,
          11946.333333333334,
          11873.75,
          16540.5,
          12412.25,
          16006.4,
          12190.57142857143,
          17538.88888888889,
          16777,
          18470.11111111111,
          19652.875,
          19681.18181818182,
          18935.428571428572,
          18339.333333333332,
          35833.5,
          8838,
          19229.333333333332,
          23945,
          19836,
          18777
         ],
         "yaxis": "y"
        }
       ],
       "layout": {
        "legend": {
         "tracegroupgap": 0
        },
        "template": {
         "data": {
          "pie": [
           {
            "automargin": true,
            "type": "pie"
           }
          ]
         },
         "layout": {
          "xaxis": {
           "showgrid": true,
           "title": {
            "standoff": 15
           }
          },
          "yaxis": {
           "showgrid": true,
           "title": {
            "standoff": 15
           }
          }
         }
        },
        "title": {
         "text": "Mean Enrollment vs Student Faculty Ratio"
        },
        "xaxis": {
         "anchor": "y",
         "domain": [
          0,
          1
         ],
         "title": {
          "text": "Student Faculty Ratio"
         }
        },
        "yaxis": {
         "anchor": "x",
         "domain": [
          0,
          1
         ],
         "title": {
          "text": "Mean Enrollment"
         }
        }
       }
      }
     },
     "metadata": {},
     "output_type": "display_data"
    }
   ],
   "source": [
    "y_mean = all_colleges.groupby(\"latest_student_demographics_student_faculty_ratio\")[\n",
    "    \"latest_student_enrollment_undergrad_12_month\"\n",
    "].mean()\n",
    "y_std = all_colleges.groupby(\"latest_student_demographics_student_faculty_ratio\")[\n",
    "    \"latest_student_enrollment_undergrad_12_month\"\n",
    "].std()\n",
    "\n",
    "plot_data = pd.DataFrame(\n",
    "    {\n",
    "        \"Student Faculty Ratio\": y_mean.index,\n",
    "        \"Mean Enrollment\": y_mean.values,\n",
    "        \"Enrollment Std Dev\": y_std.values,\n",
    "    }\n",
    ")\n",
    "\n",
    "# Plot with error bars\n",
    "fig = px.scatter(\n",
    "    plot_data,\n",
    "    x=\"Student Faculty Ratio\",\n",
    "    y=\"Mean Enrollment\",\n",
    "    error_y=\"Enrollment Std Dev\",\n",
    "    color_continuous_scale=\"viridis\",\n",
    "    title=\"Mean Enrollment vs Student Faculty Ratio\",\n",
    "    labels={\"Student Faculty Ratio\": \"Student Faculty Ratio\", \"Mean Enrollment\": \"Mean Enrollment\"},\n",
    "    template=\"gridon\"\n",
    ")\n",
    "\n",
    "fig.update_traces(marker=dict(size=6, line=dict(width=2, color=\"DarkSlateGrey\")))\n",
    "\n",
    "fig.show()"
   ]
  },
  {
   "cell_type": "code",
   "execution_count": 27,
   "metadata": {},
   "outputs": [
    {
     "data": {
      "image/png": "[encoded data removed]",
      "text/plain": [
       "<Figure size 640x480 with 1 Axes>"
      ]
     },
     "metadata": {},
     "output_type": "display_data"
    }
   ],
   "source": [
    "sns.histplot(\n",
    "    data=all_colleges,\n",
    "    x=\"latest_student_enrollment_undergrad_12_month\",\n",
    "    bins=30,\n",
    "    kde=True,\n",
    "    color=\"darkblue\",\n",
    "    edgecolor=\"black\",\n",
    ")\n",
    "plt.title(\"Distribution of Undergraduate Enrollment (12-month)\")\n",
    "plt.xlabel(\"Undergraduate Enrollment (12-month)\")\n",
    "plt.ylabel(\"Number of Colleges\")\n",
    "\n",
    "plt.savefig('./figures/undergraduate_enrollment_distribution.png', bbox_inches='tight')\n",
    "plt.show()"
   ]
  },
  {
   "cell_type": "code",
   "execution_count": null,
   "metadata": {},
   "outputs": [
    {
     "data": {
      "image/png": "[encoded data removed]",
      "text/plain": [
       "<Figure size 640x480 with 1 Axes>"
      ]
     },
     "metadata": {},
     "output_type": "display_data"
    }
   ],
   "source": [
    "# Rank districts by sum(\"latest_student_enrollment_undergrad_12_month\")\n",
    "\n",
    "all_districts = cccco.get_ccc_districts()\n",
    "\n",
    "district_enrollment = all_colleges.groupby(\"DistrictID\")[\n",
    "    \"latest_student_enrollment_undergrad_12_month\"\n",
    "].sum().reset_index()\n",
    "\n",
    "district_enrollment = pd.merge(\n",
    "    district_enrollment,\n",
    "    all_districts[[\"DistrictID\", \"DistrictName\"]],\n",
    "    on=\"DistrictID\",\n",
    "    how=\"left\"\n",
    ")\n",
    "\n",
    "to_plot = district_enrollment.set_index(\"DistrictName\")[\n",
    "    \"latest_student_enrollment_undergrad_12_month\"\n",
    "].sort_values(ascending=False).head(10)\n",
    "\n",
    "# Create a color scale based on the size of the bars\n",
    "norm = plt.Normalize(to_plot.min(), to_plot.max())\n",
    "sm = plt.cm.ScalarMappable(cmap=\"viridis\", norm=norm)\n",
    "sm.set_array([])\n",
    "\n",
    "ax = to_plot.plot(\n",
    "    kind=\"barh\",\n",
    "    title=\"Top 10 Districts by Undergraduate Enrollment (12-month)\",\n",
    "    xlabel=\"Undergraduate Enrollment (12-month)\",\n",
    "    color=plt.cm.viridis(norm(to_plot)),\n",
    "    edgecolor=\"black\",\n",
    ")\n",
    "\n",
    "ax.set_ylabel(\"District Name\")\n",
    "ax.set_yticklabels(ax.get_yticklabels(), ha='right', position=(0.3, 0))\n",
    "\n",
    "fig = ax.get_figure()\n",
    "fig.savefig('./figures/top_10_districts_by_enrollment.png', bbox_inches='tight')\n",
    "plt.show()"
   ]
  }
 ],
 "metadata": {
  "kernelspec": {
   "display_name": "Python 3 (ipykernel)",
   "language": "python",
   "name": "python3"
  },
  "language_info": {
   "codemirror_mode": {
    "name": "ipython",
    "version": 3
   },
   "file_extension": ".py",
   "mimetype": "text/x-python",
   "name": "python",
   "nbconvert_exporter": "python",
   "pygments_lexer": "ipython3",
   "version": "3.12.7"
  }
 },
 "nbformat": 4,
 "nbformat_minor": 4
}
