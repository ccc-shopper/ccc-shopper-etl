{
 "cells": [
  {
   "cell_type": "code",
   "execution_count": 44,
   "id": "a253b86f",
   "metadata": {},
   "outputs": [],
   "source": [
    "import requests\n",
    "import lxml\n",
    "from bs4 import BeautifulSoup\n",
    "import pandas as pd\n",
    "import matplotlib.pyplot as plt\n",
    "\n"
   ]
  },
  {
   "cell_type": "code",
   "execution_count": 4,
   "id": "a83c3fbd-1585-48ff-b68f-98eb21ca3f8a",
   "metadata": {},
   "outputs": [],
   "source": [
    "def new_data(cursor, school_id):\n",
    "    data = {\n",
    "        \"query\":\"query TeacherSearchPaginationQuery(\\n  $count: Int!\\n  $cursor: String\\n  $query: TeacherSearchQuery!\\n) {\\n  search: newSearch {\\n    ...TeacherSearchPagination_search_1jWD3d\\n  }\\n}\\n\\nfragment TeacherSearchPagination_search_1jWD3d on newSearch {\\n  teachers(query: $query, first: $count, after: $cursor) {\\n    didFallback\\n    edges {\\n      cursor\\n      node {\\n        ...TeacherCard_teacher\\n        id\\n        __typename\\n      }\\n    }\\n    pageInfo {\\n      hasNextPage\\n      endCursor\\n    }\\n    resultCount\\n    filters {\\n      field\\n      options {\\n        value\\n        id\\n      }\\n    }\\n  }\\n}\\n\\nfragment TeacherCard_teacher on Teacher {\\n  id\\n  legacyId\\n  avgRating\\n  numRatings\\n  ...CardFeedback_teacher\\n  ...CardSchool_teacher\\n  ...CardName_teacher\\n  ...TeacherBookmark_teacher\\n}\\n\\nfragment CardFeedback_teacher on Teacher {\\n  wouldTakeAgainPercent\\n  avgDifficulty\\n}\\n\\nfragment CardSchool_teacher on Teacher {\\n  department\\n  school {\\n    name\\n    id\\n  }\\n}\\n\\nfragment CardName_teacher on Teacher {\\n  firstName\\n  lastName\\n}\\n\\nfragment TeacherBookmark_teacher on Teacher {\\n  id\\n  isSaved\\n}\\n\",\n",
    "        \"variables\":{\n",
    "            \"count\": 8,\n",
    "            \"cursor\": cursor, \n",
    "            \"query\":{\n",
    "                \"text\":\"\",\n",
    "                \"schoolID\":school_id,\n",
    "                \"fallback\":True,\n",
    "                #\"departmentID\":\"RGVwYXJ0bWVudC0xNDA=\", \n",
    "            }\n",
    "        }\n",
    "    } \n",
    "    return data"
   ]
  },
  {
   "cell_type": "code",
   "execution_count": 5,
   "id": "ba31e2ce-bace-49bb-838a-f85e1f6c8975",
   "metadata": {},
   "outputs": [],
   "source": [
    "def fetch_info(dic): \n",
    "    name = dic['node']['firstName'] + \" \" + dic['node']['lastName']\n",
    "    lid = \"/professor?tid=\" + str(dic['node']['legacyId'])\n",
    "    department = dic['node']['department']\n",
    "    rating = dic['node']['avgRating']\n",
    "    return name, department, rating\n",
    "    \n",
    "#prof_list = result['data']['search']['teachers']['edges']\n",
    "    \n",
    "#[fetch_info(prof) for prof in prof_list]"
   ]
  },
  {
   "cell_type": "code",
   "execution_count": 12,
   "id": "d164571f-aac6-4939-a226-c56ccebaf866",
   "metadata": {},
   "outputs": [],
   "source": [
    "\n",
    "\n",
    "def fetch_profs(school_id): \n",
    "    endpoint = 'https://www.ratemyprofessors.com/graphql'\n",
    "    headers = {\n",
    "        \"Authorization\": \"Basic dGVzdDp0ZXN0\", \n",
    "        \"User-Agent\": \"Mozilla/5.0 (Windows NT 10.0; Win64; x64; rv:136.0) Gecko/20100101 Firefox/136.0\"\n",
    "        #\"Cookie\": \"AWSALB=AbwlpXoOgh8jzRRTyJeNIbsjQXFxt1kFTfGPDsY4oP1NrRRc6XpFWBxYTUpFryN+9eCYMAl5om17jlmcAnjGRnqHtzxcTJOME+uQJYSgirzgvQR7p1XkTO74DUkVMBdb5EDbNHYGUcVBcR1T3J3GOlDB3a4eTxbAE64V1RFw0BMLafSS0wLSggCVXg6z8w==; AWSALBCORS=AbwlpXoOgh8jzRRTyJeNIbsjQXFxt1kFTfGPDsY4oP1NrRRc6XpFWBxYTUpFryN+9eCYMAl5om17jlmcAnjGRnqHtzxcTJOME+uQJYSgirzgvQR7p1XkTO74DUkVMBdb5EDbNHYGUcVBcR1T3J3GOlDB3a4eTxbAE64V1RFw0BMLafSS0wLSggCVXg6z8w==; ccpa-notice-viewed-02=true; previousSchoolID=1073; ad_blocker_overlay_2019=false; cid=PXNma9PY7p-20230408; RMP_AUTH_COOKIE_VERSION=v01\"\n",
    "    }\n",
    "    \n",
    "    # first query\n",
    "    data = {\n",
    "        \"query\":\"query TeacherSearchResultsPageQuery(\\n  $query: TeacherSearchQuery!\\n  $schoolID: ID\\n) {\\n  search: newSearch {\\n    ...TeacherSearchPagination_search_1ZLmLD\\n  }\\n  school: node(id: $schoolID) {\\n    __typename\\n    ... on School {\\n      name\\n    }\\n    id\\n  }\\n}\\n\\nfragment TeacherSearchPagination_search_1ZLmLD on newSearch {\\n  teachers(query: $query, first: 8, after: \\\"\\\") {\\n    didFallback\\n    edges {\\n      cursor\\n      node {\\n        ...TeacherCard_teacher\\n        id\\n        __typename\\n      }\\n    }\\n    pageInfo {\\n      hasNextPage\\n      endCursor\\n    }\\n    resultCount\\n    filters {\\n      field\\n      options {\\n        value\\n        id\\n      }\\n    }\\n  }\\n}\\n\\nfragment TeacherCard_teacher on Teacher {\\n  id\\n  legacyId\\n  avgRating\\n  numRatings\\n  ...CardFeedback_teacher\\n  ...CardSchool_teacher\\n  ...CardName_teacher\\n  ...TeacherBookmark_teacher\\n}\\n\\nfragment CardFeedback_teacher on Teacher {\\n  wouldTakeAgainPercent\\n  avgDifficulty\\n}\\n\\nfragment CardSchool_teacher on Teacher {\\n  department\\n  school {\\n    name\\n    id\\n  }\\n}\\n\\nfragment CardName_teacher on Teacher {\\n  firstName\\n  lastName\\n}\\n\\nfragment TeacherBookmark_teacher on Teacher {\\n  id\\n  isSaved\\n}\\n\",\n",
    "        \"variables\":{\n",
    "            \"query\":{\n",
    "                \"text\":\"\",\n",
    "                \"schoolID\":school_id,\n",
    "                \"fallback\":True,\n",
    "                #\"departmentID\":\"RGVwYXJ0bWVudC0xNDA=\", \n",
    "            },\n",
    "            \"schoolID\": school_id\n",
    "        }\n",
    "    } \n",
    "    \n",
    "    response = requests.post(endpoint, headers = headers, json=data)\n",
    "    result = response.json()\n",
    "    \n",
    "    prof_list = result['data']['search']['teachers']['edges']\n",
    "    df = [fetch_info(prof) for prof in prof_list]\n",
    "    \n",
    "    cursor = result['data']['search']['teachers']['pageInfo']['endCursor']\n",
    "    \n",
    "    flag = True\n",
    "    while flag: \n",
    "        data = new_data(cursor, school_id)\n",
    "        \n",
    "        # Create a session\n",
    "        session = requests.Session()\n",
    "        session.headers.update(headers)\n",
    "        response = session.post(endpoint, headers=headers, json=data)\n",
    "        result = response.json()\n",
    "            \n",
    "        prof_list = result['data']['search']['teachers']['edges']\n",
    "        df.extend([fetch_info(prof) for prof in prof_list])\n",
    "        cursor = result['data']['search']['teachers']['pageInfo']['endCursor']\n",
    "\n",
    "        flag = result['data']['search']['teachers']['pageInfo']['hasNextPage']\n",
    "        \n",
    "    return df\n",
    "\n"
   ]
  },
  {
   "cell_type": "code",
   "execution_count": 13,
   "id": "e783479b-bf92-4a46-be72-b12b15e917ec",
   "metadata": {},
   "outputs": [],
   "source": [
    "\n",
    "\n",
    "df = fetch_profs(\"U2Nob29sLTEwNzM=\")\n",
    "\n"
   ]
  },
  {
   "cell_type": "code",
   "execution_count": 14,
   "id": "add18b95-c3f1-4870-bac6-0f951641cd39",
   "metadata": {},
   "outputs": [
    {
     "data": {
      "text/plain": [
       "[('Bryan Enderle', 'Chemistry', 4.6),\n",
       " ('Korana Burke', 'Mathematics', 2.9),\n",
       " ('Marc Facciotti', 'Biomedical Engineering', 3),\n",
       " ('Andrew Farris', 'Statistics', 2.4),\n",
       " ('Diego Yankelevich', 'Engineering', 2.2)]"
      ]
     },
     "execution_count": 14,
     "metadata": {},
     "output_type": "execute_result"
    }
   ],
   "source": [
    "df[:5]"
   ]
  },
  {
   "cell_type": "code",
   "execution_count": 15,
   "id": "c07050f3-02d4-4881-ad27-f1c428f3e060",
   "metadata": {},
   "outputs": [
    {
     "data": {
      "text/html": [
       "<div>\n",
       "<style scoped>\n",
       "    .dataframe tbody tr th:only-of-type {\n",
       "        vertical-align: middle;\n",
       "    }\n",
       "\n",
       "    .dataframe tbody tr th {\n",
       "        vertical-align: top;\n",
       "    }\n",
       "\n",
       "    .dataframe thead th {\n",
       "        text-align: right;\n",
       "    }\n",
       "</style>\n",
       "<table border=\"1\" class=\"dataframe\">\n",
       "  <thead>\n",
       "    <tr style=\"text-align: right;\">\n",
       "      <th></th>\n",
       "      <th>Name</th>\n",
       "      <th>Department</th>\n",
       "      <th>Rating</th>\n",
       "    </tr>\n",
       "  </thead>\n",
       "  <tbody>\n",
       "    <tr>\n",
       "      <th>0</th>\n",
       "      <td>Bryan Enderle</td>\n",
       "      <td>Chemistry</td>\n",
       "      <td>4.6</td>\n",
       "    </tr>\n",
       "    <tr>\n",
       "      <th>1</th>\n",
       "      <td>Korana Burke</td>\n",
       "      <td>Mathematics</td>\n",
       "      <td>2.9</td>\n",
       "    </tr>\n",
       "    <tr>\n",
       "      <th>2</th>\n",
       "      <td>Marc Facciotti</td>\n",
       "      <td>Biomedical Engineering</td>\n",
       "      <td>3.0</td>\n",
       "    </tr>\n",
       "    <tr>\n",
       "      <th>3</th>\n",
       "      <td>Andrew Farris</td>\n",
       "      <td>Statistics</td>\n",
       "      <td>2.4</td>\n",
       "    </tr>\n",
       "    <tr>\n",
       "      <th>4</th>\n",
       "      <td>Diego Yankelevich</td>\n",
       "      <td>Engineering</td>\n",
       "      <td>2.2</td>\n",
       "    </tr>\n",
       "  </tbody>\n",
       "</table>\n",
       "</div>"
      ],
      "text/plain": [
       "                Name              Department  Rating\n",
       "0      Bryan Enderle               Chemistry     4.6\n",
       "1       Korana Burke             Mathematics     2.9\n",
       "2     Marc Facciotti  Biomedical Engineering     3.0\n",
       "3      Andrew Farris              Statistics     2.4\n",
       "4  Diego Yankelevich             Engineering     2.2"
      ]
     },
     "execution_count": 15,
     "metadata": {},
     "output_type": "execute_result"
    }
   ],
   "source": [
    "df1 = pd.DataFrame(df, columns=['Name', 'Department', 'Rating'])\n",
    "df1.head()"
   ]
  },
  {
   "cell_type": "code",
   "execution_count": 16,
   "id": "e77bdbdf-9c10-45b1-9a08-daac0ad4682c",
   "metadata": {},
   "outputs": [
    {
     "data": {
      "text/plain": [
       "3.744439481911539"
      ]
     },
     "execution_count": 16,
     "metadata": {},
     "output_type": "execute_result"
    }
   ],
   "source": [
    "avg_rating = sum(df1['Rating']) / len(df1['Rating'])\n",
    "avg_rating"
   ]
  },
  {
   "cell_type": "code",
   "execution_count": 17,
   "id": "49d73a32-7560-4dd2-b3aa-547b198dba33",
   "metadata": {},
   "outputs": [],
   "source": [
    "def get_data(cursor):\n",
    "    data = {\n",
    "        \"query\":\"query SchoolRatingsListQuery(  $count: Int!  $id: ID!  $cursor: String) {  node(id: $id) {    __typename    ... on School {      ...SchoolRatingsList_school_1G22uz    }    id  }}fragment SchoolRatingFooter_rating on SchoolRating {  id  comment  flagStatus  legacyId  ...Thumbs_schoolRating}fragment SchoolRatingFooter_school on School {  id  legacyId  ...Thumbs_school}fragment SchoolRatingSuperHeader_school on School {  name  legacyId}fragment SchoolRating_rating on SchoolRating {  clubsRating  comment  date  facilitiesRating  foodRating  happinessRating  internetRating  locationRating  opportunitiesRating  reputationRating  safetyRating  socialRating  legacyId  flagStatus  createdByUser  ...SchoolRatingFooter_rating}fragment SchoolRating_school on School {  ...SchoolRatingSuperHeader_school  ...SchoolRatingFooter_school}fragment SchoolRatingsList_school_1G22uz on School {  id  name  city  state  country  legacyId  ratings(first: $count, after: $cursor) {    edges {      cursor      node {        ...SchoolRating_rating        id        __typename      }    }    pageInfo {      hasNextPage      endCursor    }  }  ...SchoolRating_school}fragment Thumbs_school on School {  id  legacyId}fragment Thumbs_schoolRating on SchoolRating {  id  legacyId  thumbsDownTotal  thumbsUpTotal  userThumbs {    computerId    thumbsUp    thumbsDown    id  }}\",\n",
    "        \"variables\":{\n",
    "            \"id\":\"U2Nob29sLTMwMjM=\",\n",
    "            \"count\": 10,\n",
    "            \"cursor\": cursor\n",
    "        }\n",
    "    } \n",
    "    return data"
   ]
  },
  {
   "cell_type": "code",
   "execution_count": 18,
   "id": "c1a85a32-9259-43a7-85b7-c18531645395",
   "metadata": {},
   "outputs": [],
   "source": [
    "def get_review(dic): \n",
    "    review = dic['node']['comment']\n",
    "    return review"
   ]
  },
  {
   "cell_type": "code",
   "execution_count": 19,
   "id": "1f2b696e-5d14-4b0c-9d07-efe06a66bc1e",
   "metadata": {},
   "outputs": [],
   "source": [
    "def fetch_univ(college_id): \n",
    "    endpoint = 'https://www.ratemyprofessors.com/graphql'\n",
    "    headers = {\n",
    "        \"Authorization\": \"Basic dGVzdDp0ZXN0\", \n",
    "        \"User-Agent\": \"Mozilla/5.0 (Windows NT 10.0; Win64; x64; rv:136.0) Gecko/20100101 Firefox/136.0\"\n",
    "    }\n",
    "        \n",
    "    # first query\n",
    "    data = {\n",
    "        \"query\":\"query SchoolRatingsListQuery(  $count: Int!  $id: ID!  $cursor: String) {  node(id: $id) {    __typename    ... on School {      ...SchoolRatingsList_school_1G22uz    }    id  }}fragment SchoolRatingFooter_rating on SchoolRating {  id  comment  flagStatus  legacyId  ...Thumbs_schoolRating}fragment SchoolRatingFooter_school on School {  id  legacyId  ...Thumbs_school}fragment SchoolRatingSuperHeader_school on School {  name  legacyId}fragment SchoolRating_rating on SchoolRating {  clubsRating  comment  date  facilitiesRating  foodRating  happinessRating  internetRating  locationRating  opportunitiesRating  reputationRating  safetyRating  socialRating  legacyId  flagStatus  createdByUser  ...SchoolRatingFooter_rating}fragment SchoolRating_school on School {  ...SchoolRatingSuperHeader_school  ...SchoolRatingFooter_school}fragment SchoolRatingsList_school_1G22uz on School {  id  name  city  state  country  legacyId  ratings(first: $count, after: $cursor) {    edges {      cursor      node {        ...SchoolRating_rating        id        __typename      }    }    pageInfo {      hasNextPage      endCursor    }  }  ...SchoolRating_school}fragment Thumbs_school on School {  id  legacyId}fragment Thumbs_schoolRating on SchoolRating {  id  legacyId  thumbsDownTotal  thumbsUpTotal  userThumbs {    computerId    thumbsUp    thumbsDown    id  }}\",\n",
    "        \"variables\":{\n",
    "            \"id\":college_id,\n",
    "            \"count\": 10,\n",
    "            \"cursor\": \"YXJyYXljb25uZWN0aW9uOjI5\"\n",
    "        }\n",
    "    } \n",
    "    \n",
    "    response = requests.post(endpoint, headers = headers, json=data)\n",
    "    result = response.json()\n",
    "    \n",
    "    review_list = result['data']['node']['ratings']['edges']\n",
    "    df = [get_review(review) for review in review_list]\n",
    "    \n",
    "    cursor = result['data']['node']['ratings']['pageInfo']['endCursor']\n",
    "    \n",
    "    flag = True\n",
    "    while flag: \n",
    "        data = get_data(cursor)\n",
    "        \n",
    "        # Create a session\n",
    "        session = requests.Session()\n",
    "        session.headers.update(headers)\n",
    "\n",
    "        response = session.post(endpoint, headers=headers, json=data)\n",
    "        \n",
    "        result = response.json()\n",
    "            \n",
    "        review_list = result['data']['node']['ratings']['edges']\n",
    "        df.extend([get_review(review) for review in review_list])\n",
    "        cursor = result['data']['node']['ratings']['pageInfo']['endCursor']\n",
    "\n",
    "        flag = result['data']['node']['ratings']['pageInfo']['hasNextPage']\n",
    "        \n",
    "    return df"
   ]
  },
  {
   "cell_type": "code",
   "execution_count": 20,
   "id": "97600c28-e1db-4e85-8918-6d43ac7cc28e",
   "metadata": {},
   "outputs": [],
   "source": [
    "df = fetch_univ('U2Nob29sLTE5NTM=')"
   ]
  },
  {
   "cell_type": "code",
   "execution_count": 21,
   "id": "b2ea864e-2405-4e21-8ef3-24ff58b4c9ac",
   "metadata": {},
   "outputs": [],
   "source": [
    "new_df = [x for x in df if x != 'None.' and x != 'Not Specified.']"
   ]
  },
  {
   "cell_type": "code",
   "execution_count": 22,
   "id": "e46f6e9e-b782-416c-b5a2-6ccf5a5d0c80",
   "metadata": {},
   "outputs": [
    {
     "data": {
      "text/html": [
       "<div>\n",
       "<style scoped>\n",
       "    .dataframe tbody tr th:only-of-type {\n",
       "        vertical-align: middle;\n",
       "    }\n",
       "\n",
       "    .dataframe tbody tr th {\n",
       "        vertical-align: top;\n",
       "    }\n",
       "\n",
       "    .dataframe thead th {\n",
       "        text-align: right;\n",
       "    }\n",
       "</style>\n",
       "<table border=\"1\" class=\"dataframe\">\n",
       "  <thead>\n",
       "    <tr style=\"text-align: right;\">\n",
       "      <th></th>\n",
       "      <th>Review</th>\n",
       "    </tr>\n",
       "  </thead>\n",
       "  <tbody>\n",
       "    <tr>\n",
       "      <th>0</th>\n",
       "      <td>Very quiet, calm campus. Gorgeous plant-life. ...</td>\n",
       "    </tr>\n",
       "    <tr>\n",
       "      <th>1</th>\n",
       "      <td>only because i have to ...</td>\n",
       "    </tr>\n",
       "    <tr>\n",
       "      <th>2</th>\n",
       "      <td>You need to be on their case 247 they don&amp;#39;...</td>\n",
       "    </tr>\n",
       "    <tr>\n",
       "      <th>3</th>\n",
       "      <td>Great Campus that went through a pretty big ov...</td>\n",
       "    </tr>\n",
       "    <tr>\n",
       "      <th>4</th>\n",
       "      <td>Peaceful, clean campus without a lot of people...</td>\n",
       "    </tr>\n",
       "  </tbody>\n",
       "</table>\n",
       "</div>"
      ],
      "text/plain": [
       "                                              Review\n",
       "0  Very quiet, calm campus. Gorgeous plant-life. ...\n",
       "1                         only because i have to ...\n",
       "2  You need to be on their case 247 they don&#39;...\n",
       "3  Great Campus that went through a pretty big ov...\n",
       "4  Peaceful, clean campus without a lot of people..."
      ]
     },
     "execution_count": 22,
     "metadata": {},
     "output_type": "execute_result"
    }
   ],
   "source": [
    "df_reviews = pd.DataFrame(new_df, columns=['Review'])\n",
    "df_reviews.head()"
   ]
  },
  {
   "cell_type": "code",
   "execution_count": 23,
   "id": "0475636a-61af-4e1d-8016-ab74a71a541b",
   "metadata": {},
   "outputs": [],
   "source": [
    "\n",
    "\n",
    "from textblob import TextBlob\n",
    "     \n",
    "\n",
    "# Performs sentiment analysis for each university\n",
    "review_polarity = []\n",
    "\n",
    "for i in range(len(df_reviews['Review'])):\n",
    "  opinion = TextBlob(df_reviews['Review'][i])\n",
    "  review_polarity.append(opinion.sentiment[0])\n",
    "\n",
    "\n",
    "     \n",
    "\n",
    "df_reviews['Polarity'] = review_polarity # Polarity is how positive the sentiment is from 0 to 1"
   ]
  },
  {
   "cell_type": "code",
   "execution_count": 24,
   "id": "63e17557-3862-4375-a487-7c76502405d1",
   "metadata": {},
   "outputs": [
    {
     "data": {
      "text/html": [
       "<div>\n",
       "<style scoped>\n",
       "    .dataframe tbody tr th:only-of-type {\n",
       "        vertical-align: middle;\n",
       "    }\n",
       "\n",
       "    .dataframe tbody tr th {\n",
       "        vertical-align: top;\n",
       "    }\n",
       "\n",
       "    .dataframe thead th {\n",
       "        text-align: right;\n",
       "    }\n",
       "</style>\n",
       "<table border=\"1\" class=\"dataframe\">\n",
       "  <thead>\n",
       "    <tr style=\"text-align: right;\">\n",
       "      <th></th>\n",
       "      <th>Review</th>\n",
       "      <th>Polarity</th>\n",
       "    </tr>\n",
       "  </thead>\n",
       "  <tbody>\n",
       "    <tr>\n",
       "      <th>0</th>\n",
       "      <td>Very quiet, calm campus. Gorgeous plant-life. ...</td>\n",
       "      <td>0.145655</td>\n",
       "    </tr>\n",
       "    <tr>\n",
       "      <th>1</th>\n",
       "      <td>only because i have to ...</td>\n",
       "      <td>0.000000</td>\n",
       "    </tr>\n",
       "    <tr>\n",
       "      <th>2</th>\n",
       "      <td>You need to be on their case 247 they don&amp;#39;...</td>\n",
       "      <td>0.600000</td>\n",
       "    </tr>\n",
       "    <tr>\n",
       "      <th>3</th>\n",
       "      <td>Great Campus that went through a pretty big ov...</td>\n",
       "      <td>0.262824</td>\n",
       "    </tr>\n",
       "    <tr>\n",
       "      <th>4</th>\n",
       "      <td>Peaceful, clean campus without a lot of people...</td>\n",
       "      <td>0.195833</td>\n",
       "    </tr>\n",
       "  </tbody>\n",
       "</table>\n",
       "</div>"
      ],
      "text/plain": [
       "                                              Review  Polarity\n",
       "0  Very quiet, calm campus. Gorgeous plant-life. ...  0.145655\n",
       "1                         only because i have to ...  0.000000\n",
       "2  You need to be on their case 247 they don&#39;...  0.600000\n",
       "3  Great Campus that went through a pretty big ov...  0.262824\n",
       "4  Peaceful, clean campus without a lot of people...  0.195833"
      ]
     },
     "execution_count": 24,
     "metadata": {},
     "output_type": "execute_result"
    }
   ],
   "source": [
    "df_reviews.head()"
   ]
  },
  {
   "cell_type": "code",
   "execution_count": 25,
   "id": "85b90008-2708-4395-8735-264d6308cb84",
   "metadata": {},
   "outputs": [
    {
     "data": {
      "text/plain": [
       "0.35739338380461255"
      ]
     },
     "execution_count": 25,
     "metadata": {},
     "output_type": "execute_result"
    }
   ],
   "source": [
    "avg_sentiment = sum(df_reviews['Polarity']) / len(df_reviews['Polarity'])\n",
    "avg_sentiment"
   ]
  },
  {
   "cell_type": "code",
   "execution_count": 26,
   "id": "cc2f7b20-52dc-44a9-a7d0-a6f796adca4e",
   "metadata": {},
   "outputs": [],
   "source": [
    "import scripts.cccco as cccco\n",
    "import scripts.college_scorecard as scorecard\n",
    "import scripts.labor_market as labor_market\n",
    "import scripts.join_tools as join_tools"
   ]
  },
  {
   "cell_type": "code",
   "execution_count": 27,
   "id": "48bd0c5e-e33d-44f3-825c-295a11777791",
   "metadata": {},
   "outputs": [],
   "source": [
    "all_colleges = cccco.get_ccc_colleges()"
   ]
  },
  {
   "cell_type": "code",
   "execution_count": 28,
   "id": "ed6707c1-02db-4bf4-981e-d8909da96543",
   "metadata": {},
   "outputs": [
    {
     "name": "stdout",
     "output_type": "stream",
     "text": [
      "115 rows\n"
     ]
    },
    {
     "data": {
      "text/html": [
       "<div>\n",
       "<style scoped>\n",
       "    .dataframe tbody tr th:only-of-type {\n",
       "        vertical-align: middle;\n",
       "    }\n",
       "\n",
       "    .dataframe tbody tr th {\n",
       "        vertical-align: top;\n",
       "    }\n",
       "\n",
       "    .dataframe thead th {\n",
       "        text-align: right;\n",
       "    }\n",
       "</style>\n",
       "<table border=\"1\" class=\"dataframe\">\n",
       "  <thead>\n",
       "    <tr style=\"text-align: right;\">\n",
       "      <th></th>\n",
       "      <th>CollegeID</th>\n",
       "      <th>CollegeName</th>\n",
       "      <th>DistrictID</th>\n",
       "      <th>StreetAddress</th>\n",
       "      <th>City</th>\n",
       "      <th>County</th>\n",
       "      <th>Zip</th>\n",
       "      <th>ZipPlus4</th>\n",
       "      <th>MailingAddress</th>\n",
       "      <th>MailingCity</th>\n",
       "      <th>MailingZip</th>\n",
       "      <th>Phone</th>\n",
       "      <th>WebsiteURL</th>\n",
       "      <th>Latitude</th>\n",
       "      <th>Longitude</th>\n",
       "      <th>LogoURL</th>\n",
       "      <th>District</th>\n",
       "    </tr>\n",
       "  </thead>\n",
       "  <tbody>\n",
       "    <tr>\n",
       "      <th>0</th>\n",
       "      <td>021</td>\n",
       "      <td>Cuyamaca College</td>\n",
       "      <td>020</td>\n",
       "      <td>900 Rancho San Diego Parkway</td>\n",
       "      <td>El Cajon</td>\n",
       "      <td>San Diego</td>\n",
       "      <td>92019</td>\n",
       "      <td>4304</td>\n",
       "      <td>900 Rancho San Diego Parkway</td>\n",
       "      <td>El Cajon</td>\n",
       "      <td>92019</td>\n",
       "      <td>619.660.4000</td>\n",
       "      <td>www.cuyamaca.edu</td>\n",
       "      <td>32.744890</td>\n",
       "      <td>-116.935229</td>\n",
       "      <td>CuyamacaCollegeLogo.jpg</td>\n",
       "      <td>None</td>\n",
       "    </tr>\n",
       "    <tr>\n",
       "      <th>1</th>\n",
       "      <td>022</td>\n",
       "      <td>Grossmont College</td>\n",
       "      <td>020</td>\n",
       "      <td>8800 Grossmont College Drive</td>\n",
       "      <td>El Cajon</td>\n",
       "      <td>San Diego</td>\n",
       "      <td>92020</td>\n",
       "      <td>1799</td>\n",
       "      <td>8800 Grossmont College Drive</td>\n",
       "      <td>El Cajon</td>\n",
       "      <td>92020</td>\n",
       "      <td>619.644.7000</td>\n",
       "      <td>www.grossmont.edu</td>\n",
       "      <td>32.817897</td>\n",
       "      <td>-117.005640</td>\n",
       "      <td>GrossmontCollegelogo.jpg</td>\n",
       "      <td>None</td>\n",
       "    </tr>\n",
       "    <tr>\n",
       "      <th>2</th>\n",
       "      <td>031</td>\n",
       "      <td>Imperial Valley College</td>\n",
       "      <td>030</td>\n",
       "      <td>380 East Aten Road</td>\n",
       "      <td>Imperial</td>\n",
       "      <td>Imperial</td>\n",
       "      <td>92251</td>\n",
       "      <td>9787</td>\n",
       "      <td>380 East Aten Road</td>\n",
       "      <td>Imperial</td>\n",
       "      <td>92251</td>\n",
       "      <td>760.352.8320</td>\n",
       "      <td>www.imperial.edu</td>\n",
       "      <td>32.825859</td>\n",
       "      <td>-115.502999</td>\n",
       "      <td>ImperialValleyCollegeLogocopy.jpg</td>\n",
       "      <td>None</td>\n",
       "    </tr>\n",
       "    <tr>\n",
       "      <th>3</th>\n",
       "      <td>051</td>\n",
       "      <td>MiraCosta College</td>\n",
       "      <td>050</td>\n",
       "      <td>1 Barnard Drive</td>\n",
       "      <td>Oceanside</td>\n",
       "      <td>San Diego</td>\n",
       "      <td>92056</td>\n",
       "      <td>3899</td>\n",
       "      <td>1 Barnard Drive</td>\n",
       "      <td>Oceanside</td>\n",
       "      <td>92056</td>\n",
       "      <td>760.757.2121</td>\n",
       "      <td>www.miracosta.edu</td>\n",
       "      <td>33.188864</td>\n",
       "      <td>-117.301064</td>\n",
       "      <td>Mira_Costa_College_Logo_4c.png</td>\n",
       "      <td>None</td>\n",
       "    </tr>\n",
       "    <tr>\n",
       "      <th>4</th>\n",
       "      <td>061</td>\n",
       "      <td>Palomar College</td>\n",
       "      <td>060</td>\n",
       "      <td>1140 West Mission Road</td>\n",
       "      <td>San Marcos</td>\n",
       "      <td>San Diego</td>\n",
       "      <td>92069</td>\n",
       "      <td>1487</td>\n",
       "      <td>1140 West Mission Road</td>\n",
       "      <td>San Marcos</td>\n",
       "      <td>92069</td>\n",
       "      <td>760.744.1150</td>\n",
       "      <td>www.palomar.edu</td>\n",
       "      <td>33.147015</td>\n",
       "      <td>-117.183980</td>\n",
       "      <td>PalomarCollegeLogo.jpg</td>\n",
       "      <td>None</td>\n",
       "    </tr>\n",
       "  </tbody>\n",
       "</table>\n",
       "</div>"
      ],
      "text/plain": [
       "  CollegeID              CollegeName DistrictID                 StreetAddress  \\\n",
       "0       021         Cuyamaca College        020  900 Rancho San Diego Parkway   \n",
       "1       022        Grossmont College        020  8800 Grossmont College Drive   \n",
       "2       031  Imperial Valley College        030            380 East Aten Road   \n",
       "3       051        MiraCosta College        050               1 Barnard Drive   \n",
       "4       061          Palomar College        060        1140 West Mission Road   \n",
       "\n",
       "         City      County    Zip ZipPlus4                 MailingAddress  \\\n",
       "0    El Cajon  San Diego   92019     4304   900 Rancho San Diego Parkway   \n",
       "1    El Cajon  San Diego   92020     1799  8800 Grossmont College Drive    \n",
       "2    Imperial   Imperial   92251     9787            380 East Aten Road    \n",
       "3   Oceanside  San Diego   92056     3899               1 Barnard Drive    \n",
       "4  San Marcos  San Diego   92069     1487        1140 West Mission Road    \n",
       "\n",
       "  MailingCity MailingZip          Phone         WebsiteURL   Latitude  \\\n",
       "0    El Cajon      92019  619.660.4000    www.cuyamaca.edu  32.744890   \n",
       "1    El Cajon      92020  619.644.7000   www.grossmont.edu  32.817897   \n",
       "2    Imperial      92251  760.352.8320    www.imperial.edu  32.825859   \n",
       "3   Oceanside      92056  760.757.2121   www.miracosta.edu  33.188864   \n",
       "4  San Marcos      92069  760.744.1150     www.palomar.edu  33.147015   \n",
       "\n",
       "    Longitude                            LogoURL District  \n",
       "0 -116.935229            CuyamacaCollegeLogo.jpg     None  \n",
       "1 -117.005640           GrossmontCollegelogo.jpg     None  \n",
       "2 -115.502999  ImperialValleyCollegeLogocopy.jpg     None  \n",
       "3 -117.301064     Mira_Costa_College_Logo_4c.png     None  \n",
       "4 -117.183980             PalomarCollegeLogo.jpg     None  "
      ]
     },
     "execution_count": 28,
     "metadata": {},
     "output_type": "execute_result"
    }
   ],
   "source": [
    "print(f\"{all_colleges.shape[0]:,} rows\")\n",
    "all_colleges.head()"
   ]
  },
  {
   "cell_type": "code",
   "execution_count": 29,
   "id": "cb184d01-aee8-434f-baed-7aa53b33578f",
   "metadata": {},
   "outputs": [],
   "source": [
    "def get_id(college):\n",
    "    url = 'https://www.ratemyprofessors.com/graphql'\n",
    "    \n",
    "    headers = {\n",
    "        'User-Agent': 'Mozilla/5.0 (Windows NT 10.0; Win64; x64; rv:136.0) Gecko/20100101 Firefox/136.0',\n",
    "        'Authorization': 'Basic dGVzdDp0ZXN0',\n",
    "        'Content-Type': 'application/json'\n",
    "    }\n",
    "    \n",
    "    query = \"\"\"\n",
    "    query NewSearchSchoolsQuery(\n",
    "      $query: SchoolSearchQuery  \n",
    "      $includeCompare: Boolean!\n",
    "    ) {\n",
    "      newSearch {\n",
    "        schools(query: $query) {\n",
    "          edges {\n",
    "            node {\n",
    "              id\n",
    "              name\n",
    "              city\n",
    "              state          \n",
    "              name @include(if: $includeCompare)                  \n",
    "            }\n",
    "          }\n",
    "        }\n",
    "      }\n",
    "    }\n",
    "    \"\"\"\n",
    "    variables = {\n",
    "        \"query\": {\n",
    "            \"text\": college\n",
    "        },\n",
    "        \"includeCompare\": False\n",
    "    }\n",
    "    \n",
    "    data = {\n",
    "        'query': query,\n",
    "        'variables': variables\n",
    "        #'variables': '{\"query\":{\"text\":\"De\"},\"includeCompare\":false}'\n",
    "    }\n",
    "    \n",
    "    # Create a session\n",
    "    session = requests.Session()\n",
    "    session.headers.update(headers)\n",
    "    \n",
    "    response = session.post(url, headers=headers, json=data)\n",
    "    \n",
    "    #print(response)\n",
    "    #print(json.dumps(response.json(), indent=4))\n",
    "    \n",
    "    resp_js = response.json()\n",
    "    \n",
    "    name = response.json()['data']['newSearch']['schools']['edges'][0]['node']['name']\n",
    "    college_id = response.json()['data']['newSearch']['schools']['edges'][0]['node']['id']\n",
    "    #print(f'name={name}, id={id}')\n",
    "    return college_id\n",
    "\n"
   ]
  },
  {
   "cell_type": "code",
   "execution_count": 30,
   "id": "def4c878-c12a-438e-9337-eccfd509afcb",
   "metadata": {},
   "outputs": [
    {
     "data": {
      "text/plain": [
       "0           Cuyamaca College\n",
       "1          Grossmont College\n",
       "2    Imperial Valley College\n",
       "3          MiraCosta College\n",
       "4            Palomar College\n",
       "Name: CollegeName, dtype: object"
      ]
     },
     "execution_count": 30,
     "metadata": {},
     "output_type": "execute_result"
    }
   ],
   "source": [
    "college_list = all_colleges['CollegeName']\n",
    "college_list[:5]"
   ]
  },
  {
   "cell_type": "code",
   "execution_count": 31,
   "id": "00ca51de-cff7-45ef-a39b-58528903b6ff",
   "metadata": {},
   "outputs": [
    {
     "data": {
      "text/plain": [
       "'U2Nob29sLTE5NTM='"
      ]
     },
     "execution_count": 31,
     "metadata": {},
     "output_type": "execute_result"
    }
   ],
   "source": [
    "get_id('Cuyamaca College')"
   ]
  },
  {
   "cell_type": "code",
   "execution_count": 32,
   "id": "eee6bde6-57bc-4426-8271-816e3999ac54",
   "metadata": {},
   "outputs": [],
   "source": [
    "id_list = []\n",
    "for college in college_list:\n",
    "    college_id = get_id(college)\n",
    "    id_list.append(college_id)"
   ]
  },
  {
   "cell_type": "code",
   "execution_count": 33,
   "id": "aa71999f-9da3-45d2-a47d-aed2cd196021",
   "metadata": {},
   "outputs": [
    {
     "data": {
      "text/plain": [
       "115"
      ]
     },
     "execution_count": 33,
     "metadata": {},
     "output_type": "execute_result"
    }
   ],
   "source": [
    "len(id_list)"
   ]
  },
  {
   "cell_type": "code",
   "execution_count": 34,
   "id": "e9cc4d11-b0a2-480f-a991-07f977774588",
   "metadata": {},
   "outputs": [],
   "source": [
    "def get_sentiment(college_id):\n",
    "    df = fetch_univ(college_id)\n",
    "    new_df = [x for x in df if x != 'None.' and x != 'Not Specified.' and x != None]\n",
    "\n",
    "    df_reviews = pd.DataFrame(new_df, columns=['Review'])\n",
    "\n",
    "    # Performs sentiment analysis for each university\n",
    "    review_polarity = []\n",
    "    \n",
    "    for i in range(len(df_reviews['Review'])):\n",
    "      opinion = TextBlob(df_reviews['Review'][i])\n",
    "      review_polarity.append(opinion.sentiment[0])\n",
    "    \n",
    "    df_reviews['Polarity'] = review_polarity # Polarity is how positive the sentiment is from 0 to 1\n",
    "\n",
    "    avg_sentiment = sum(df_reviews['Polarity']) / len(df_reviews['Polarity'])\n",
    "    return avg_sentiment"
   ]
  },
  {
   "cell_type": "code",
   "execution_count": 35,
   "id": "6c1c99d1-55c3-40c7-a861-f2316b8a1033",
   "metadata": {},
   "outputs": [
    {
     "data": {
      "text/plain": [
       "0.35739338380461255"
      ]
     },
     "execution_count": 35,
     "metadata": {},
     "output_type": "execute_result"
    }
   ],
   "source": [
    "get_sentiment('U2Nob29sLTE5NTM=')"
   ]
  },
  {
   "cell_type": "code",
   "execution_count": 36,
   "id": "c6cd27ac-c317-44d5-b8ab-9a6b110ca165",
   "metadata": {},
   "outputs": [],
   "source": [
    "sentiments = []\n",
    "for college_id in id_list:\n",
    "    sentiment = get_sentiment(college_id)\n",
    "    sentiments.append(sentiment) "
   ]
  },
  {
   "cell_type": "code",
   "execution_count": 37,
   "id": "140b9a35-12a2-4785-b6a1-44bb597b19be",
   "metadata": {},
   "outputs": [
    {
     "data": {
      "text/plain": [
       "[0.35739338380461255,\n",
       " 0.35832603682449815,\n",
       " 0.3566306631622127,\n",
       " 0.37619490937351774,\n",
       " 0.3706711926898746,\n",
       " 0.36807474944085783,\n",
       " 0.37755109258754405,\n",
       " 0.3801100973309851,\n",
       " 0.36868917101387044,\n",
       " 0.36642735462434534]"
      ]
     },
     "execution_count": 37,
     "metadata": {},
     "output_type": "execute_result"
    }
   ],
   "source": [
    "sentiments[:10]"
   ]
  },
  {
   "cell_type": "code",
   "execution_count": 38,
   "id": "9646eee6-395f-4a22-bdc9-5bda5c8ab211",
   "metadata": {},
   "outputs": [],
   "source": [
    "def get_rating(college_id):\n",
    "    df = fetch_profs(college_id)\n",
    "    df1 = pd.DataFrame(df, columns=['Name', 'Department', 'Rating'])\n",
    "    avg_rating = sum(df1['Rating']) / len(df1['Rating'])\n",
    "    return avg_rating\n",
    "    "
   ]
  },
  {
   "cell_type": "code",
   "execution_count": 39,
   "id": "37353018-eb33-47d5-8e72-3dfb3794857f",
   "metadata": {},
   "outputs": [
    {
     "data": {
      "text/plain": [
       "3.9940119760479034"
      ]
     },
     "execution_count": 39,
     "metadata": {},
     "output_type": "execute_result"
    }
   ],
   "source": [
    "get_rating(\"U2Nob29sLTE1ODA=\")"
   ]
  },
  {
   "cell_type": "code",
   "execution_count": 40,
   "id": "43a26598-5487-4c41-ad3c-b4913c84e4ec",
   "metadata": {},
   "outputs": [],
   "source": [
    "ratings = []\n",
    "for college_id in id_list:\n",
    "    rating = get_rating(college_id)\n",
    "    ratings.append(rating) "
   ]
  },
  {
   "cell_type": "code",
   "execution_count": 41,
   "id": "865aad5b-96c1-43b1-91d2-50f4637c15bd",
   "metadata": {},
   "outputs": [
    {
     "data": {
      "text/plain": [
       "[3.851304347826091,\n",
       " 3.816608996539799,\n",
       " 4.081674208144794,\n",
       " 3.915432098765438,\n",
       " 3.8887384948565296,\n",
       " 3.96256983240224,\n",
       " 3.8217654986522915,\n",
       " 3.770818070818072,\n",
       " 3.4189655172413795,\n",
       " 3.8318857142857237]"
      ]
     },
     "execution_count": 41,
     "metadata": {},
     "output_type": "execute_result"
    }
   ],
   "source": [
    "ratings[:10]"
   ]
  },
  {
   "cell_type": "code",
   "execution_count": 42,
   "id": "aca2195a-a193-4702-a24e-03e9a40127b8",
   "metadata": {},
   "outputs": [],
   "source": [
    "data = {'College': college_list, 'Sentiment': sentiments, 'Rating': ratings}\n",
    "final_data = pd.DataFrame(data)"
   ]
  },
  {
   "cell_type": "code",
   "execution_count": 43,
   "id": "413400c1-b227-4590-a964-aac0b85f0488",
   "metadata": {},
   "outputs": [
    {
     "data": {
      "text/html": [
       "<div>\n",
       "<style scoped>\n",
       "    .dataframe tbody tr th:only-of-type {\n",
       "        vertical-align: middle;\n",
       "    }\n",
       "\n",
       "    .dataframe tbody tr th {\n",
       "        vertical-align: top;\n",
       "    }\n",
       "\n",
       "    .dataframe thead th {\n",
       "        text-align: right;\n",
       "    }\n",
       "</style>\n",
       "<table border=\"1\" class=\"dataframe\">\n",
       "  <thead>\n",
       "    <tr style=\"text-align: right;\">\n",
       "      <th></th>\n",
       "      <th>College</th>\n",
       "      <th>Sentiment</th>\n",
       "      <th>Rating</th>\n",
       "    </tr>\n",
       "  </thead>\n",
       "  <tbody>\n",
       "    <tr>\n",
       "      <th>0</th>\n",
       "      <td>Cuyamaca College</td>\n",
       "      <td>0.357393</td>\n",
       "      <td>3.851304</td>\n",
       "    </tr>\n",
       "    <tr>\n",
       "      <th>1</th>\n",
       "      <td>Grossmont College</td>\n",
       "      <td>0.358326</td>\n",
       "      <td>3.816609</td>\n",
       "    </tr>\n",
       "    <tr>\n",
       "      <th>2</th>\n",
       "      <td>Imperial Valley College</td>\n",
       "      <td>0.356631</td>\n",
       "      <td>4.081674</td>\n",
       "    </tr>\n",
       "    <tr>\n",
       "      <th>3</th>\n",
       "      <td>MiraCosta College</td>\n",
       "      <td>0.376195</td>\n",
       "      <td>3.915432</td>\n",
       "    </tr>\n",
       "    <tr>\n",
       "      <th>4</th>\n",
       "      <td>Palomar College</td>\n",
       "      <td>0.370671</td>\n",
       "      <td>3.888738</td>\n",
       "    </tr>\n",
       "  </tbody>\n",
       "</table>\n",
       "</div>"
      ],
      "text/plain": [
       "                   College  Sentiment    Rating\n",
       "0         Cuyamaca College   0.357393  3.851304\n",
       "1        Grossmont College   0.358326  3.816609\n",
       "2  Imperial Valley College   0.356631  4.081674\n",
       "3        MiraCosta College   0.376195  3.915432\n",
       "4          Palomar College   0.370671  3.888738"
      ]
     },
     "execution_count": 43,
     "metadata": {},
     "output_type": "execute_result"
    }
   ],
   "source": [
    "final_data.head()"
   ]
  },
  {
   "cell_type": "code",
   "execution_count": 46,
   "id": "6f0f747b-8535-4f05-9e8f-c55bda5594f6",
   "metadata": {},
   "outputs": [
    {
     "data": {
      "text/plain": [
       "<matplotlib.collections.PathCollection at 0x212799c6350>"
      ]
     },
     "execution_count": 46,
     "metadata": {},
     "output_type": "execute_result"
    },
    {
     "data": {
      "image/png": "[encoded data removed]",
      "text/plain": [
       "<Figure size 640x480 with 1 Axes>"
      ]
     },
     "metadata": {},
     "output_type": "display_data"
    }
   ],
   "source": [
    "plt.scatter(final_data['Sentiment'], final_data['Rating'])"
   ]
  },
  {
   "cell_type": "code",
   "execution_count": 48,
   "id": "dc10a9a3-e184-42f4-b639-ae6dc021619a",
   "metadata": {},
   "outputs": [],
   "source": [
    "final_data.to_csv('project_data.csv')"
   ]
  },
  {
   "cell_type": "code",
   "execution_count": null,
   "id": "de168b74-df32-4511-9952-f27d243af33c",
   "metadata": {},
   "outputs": [],
   "source": []
  }
 ],
 "metadata": {
  "kernelspec": {
   "display_name": "Python 3 (ipykernel)",
   "language": "python",
   "name": "python3"
  },
  "language_info": {
   "codemirror_mode": {
    "name": "ipython",
    "version": 3
   },
   "file_extension": ".py",
   "mimetype": "text/x-python",
   "name": "python",
   "nbconvert_exporter": "python",
   "pygments_lexer": "ipython3",
   "version": "3.12.7"
  }
 },
 "nbformat": 4,
 "nbformat_minor": 5
}
