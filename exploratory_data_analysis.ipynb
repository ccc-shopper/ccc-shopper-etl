{
 "cells": [
  {
   "cell_type": "markdown",
   "metadata": {},
   "source": [
    "# Exploratory Data Analysis"
   ]
  },
  {
   "cell_type": "markdown",
   "metadata": {},
   "source": [
    "The purpose of this file is to perform basic analysis and create descriptive visualizations that assist in the study of the California Community College system."
   ]
  },
  {
   "cell_type": "code",
   "execution_count": 27,
   "metadata": {},
   "outputs": [],
   "source": [
    "import scripts.cccco as cccco\n",
    "import scripts.college_scorecard as scorecard\n",
    "import scripts.labor_market as labor_market\n",
    "import scripts.join_tools as join_tools\n",
    "\n",
    "import matplotlib.pyplot as plt\n",
    "import pandas as pd\n",
    "import plotly.express as px"
   ]
  },
  {
   "cell_type": "markdown",
   "metadata": {},
   "source": [
    "## College and District Location"
   ]
  },
  {
   "cell_type": "code",
   "execution_count": 9,
   "metadata": {},
   "outputs": [],
   "source": [
    "all_colleges = cccco.get_ccc_colleges()\n",
    "all_districts = cccco.get_ccc_districts()"
   ]
  },
  {
   "cell_type": "code",
   "execution_count": 10,
   "metadata": {},
   "outputs": [
    {
     "name": "stdout",
     "output_type": "stream",
     "text": [
      "115 rows\n"
     ]
    },
    {
     "data": {
      "text/html": [
       "<div>\n",
       "<style scoped>\n",
       "    .dataframe tbody tr th:only-of-type {\n",
       "        vertical-align: middle;\n",
       "    }\n",
       "\n",
       "    .dataframe tbody tr th {\n",
       "        vertical-align: top;\n",
       "    }\n",
       "\n",
       "    .dataframe thead th {\n",
       "        text-align: right;\n",
       "    }\n",
       "</style>\n",
       "<table border=\"1\" class=\"dataframe\">\n",
       "  <thead>\n",
       "    <tr style=\"text-align: right;\">\n",
       "      <th></th>\n",
       "      <th>CollegeID</th>\n",
       "      <th>CollegeName</th>\n",
       "      <th>DistrictID</th>\n",
       "      <th>StreetAddress</th>\n",
       "      <th>City</th>\n",
       "      <th>County</th>\n",
       "      <th>Zip</th>\n",
       "      <th>ZipPlus4</th>\n",
       "      <th>MailingAddress</th>\n",
       "      <th>MailingCity</th>\n",
       "      <th>MailingZip</th>\n",
       "      <th>Phone</th>\n",
       "      <th>WebsiteURL</th>\n",
       "      <th>Latitude</th>\n",
       "      <th>Longitude</th>\n",
       "      <th>LogoURL</th>\n",
       "      <th>District</th>\n",
       "    </tr>\n",
       "  </thead>\n",
       "  <tbody>\n",
       "    <tr>\n",
       "      <th>0</th>\n",
       "      <td>021</td>\n",
       "      <td>Cuyamaca College</td>\n",
       "      <td>020</td>\n",
       "      <td>900 Rancho San Diego Parkway</td>\n",
       "      <td>El Cajon</td>\n",
       "      <td>San Diego</td>\n",
       "      <td>92019</td>\n",
       "      <td>4304</td>\n",
       "      <td>900 Rancho San Diego Parkway</td>\n",
       "      <td>El Cajon</td>\n",
       "      <td>92019</td>\n",
       "      <td>619.660.4000</td>\n",
       "      <td>www.cuyamaca.edu</td>\n",
       "      <td>32.744890</td>\n",
       "      <td>-116.935229</td>\n",
       "      <td>CuyamacaCollegeLogo.jpg</td>\n",
       "      <td>None</td>\n",
       "    </tr>\n",
       "    <tr>\n",
       "      <th>1</th>\n",
       "      <td>022</td>\n",
       "      <td>Grossmont College</td>\n",
       "      <td>020</td>\n",
       "      <td>8800 Grossmont College Drive</td>\n",
       "      <td>El Cajon</td>\n",
       "      <td>San Diego</td>\n",
       "      <td>92020</td>\n",
       "      <td>1799</td>\n",
       "      <td>8800 Grossmont College Drive</td>\n",
       "      <td>El Cajon</td>\n",
       "      <td>92020</td>\n",
       "      <td>619.644.7000</td>\n",
       "      <td>www.grossmont.edu</td>\n",
       "      <td>32.817897</td>\n",
       "      <td>-117.005640</td>\n",
       "      <td>GrossmontCollegelogo.jpg</td>\n",
       "      <td>None</td>\n",
       "    </tr>\n",
       "    <tr>\n",
       "      <th>2</th>\n",
       "      <td>031</td>\n",
       "      <td>Imperial Valley College</td>\n",
       "      <td>030</td>\n",
       "      <td>380 East Aten Road</td>\n",
       "      <td>Imperial</td>\n",
       "      <td>Imperial</td>\n",
       "      <td>92251</td>\n",
       "      <td>9787</td>\n",
       "      <td>380 East Aten Road</td>\n",
       "      <td>Imperial</td>\n",
       "      <td>92251</td>\n",
       "      <td>760.352.8320</td>\n",
       "      <td>www.imperial.edu</td>\n",
       "      <td>32.825859</td>\n",
       "      <td>-115.502999</td>\n",
       "      <td>ImperialValleyCollegeLogocopy.jpg</td>\n",
       "      <td>None</td>\n",
       "    </tr>\n",
       "    <tr>\n",
       "      <th>3</th>\n",
       "      <td>051</td>\n",
       "      <td>MiraCosta College</td>\n",
       "      <td>050</td>\n",
       "      <td>1 Barnard Drive</td>\n",
       "      <td>Oceanside</td>\n",
       "      <td>San Diego</td>\n",
       "      <td>92056</td>\n",
       "      <td>3899</td>\n",
       "      <td>1 Barnard Drive</td>\n",
       "      <td>Oceanside</td>\n",
       "      <td>92056</td>\n",
       "      <td>760.757.2121</td>\n",
       "      <td>www.miracosta.edu</td>\n",
       "      <td>33.188864</td>\n",
       "      <td>-117.301064</td>\n",
       "      <td>Mira_Costa_College_Logo_4c.png</td>\n",
       "      <td>None</td>\n",
       "    </tr>\n",
       "    <tr>\n",
       "      <th>4</th>\n",
       "      <td>061</td>\n",
       "      <td>Palomar College</td>\n",
       "      <td>060</td>\n",
       "      <td>1140 West Mission Road</td>\n",
       "      <td>San Marcos</td>\n",
       "      <td>San Diego</td>\n",
       "      <td>92069</td>\n",
       "      <td>1487</td>\n",
       "      <td>1140 West Mission Road</td>\n",
       "      <td>San Marcos</td>\n",
       "      <td>92069</td>\n",
       "      <td>760.744.1150</td>\n",
       "      <td>www.palomar.edu</td>\n",
       "      <td>33.147015</td>\n",
       "      <td>-117.183980</td>\n",
       "      <td>PalomarCollegeLogo.jpg</td>\n",
       "      <td>None</td>\n",
       "    </tr>\n",
       "  </tbody>\n",
       "</table>\n",
       "</div>"
      ],
      "text/plain": [
       "  CollegeID              CollegeName DistrictID                 StreetAddress  \\\n",
       "0       021         Cuyamaca College        020  900 Rancho San Diego Parkway   \n",
       "1       022        Grossmont College        020  8800 Grossmont College Drive   \n",
       "2       031  Imperial Valley College        030            380 East Aten Road   \n",
       "3       051        MiraCosta College        050               1 Barnard Drive   \n",
       "4       061          Palomar College        060        1140 West Mission Road   \n",
       "\n",
       "         City      County    Zip ZipPlus4                 MailingAddress  \\\n",
       "0    El Cajon  San Diego   92019     4304   900 Rancho San Diego Parkway   \n",
       "1    El Cajon  San Diego   92020     1799  8800 Grossmont College Drive    \n",
       "2    Imperial   Imperial   92251     9787            380 East Aten Road    \n",
       "3   Oceanside  San Diego   92056     3899               1 Barnard Drive    \n",
       "4  San Marcos  San Diego   92069     1487        1140 West Mission Road    \n",
       "\n",
       "  MailingCity MailingZip          Phone         WebsiteURL   Latitude  \\\n",
       "0    El Cajon      92019  619.660.4000    www.cuyamaca.edu  32.744890   \n",
       "1    El Cajon      92020  619.644.7000   www.grossmont.edu  32.817897   \n",
       "2    Imperial      92251  760.352.8320    www.imperial.edu  32.825859   \n",
       "3   Oceanside      92056  760.757.2121   www.miracosta.edu  33.188864   \n",
       "4  San Marcos      92069  760.744.1150     www.palomar.edu  33.147015   \n",
       "\n",
       "    Longitude                            LogoURL District  \n",
       "0 -116.935229            CuyamacaCollegeLogo.jpg     None  \n",
       "1 -117.005640           GrossmontCollegelogo.jpg     None  \n",
       "2 -115.502999  ImperialValleyCollegeLogocopy.jpg     None  \n",
       "3 -117.301064     Mira_Costa_College_Logo_4c.png     None  \n",
       "4 -117.183980             PalomarCollegeLogo.jpg     None  "
      ]
     },
     "execution_count": 10,
     "metadata": {},
     "output_type": "execute_result"
    }
   ],
   "source": [
    "print(f\"{all_colleges.shape[0]:,} rows\")\n",
    "all_colleges.head()"
   ]
  },
  {
   "cell_type": "code",
   "execution_count": 11,
   "metadata": {},
   "outputs": [
    {
     "name": "stdout",
     "output_type": "stream",
     "text": [
      "73 rows\n"
     ]
    },
    {
     "data": {
      "text/html": [
       "<div>\n",
       "<style scoped>\n",
       "    .dataframe tbody tr th:only-of-type {\n",
       "        vertical-align: middle;\n",
       "    }\n",
       "\n",
       "    .dataframe tbody tr th {\n",
       "        vertical-align: top;\n",
       "    }\n",
       "\n",
       "    .dataframe thead th {\n",
       "        text-align: right;\n",
       "    }\n",
       "</style>\n",
       "<table border=\"1\" class=\"dataframe\">\n",
       "  <thead>\n",
       "    <tr style=\"text-align: right;\">\n",
       "      <th></th>\n",
       "      <th>DistrictID</th>\n",
       "      <th>DistrictName</th>\n",
       "      <th>DistrictTitle</th>\n",
       "      <th>StreetAddress</th>\n",
       "      <th>City</th>\n",
       "      <th>Zip</th>\n",
       "      <th>Phone</th>\n",
       "      <th>WebsiteURL</th>\n",
       "      <th>Boundaries</th>\n",
       "      <th>Colleges</th>\n",
       "    </tr>\n",
       "  </thead>\n",
       "  <tbody>\n",
       "    <tr>\n",
       "      <th>0</th>\n",
       "      <td>020</td>\n",
       "      <td>Grossmont-Cuyamaca                            ...</td>\n",
       "      <td>Grossmont-Cuyamaca Community College District</td>\n",
       "      <td>8800 Grossmont College Drive</td>\n",
       "      <td>El Cajon</td>\n",
       "      <td>92020</td>\n",
       "      <td>619-644-7010</td>\n",
       "      <td>www.gcccd.edu</td>\n",
       "      <td>None</td>\n",
       "      <td>[{'CollegeID': '021', 'CollegeName': 'Cuyamaca...</td>\n",
       "    </tr>\n",
       "    <tr>\n",
       "      <th>1</th>\n",
       "      <td>030</td>\n",
       "      <td>Imperial                                      ...</td>\n",
       "      <td>Imperial Community College District</td>\n",
       "      <td>380 E. Aten Road (PO Box 158)</td>\n",
       "      <td>Imperial</td>\n",
       "      <td>92251</td>\n",
       "      <td>760-352-8320</td>\n",
       "      <td>www.imperial.edu</td>\n",
       "      <td>None</td>\n",
       "      <td>[{'CollegeID': '031', 'CollegeName': 'Imperial...</td>\n",
       "    </tr>\n",
       "    <tr>\n",
       "      <th>2</th>\n",
       "      <td>050</td>\n",
       "      <td>MiraCosta                                     ...</td>\n",
       "      <td>MiraCosta Community College District</td>\n",
       "      <td>None</td>\n",
       "      <td>None</td>\n",
       "      <td>None</td>\n",
       "      <td>None</td>\n",
       "      <td>www.miracosta.edu</td>\n",
       "      <td>None</td>\n",
       "      <td>[{'CollegeID': '051', 'CollegeName': 'MiraCost...</td>\n",
       "    </tr>\n",
       "    <tr>\n",
       "      <th>3</th>\n",
       "      <td>060</td>\n",
       "      <td>Palomar                                       ...</td>\n",
       "      <td>Palomar Community College District</td>\n",
       "      <td>1140 W. Mission Road</td>\n",
       "      <td>San Marcos</td>\n",
       "      <td>92069</td>\n",
       "      <td>760-744-1150</td>\n",
       "      <td>www.palomar.edu</td>\n",
       "      <td>None</td>\n",
       "      <td>[{'CollegeID': '061', 'CollegeName': 'Palomar ...</td>\n",
       "    </tr>\n",
       "    <tr>\n",
       "      <th>4</th>\n",
       "      <td>070</td>\n",
       "      <td>San Diego                                     ...</td>\n",
       "      <td>San Diego Community College District</td>\n",
       "      <td>3375 Camino del Rio South</td>\n",
       "      <td>San Diego</td>\n",
       "      <td>92108</td>\n",
       "      <td>619-388-6500</td>\n",
       "      <td>www.sdccd.edu</td>\n",
       "      <td>None</td>\n",
       "      <td>[{'CollegeID': '071', 'CollegeName': 'San Dieg...</td>\n",
       "    </tr>\n",
       "  </tbody>\n",
       "</table>\n",
       "</div>"
      ],
      "text/plain": [
       "  DistrictID                                       DistrictName  \\\n",
       "0        020  Grossmont-Cuyamaca                            ...   \n",
       "1        030  Imperial                                      ...   \n",
       "2        050  MiraCosta                                     ...   \n",
       "3        060  Palomar                                       ...   \n",
       "4        070  San Diego                                     ...   \n",
       "\n",
       "                                   DistrictTitle  \\\n",
       "0  Grossmont-Cuyamaca Community College District   \n",
       "1            Imperial Community College District   \n",
       "2           MiraCosta Community College District   \n",
       "3             Palomar Community College District   \n",
       "4           San Diego Community College District   \n",
       "\n",
       "                   StreetAddress        City    Zip         Phone  \\\n",
       "0   8800 Grossmont College Drive    El Cajon  92020  619-644-7010   \n",
       "1  380 E. Aten Road (PO Box 158)    Imperial  92251  760-352-8320   \n",
       "2                           None        None   None          None   \n",
       "3          1140 W. Mission Road   San Marcos  92069  760-744-1150   \n",
       "4      3375 Camino del Rio South   San Diego  92108  619-388-6500   \n",
       "\n",
       "          WebsiteURL Boundaries  \\\n",
       "0      www.gcccd.edu       None   \n",
       "1   www.imperial.edu       None   \n",
       "2  www.miracosta.edu       None   \n",
       "3    www.palomar.edu       None   \n",
       "4      www.sdccd.edu       None   \n",
       "\n",
       "                                            Colleges  \n",
       "0  [{'CollegeID': '021', 'CollegeName': 'Cuyamaca...  \n",
       "1  [{'CollegeID': '031', 'CollegeName': 'Imperial...  \n",
       "2  [{'CollegeID': '051', 'CollegeName': 'MiraCost...  \n",
       "3  [{'CollegeID': '061', 'CollegeName': 'Palomar ...  \n",
       "4  [{'CollegeID': '071', 'CollegeName': 'San Dieg...  "
      ]
     },
     "execution_count": 11,
     "metadata": {},
     "output_type": "execute_result"
    }
   ],
   "source": [
    "print(f\"{all_districts.shape[0]:,} rows\")\n",
    "all_districts.head()"
   ]
  },
  {
   "cell_type": "code",
   "execution_count": 17,
   "metadata": {},
   "outputs": [],
   "source": [
    "# Each distict has a number of colleges associated with it. These colleges are\n",
    "# stored in dictionaries in the \"Colleges\" column.\n",
    "\n",
    "all_districts[\"CollegesPerDistrict\"] = all_districts[\"Colleges\"].apply(len)"
   ]
  },
  {
   "cell_type": "code",
   "execution_count": 18,
   "metadata": {},
   "outputs": [],
   "source": [
    "all_districts = all_districts[\n",
    "    # This is Calbright College, which is the system's first online-only college\n",
    "    # and doesn't have a physical campus. \n",
    "    all_districts[\"DistrictID\"] != \"210\"\n",
    "]"
   ]
  },
  {
   "cell_type": "code",
   "execution_count": 19,
   "metadata": {},
   "outputs": [
    {
     "data": {
      "text/plain": [
       "CollegesPerDistrict\n",
       "1    49\n",
       "2    12\n",
       "3     7\n",
       "4     3\n",
       "9     1\n",
       "Name: count, dtype: int64"
      ]
     },
     "execution_count": 19,
     "metadata": {},
     "output_type": "execute_result"
    }
   ],
   "source": [
    "all_districts[\"CollegesPerDistrict\"].value_counts()"
   ]
  },
  {
   "cell_type": "code",
   "execution_count": 21,
   "metadata": {},
   "outputs": [
    {
     "data": {
      "text/html": [
       "<div>\n",
       "<style scoped>\n",
       "    .dataframe tbody tr th:only-of-type {\n",
       "        vertical-align: middle;\n",
       "    }\n",
       "\n",
       "    .dataframe tbody tr th {\n",
       "        vertical-align: top;\n",
       "    }\n",
       "\n",
       "    .dataframe thead th {\n",
       "        text-align: right;\n",
       "    }\n",
       "</style>\n",
       "<table border=\"1\" class=\"dataframe\">\n",
       "  <thead>\n",
       "    <tr style=\"text-align: right;\">\n",
       "      <th></th>\n",
       "      <th>CollegeID</th>\n",
       "      <th>CollegeName</th>\n",
       "      <th>DistrictID</th>\n",
       "      <th>StreetAddress</th>\n",
       "      <th>City</th>\n",
       "      <th>County</th>\n",
       "      <th>Zip</th>\n",
       "      <th>ZipPlus4</th>\n",
       "      <th>MailingAddress</th>\n",
       "      <th>MailingCity</th>\n",
       "      <th>MailingZip</th>\n",
       "      <th>Phone</th>\n",
       "      <th>WebsiteURL</th>\n",
       "      <th>Latitude</th>\n",
       "      <th>Longitude</th>\n",
       "      <th>LogoURL</th>\n",
       "      <th>District</th>\n",
       "    </tr>\n",
       "  </thead>\n",
       "  <tbody>\n",
       "    <tr>\n",
       "      <th>78</th>\n",
       "      <td>741</td>\n",
       "      <td>Los Angeles City College</td>\n",
       "      <td>740</td>\n",
       "      <td>855 North Vermont Avenue</td>\n",
       "      <td>Los Angeles</td>\n",
       "      <td>Los Angeles</td>\n",
       "      <td>90029</td>\n",
       "      <td>3590</td>\n",
       "      <td>855 North Vermont Avenue</td>\n",
       "      <td>Los Angeles</td>\n",
       "      <td>90029</td>\n",
       "      <td>323.953.4000</td>\n",
       "      <td>www.lacitycollege.edu</td>\n",
       "      <td>34.086844</td>\n",
       "      <td>-118.291864</td>\n",
       "      <td>Los Angeles CC-Logo.jpg</td>\n",
       "      <td>None</td>\n",
       "    </tr>\n",
       "    <tr>\n",
       "      <th>79</th>\n",
       "      <td>742</td>\n",
       "      <td>Los Angeles Harbor College</td>\n",
       "      <td>740</td>\n",
       "      <td>1111 Figueroa Place</td>\n",
       "      <td>Wilmington</td>\n",
       "      <td>Los Angeles</td>\n",
       "      <td>90744</td>\n",
       "      <td>2397</td>\n",
       "      <td>1111 Figueroa Place</td>\n",
       "      <td>Wilmington</td>\n",
       "      <td>90744</td>\n",
       "      <td>310.233.4000</td>\n",
       "      <td>www.lahc.edu</td>\n",
       "      <td>33.784817</td>\n",
       "      <td>-118.281649</td>\n",
       "      <td>LosAngelesHarborCollegelogo.jpg</td>\n",
       "      <td>None</td>\n",
       "    </tr>\n",
       "    <tr>\n",
       "      <th>80</th>\n",
       "      <td>743</td>\n",
       "      <td>Los Angeles Mission College</td>\n",
       "      <td>740</td>\n",
       "      <td>13356 Eldridge Avenue</td>\n",
       "      <td>Sylmar</td>\n",
       "      <td>Los Angeles</td>\n",
       "      <td>91342</td>\n",
       "      <td>3200</td>\n",
       "      <td>13356 Eldridge Avenue</td>\n",
       "      <td>Sylmar</td>\n",
       "      <td>91342</td>\n",
       "      <td>818.364.7600</td>\n",
       "      <td>www.lamission.edu</td>\n",
       "      <td>34.314604</td>\n",
       "      <td>-118.420189</td>\n",
       "      <td>LosAngelesMClogocopy.jpg</td>\n",
       "      <td>None</td>\n",
       "    </tr>\n",
       "    <tr>\n",
       "      <th>81</th>\n",
       "      <td>744</td>\n",
       "      <td>Los Angeles Pierce College</td>\n",
       "      <td>740</td>\n",
       "      <td>6201 Winnetka Avenue</td>\n",
       "      <td>Woodland Hills</td>\n",
       "      <td>Los Angeles</td>\n",
       "      <td>91371</td>\n",
       "      <td>0001</td>\n",
       "      <td>6201 Winnetka Avenue</td>\n",
       "      <td>Woodland Hills</td>\n",
       "      <td>91371</td>\n",
       "      <td>818.719.6401</td>\n",
       "      <td>www.piercecollege.edu</td>\n",
       "      <td>34.183189</td>\n",
       "      <td>-118.571124</td>\n",
       "      <td>LosAngelesPierceCollegeLogo.jpg</td>\n",
       "      <td>None</td>\n",
       "    </tr>\n",
       "    <tr>\n",
       "      <th>82</th>\n",
       "      <td>745</td>\n",
       "      <td>Los Angeles Southwest College</td>\n",
       "      <td>740</td>\n",
       "      <td>1600 West Imperial Highway</td>\n",
       "      <td>Los Angeles</td>\n",
       "      <td>Los Angeles</td>\n",
       "      <td>90047</td>\n",
       "      <td>4899</td>\n",
       "      <td>1600 West Imperial Highway</td>\n",
       "      <td>Los Angeles</td>\n",
       "      <td>90047</td>\n",
       "      <td>323.241.5225</td>\n",
       "      <td>www.lasc.edu</td>\n",
       "      <td>33.930808</td>\n",
       "      <td>-118.304588</td>\n",
       "      <td>Los Angeles Southwest-logo.jpg</td>\n",
       "      <td>None</td>\n",
       "    </tr>\n",
       "    <tr>\n",
       "      <th>83</th>\n",
       "      <td>746</td>\n",
       "      <td>Los Angeles Trade-Technical College</td>\n",
       "      <td>740</td>\n",
       "      <td>400 West Washington Boulevard</td>\n",
       "      <td>Los Angeles</td>\n",
       "      <td>Los Angeles</td>\n",
       "      <td>90015</td>\n",
       "      <td>4108</td>\n",
       "      <td>400 West Washington Boulevard</td>\n",
       "      <td>Los Angeles</td>\n",
       "      <td>90015</td>\n",
       "      <td>213.763.7000</td>\n",
       "      <td>www.lattc.edu</td>\n",
       "      <td>34.033038</td>\n",
       "      <td>-118.269624</td>\n",
       "      <td>LosAngelesTTlogo.jpg</td>\n",
       "      <td>None</td>\n",
       "    </tr>\n",
       "    <tr>\n",
       "      <th>84</th>\n",
       "      <td>747</td>\n",
       "      <td>Los Angeles Valley College</td>\n",
       "      <td>740</td>\n",
       "      <td>5800 Fulton Avenue</td>\n",
       "      <td>Van Nuys</td>\n",
       "      <td>Los Angeles</td>\n",
       "      <td>91401</td>\n",
       "      <td>4096</td>\n",
       "      <td>5800 Fulton Avenue</td>\n",
       "      <td>Van Nuys</td>\n",
       "      <td>91401</td>\n",
       "      <td>818.947.2600</td>\n",
       "      <td>www.lavc.edu</td>\n",
       "      <td>34.176044</td>\n",
       "      <td>-118.422335</td>\n",
       "      <td>Los Angeles Valley College-logo.jpg</td>\n",
       "      <td>None</td>\n",
       "    </tr>\n",
       "    <tr>\n",
       "      <th>85</th>\n",
       "      <td>748</td>\n",
       "      <td>East Los Angeles College</td>\n",
       "      <td>740</td>\n",
       "      <td>1301 Avenida Cesar Chavez</td>\n",
       "      <td>Monterey Park</td>\n",
       "      <td>Los Angeles</td>\n",
       "      <td>91754</td>\n",
       "      <td>6099</td>\n",
       "      <td>1301 Avenida Cesar Chavez</td>\n",
       "      <td>Monterey Park</td>\n",
       "      <td>91754</td>\n",
       "      <td>323.265.8650</td>\n",
       "      <td>www.elac.edu</td>\n",
       "      <td>34.039736</td>\n",
       "      <td>-118.148754</td>\n",
       "      <td>EastLosAngelesCollegeLogo.jpg</td>\n",
       "      <td>None</td>\n",
       "    </tr>\n",
       "    <tr>\n",
       "      <th>86</th>\n",
       "      <td>749</td>\n",
       "      <td>West Los Angeles College</td>\n",
       "      <td>740</td>\n",
       "      <td>9000 Overland Avenue</td>\n",
       "      <td>Culver City</td>\n",
       "      <td>Los Angeles</td>\n",
       "      <td>90230</td>\n",
       "      <td>5002</td>\n",
       "      <td>9000 Overland Avenue</td>\n",
       "      <td>Culver City</td>\n",
       "      <td>90230</td>\n",
       "      <td>310.287.4200</td>\n",
       "      <td>www.wlac.edu</td>\n",
       "      <td>34.001820</td>\n",
       "      <td>-118.391139</td>\n",
       "      <td>WLAC logo-color.jpg</td>\n",
       "      <td>None</td>\n",
       "    </tr>\n",
       "  </tbody>\n",
       "</table>\n",
       "</div>"
      ],
      "text/plain": [
       "   CollegeID                          CollegeName DistrictID  \\\n",
       "78       741             Los Angeles City College        740   \n",
       "79       742           Los Angeles Harbor College        740   \n",
       "80       743          Los Angeles Mission College        740   \n",
       "81       744           Los Angeles Pierce College        740   \n",
       "82       745        Los Angeles Southwest College        740   \n",
       "83       746  Los Angeles Trade-Technical College        740   \n",
       "84       747           Los Angeles Valley College        740   \n",
       "85       748             East Los Angeles College        740   \n",
       "86       749             West Los Angeles College        740   \n",
       "\n",
       "                    StreetAddress            City         County    Zip  \\\n",
       "78       855 North Vermont Avenue     Los Angeles   Los Angeles   90029   \n",
       "79            1111 Figueroa Place      Wilmington   Los Angeles   90744   \n",
       "80          13356 Eldridge Avenue          Sylmar   Los Angeles   91342   \n",
       "81           6201 Winnetka Avenue  Woodland Hills   Los Angeles   91371   \n",
       "82     1600 West Imperial Highway     Los Angeles   Los Angeles   90047   \n",
       "83  400 West Washington Boulevard     Los Angeles   Los Angeles   90015   \n",
       "84             5800 Fulton Avenue        Van Nuys   Los Angeles   91401   \n",
       "85      1301 Avenida Cesar Chavez   Monterey Park   Los Angeles   91754   \n",
       "86           9000 Overland Avenue     Culver City   Los Angeles   90230   \n",
       "\n",
       "   ZipPlus4                  MailingAddress     MailingCity MailingZip  \\\n",
       "78     3590       855 North Vermont Avenue      Los Angeles      90029   \n",
       "79     2397            1111 Figueroa Place       Wilmington      90744   \n",
       "80     3200          13356 Eldridge Avenue           Sylmar      91342   \n",
       "81     0001           6201 Winnetka Avenue   Woodland Hills      91371   \n",
       "82     4899     1600 West Imperial Highway      Los Angeles      90047   \n",
       "83     4108  400 West Washington Boulevard      Los Angeles      90015   \n",
       "84     4096             5800 Fulton Avenue         Van Nuys      91401   \n",
       "85     6099      1301 Avenida Cesar Chavez    Monterey Park      91754   \n",
       "86     5002           9000 Overland Avenue      Culver City      90230   \n",
       "\n",
       "            Phone             WebsiteURL   Latitude   Longitude  \\\n",
       "78  323.953.4000   www.lacitycollege.edu  34.086844 -118.291864   \n",
       "79  310.233.4000            www.lahc.edu  33.784817 -118.281649   \n",
       "80  818.364.7600       www.lamission.edu  34.314604 -118.420189   \n",
       "81  818.719.6401   www.piercecollege.edu  34.183189 -118.571124   \n",
       "82  323.241.5225            www.lasc.edu  33.930808 -118.304588   \n",
       "83  213.763.7000           www.lattc.edu  34.033038 -118.269624   \n",
       "84  818.947.2600            www.lavc.edu  34.176044 -118.422335   \n",
       "85  323.265.8650            www.elac.edu  34.039736 -118.148754   \n",
       "86  310.287.4200            www.wlac.edu  34.001820 -118.391139   \n",
       "\n",
       "                                LogoURL District  \n",
       "78              Los Angeles CC-Logo.jpg     None  \n",
       "79      LosAngelesHarborCollegelogo.jpg     None  \n",
       "80             LosAngelesMClogocopy.jpg     None  \n",
       "81      LosAngelesPierceCollegeLogo.jpg     None  \n",
       "82       Los Angeles Southwest-logo.jpg     None  \n",
       "83                 LosAngelesTTlogo.jpg     None  \n",
       "84  Los Angeles Valley College-logo.jpg     None  \n",
       "85        EastLosAngelesCollegeLogo.jpg     None  \n",
       "86                  WLAC logo-color.jpg     None  "
      ]
     },
     "execution_count": 21,
     "metadata": {},
     "output_type": "execute_result"
    }
   ],
   "source": [
    "# There is a clear largest district. What is it? \n",
    "\n",
    "biggest_district = all_districts.loc[\n",
    "    all_districts[\"CollegesPerDistrict\"] == 9,\n",
    "    \"DistrictID\"\n",
    "]\n",
    "\n",
    "all_colleges[all_colleges[\"DistrictID\"].isin(biggest_district)]"
   ]
  },
  {
   "cell_type": "code",
   "execution_count": 23,
   "metadata": {},
   "outputs": [
    {
     "data": {
      "image/png": "[encoded data removed]",
      "text/plain": [
       "<Figure size 1000x600 with 1 Axes>"
      ]
     },
     "metadata": {},
     "output_type": "display_data"
    }
   ],
   "source": [
    "ax = all_districts[\"NumberOfColleges\"].value_counts().plot(\n",
    "    kind=\"barh\",\n",
    "    title=\"Number of Colleges per District\",\n",
    "    xlabel=\"Count of Districts\",\n",
    "    ylabel=\"Number of Colleges Within the District\",\n",
    "    figsize=(10, 6),\n",
    "    rot=0,\n",
    "    cmap='viridis'\n",
    ")\n",
    "\n",
    "#plt.savefig(\"./figures/number_of_colleges_per_district.png\")\n",
    "plt.show()"
   ]
  },
  {
   "cell_type": "code",
   "execution_count": 25,
   "metadata": {},
   "outputs": [],
   "source": [
    "# If a distict has only one college, we'll call it a \"Single College District\"\n",
    "\n",
    "all_districts.loc[\n",
    "    all_districts[\"Colleges\"].apply(len) == 1, \"DistrictName\"\n",
    "] = \"Single College District\""
   ]
  },
  {
   "cell_type": "code",
   "execution_count": null,
   "metadata": {},
   "outputs": [
    {
     "data": {
      "text/plain": [
       "DistrictName\n",
       "Single College District                                    49\n",
       "Grossmont-Cuyamaca                                          1\n",
       "Kern                                                        1\n",
       "Riverside                                                   1\n",
       "South Orange County                                         1\n",
       "Rancho Santiago                                             1\n",
       "North Orange County                                         1\n",
       "Coast                                                       1\n",
       "Los Angeles                                                 1\n",
       "Ventura County                                              1\n",
       "Yosemite                                                    1\n",
       "West Hills                                                  1\n",
       "State Center                                                1\n",
       "West Valley-Mission                                         1\n",
       "Chabot-Las Positas                                          1\n",
       "San José-Evergreen                                          1\n",
       "Foothill-De Anza                                            1\n",
       "San Mateo County                                            1\n",
       "Peralta                                                     1\n",
       "Contra Costa                                                1\n",
       "Yuba                                                        1\n",
       "Los Rios                                                    1\n",
       "Calbright                                                   1\n",
       "San Diego                                                   1\n",
       "San Bernardino                                              1\n",
       "Name: count, dtype: int64"
      ]
     },
     "execution_count": 19,
     "metadata": {},
     "output_type": "execute_result"
    }
   ],
   "source": [
    "all_districts[\"DistrictName\"].value_counts()"
   ]
  },
  {
   "cell_type": "code",
   "execution_count": null,
   "metadata": {},
   "outputs": [
    {
     "data": {
      "text/html": [
       "<div>\n",
       "<style scoped>\n",
       "    .dataframe tbody tr th:only-of-type {\n",
       "        vertical-align: middle;\n",
       "    }\n",
       "\n",
       "    .dataframe tbody tr th {\n",
       "        vertical-align: top;\n",
       "    }\n",
       "\n",
       "    .dataframe thead th {\n",
       "        text-align: right;\n",
       "    }\n",
       "</style>\n",
       "<table border=\"1\" class=\"dataframe\">\n",
       "  <thead>\n",
       "    <tr style=\"text-align: right;\">\n",
       "      <th></th>\n",
       "      <th>CollegeID</th>\n",
       "      <th>CollegeName</th>\n",
       "      <th>DistrictID</th>\n",
       "      <th>StreetAddress</th>\n",
       "      <th>City</th>\n",
       "      <th>County</th>\n",
       "      <th>Zip</th>\n",
       "      <th>ZipPlus4</th>\n",
       "      <th>MailingAddress</th>\n",
       "      <th>MailingCity</th>\n",
       "      <th>...</th>\n",
       "      <th>WebsiteURL</th>\n",
       "      <th>Latitude</th>\n",
       "      <th>Longitude</th>\n",
       "      <th>LogoURL</th>\n",
       "      <th>District</th>\n",
       "      <th>DistrictName</th>\n",
       "      <th>DistrictTitle</th>\n",
       "      <th>WebsiteURLDistrict</th>\n",
       "      <th>NumberOfColleges</th>\n",
       "      <th>CollegesPerDistrict</th>\n",
       "    </tr>\n",
       "  </thead>\n",
       "  <tbody>\n",
       "    <tr>\n",
       "      <th>0</th>\n",
       "      <td>021</td>\n",
       "      <td>Cuyamaca College</td>\n",
       "      <td>020</td>\n",
       "      <td>900 Rancho San Diego Parkway</td>\n",
       "      <td>El Cajon</td>\n",
       "      <td>San Diego</td>\n",
       "      <td>92019</td>\n",
       "      <td>4304</td>\n",
       "      <td>900 Rancho San Diego Parkway</td>\n",
       "      <td>El Cajon</td>\n",
       "      <td>...</td>\n",
       "      <td>www.cuyamaca.edu</td>\n",
       "      <td>32.744890</td>\n",
       "      <td>-116.935229</td>\n",
       "      <td>CuyamacaCollegeLogo.jpg</td>\n",
       "      <td>None</td>\n",
       "      <td>Grossmont-Cuyamaca                            ...</td>\n",
       "      <td>Grossmont-Cuyamaca Community College District</td>\n",
       "      <td>www.gcccd.edu</td>\n",
       "      <td>2</td>\n",
       "      <td>2</td>\n",
       "    </tr>\n",
       "    <tr>\n",
       "      <th>1</th>\n",
       "      <td>022</td>\n",
       "      <td>Grossmont College</td>\n",
       "      <td>020</td>\n",
       "      <td>8800 Grossmont College Drive</td>\n",
       "      <td>El Cajon</td>\n",
       "      <td>San Diego</td>\n",
       "      <td>92020</td>\n",
       "      <td>1799</td>\n",
       "      <td>8800 Grossmont College Drive</td>\n",
       "      <td>El Cajon</td>\n",
       "      <td>...</td>\n",
       "      <td>www.grossmont.edu</td>\n",
       "      <td>32.817897</td>\n",
       "      <td>-117.005640</td>\n",
       "      <td>GrossmontCollegelogo.jpg</td>\n",
       "      <td>None</td>\n",
       "      <td>Grossmont-Cuyamaca                            ...</td>\n",
       "      <td>Grossmont-Cuyamaca Community College District</td>\n",
       "      <td>www.gcccd.edu</td>\n",
       "      <td>2</td>\n",
       "      <td>2</td>\n",
       "    </tr>\n",
       "    <tr>\n",
       "      <th>2</th>\n",
       "      <td>031</td>\n",
       "      <td>Imperial Valley College</td>\n",
       "      <td>030</td>\n",
       "      <td>380 East Aten Road</td>\n",
       "      <td>Imperial</td>\n",
       "      <td>Imperial</td>\n",
       "      <td>92251</td>\n",
       "      <td>9787</td>\n",
       "      <td>380 East Aten Road</td>\n",
       "      <td>Imperial</td>\n",
       "      <td>...</td>\n",
       "      <td>www.imperial.edu</td>\n",
       "      <td>32.825859</td>\n",
       "      <td>-115.502999</td>\n",
       "      <td>ImperialValleyCollegeLogocopy.jpg</td>\n",
       "      <td>None</td>\n",
       "      <td>Single College District</td>\n",
       "      <td>Imperial Community College District</td>\n",
       "      <td>www.imperial.edu</td>\n",
       "      <td>1</td>\n",
       "      <td>1</td>\n",
       "    </tr>\n",
       "    <tr>\n",
       "      <th>3</th>\n",
       "      <td>051</td>\n",
       "      <td>MiraCosta College</td>\n",
       "      <td>050</td>\n",
       "      <td>1 Barnard Drive</td>\n",
       "      <td>Oceanside</td>\n",
       "      <td>San Diego</td>\n",
       "      <td>92056</td>\n",
       "      <td>3899</td>\n",
       "      <td>1 Barnard Drive</td>\n",
       "      <td>Oceanside</td>\n",
       "      <td>...</td>\n",
       "      <td>www.miracosta.edu</td>\n",
       "      <td>33.188864</td>\n",
       "      <td>-117.301064</td>\n",
       "      <td>Mira_Costa_College_Logo_4c.png</td>\n",
       "      <td>None</td>\n",
       "      <td>Single College District</td>\n",
       "      <td>MiraCosta Community College District</td>\n",
       "      <td>www.miracosta.edu</td>\n",
       "      <td>1</td>\n",
       "      <td>1</td>\n",
       "    </tr>\n",
       "    <tr>\n",
       "      <th>4</th>\n",
       "      <td>061</td>\n",
       "      <td>Palomar College</td>\n",
       "      <td>060</td>\n",
       "      <td>1140 West Mission Road</td>\n",
       "      <td>San Marcos</td>\n",
       "      <td>San Diego</td>\n",
       "      <td>92069</td>\n",
       "      <td>1487</td>\n",
       "      <td>1140 West Mission Road</td>\n",
       "      <td>San Marcos</td>\n",
       "      <td>...</td>\n",
       "      <td>www.palomar.edu</td>\n",
       "      <td>33.147015</td>\n",
       "      <td>-117.183980</td>\n",
       "      <td>PalomarCollegeLogo.jpg</td>\n",
       "      <td>None</td>\n",
       "      <td>Single College District</td>\n",
       "      <td>Palomar Community College District</td>\n",
       "      <td>www.palomar.edu</td>\n",
       "      <td>1</td>\n",
       "      <td>1</td>\n",
       "    </tr>\n",
       "  </tbody>\n",
       "</table>\n",
       "<p>5 rows × 22 columns</p>\n",
       "</div>"
      ],
      "text/plain": [
       "  CollegeID              CollegeName DistrictID                 StreetAddress  \\\n",
       "0       021         Cuyamaca College        020  900 Rancho San Diego Parkway   \n",
       "1       022        Grossmont College        020  8800 Grossmont College Drive   \n",
       "2       031  Imperial Valley College        030            380 East Aten Road   \n",
       "3       051        MiraCosta College        050               1 Barnard Drive   \n",
       "4       061          Palomar College        060        1140 West Mission Road   \n",
       "\n",
       "         City      County    Zip ZipPlus4                 MailingAddress  \\\n",
       "0    El Cajon  San Diego   92019     4304   900 Rancho San Diego Parkway   \n",
       "1    El Cajon  San Diego   92020     1799  8800 Grossmont College Drive    \n",
       "2    Imperial   Imperial   92251     9787            380 East Aten Road    \n",
       "3   Oceanside  San Diego   92056     3899               1 Barnard Drive    \n",
       "4  San Marcos  San Diego   92069     1487        1140 West Mission Road    \n",
       "\n",
       "  MailingCity  ...         WebsiteURL   Latitude   Longitude  \\\n",
       "0    El Cajon  ...   www.cuyamaca.edu  32.744890 -116.935229   \n",
       "1    El Cajon  ...  www.grossmont.edu  32.817897 -117.005640   \n",
       "2    Imperial  ...   www.imperial.edu  32.825859 -115.502999   \n",
       "3   Oceanside  ...  www.miracosta.edu  33.188864 -117.301064   \n",
       "4  San Marcos  ...    www.palomar.edu  33.147015 -117.183980   \n",
       "\n",
       "                             LogoURL  District  \\\n",
       "0            CuyamacaCollegeLogo.jpg      None   \n",
       "1           GrossmontCollegelogo.jpg      None   \n",
       "2  ImperialValleyCollegeLogocopy.jpg      None   \n",
       "3     Mira_Costa_College_Logo_4c.png      None   \n",
       "4             PalomarCollegeLogo.jpg      None   \n",
       "\n",
       "                                        DistrictName  \\\n",
       "0  Grossmont-Cuyamaca                            ...   \n",
       "1  Grossmont-Cuyamaca                            ...   \n",
       "2                            Single College District   \n",
       "3                            Single College District   \n",
       "4                            Single College District   \n",
       "\n",
       "                                   DistrictTitle WebsiteURLDistrict  \\\n",
       "0  Grossmont-Cuyamaca Community College District      www.gcccd.edu   \n",
       "1  Grossmont-Cuyamaca Community College District      www.gcccd.edu   \n",
       "2            Imperial Community College District   www.imperial.edu   \n",
       "3           MiraCosta Community College District  www.miracosta.edu   \n",
       "4             Palomar Community College District    www.palomar.edu   \n",
       "\n",
       "  NumberOfColleges CollegesPerDistrict  \n",
       "0                2                   2  \n",
       "1                2                   2  \n",
       "2                1                   1  \n",
       "3                1                   1  \n",
       "4                1                   1  \n",
       "\n",
       "[5 rows x 22 columns]"
      ]
     },
     "execution_count": 26,
     "metadata": {},
     "output_type": "execute_result"
    }
   ],
   "source": [
    "# Append district data to the college dataset.\n",
    "\n",
    "all_colleges = pd.merge(\n",
    "    all_colleges,\n",
    "    all_districts.drop(\n",
    "        columns=[\n",
    "            \"StreetAddress\",\n",
    "            \"City\",\n",
    "            \"Zip\",\n",
    "            \"Phone\",\n",
    "            \"Boundaries\",\n",
    "            \"Colleges\",\n",
    "        ]\n",
    "    ),\n",
    "    on='DistrictID',\n",
    "    how='left',\n",
    "    suffixes=('', 'District')\n",
    ")\n",
    "\n",
    "all_colleges.head()"
   ]
  },
  {
   "cell_type": "code",
   "execution_count": 30,
   "metadata": {},
   "outputs": [
    {
     "data": {
      "application/vnd.plotly.v1+json": {
       "config": {
        "plotlyServerURL": "https://plot.ly"
       },
       "data": [
        {
         "hovertemplate": "<b>%{hovertext}</b><br><br>District=Grossmont-Cuyamaca                                     <br>Latitude=%{lat}<br>Longitude=%{lon}<extra></extra>",
         "hovertext": [
          "Cuyamaca College",
          "Grossmont College"
         ],
         "lat": [
          32.74489,
          32.817897
         ],
         "legendgroup": "Grossmont-Cuyamaca                                     ",
         "lon": [
          -116.935229,
          -117.00564
         ],
         "marker": {
          "color": "#636efa",
          "size": 6
         },
         "mode": "markers",
         "name": "Grossmont-Cuyamaca                                     ",
         "showlegend": true,
         "subplot": "mapbox",
         "type": "scattermapbox"
        },
        {
         "hovertemplate": "<b>%{hovertext}</b><br><br>District=Single College District<br>Latitude=%{lat}<br>Longitude=%{lon}<extra></extra>",
         "hovertext": [
          "Imperial Valley College",
          "MiraCosta College",
          "Palomar College",
          "Southwestern College",
          "Butte College",
          "Feather River College",
          "Lassen Community College",
          "Mendocino College",
          "College of the Redwoods",
          "Shasta College",
          "College of the Siskiyous",
          "Lake Tahoe Community College",
          "Napa Valley College",
          "Santa Rosa Junior College",
          "Sierra College",
          "Solano Community College",
          "College of Marin",
          "City College of San Francisco",
          "Cabrillo College",
          "Ohlone College",
          "Gavilan College",
          "Hartnell College",
          "Monterey Peninsula College",
          "Merced College",
          "San Joaquin Delta College",
          "College of the Sequoias",
          "Allan Hancock College",
          "Antelope Valley College",
          "Cuesta College",
          "Santa Barbara City College",
          "College of the Canyons",
          "Taft College",
          "Compton College",
          "El Camino College",
          "Glendale Community College",
          "Pasadena City College",
          "Santa Monica College",
          "Cerritos College",
          "Citrus College",
          "Long Beach City College",
          "Mt. San Antonio College",
          "Rio Hondo College",
          "Barstow Community College",
          "Chaffey College",
          "College of the Desert",
          "Mt. San Jacinto College",
          "Palo Verde College",
          "Copper Mountain College",
          "Victor Valley College"
         ],
         "lat": [
          32.825859,
          33.188864,
          33.147015,
          32.641828,
          39.647365,
          39.95095,
          40.432698,
          39.185684,
          40.70504,
          40.634751,
          41.412714,
          38.926708,
          38.27363,
          38.454805,
          38.788501,
          38.232644,
          37.953801,
          37.724247,
          36.9883421,
          37.527822,
          36.9762761,
          36.673843,
          36.5947521,
          37.333957,
          37.995974,
          36.322927,
          34.9421711,
          34.675044,
          35.3330991,
          34.4067171,
          34.402685,
          35.149388,
          33.874393,
          33.884799,
          34.168679,
          34.145852,
          34.018915,
          33.88766,
          34.135857,
          33.832509,
          34.043398,
          34.019628,
          34.87077,
          34.146492,
          33.732329,
          33.807225,
          33.610395,
          34.141518,
          34.471081
         ],
         "legendgroup": "Single College District",
         "lon": [
          -115.502999,
          -117.301064,
          -117.18398,
          -116.994018,
          -121.649277,
          -120.970148,
          -120.635333,
          -123.219601,
          -124.207829,
          -122.325779,
          -122.395695,
          -119.971093,
          -122.272936,
          -122.717412,
          -121.209383,
          -122.126308,
          -122.548962,
          -122.452332,
          -121.9250651,
          -121.918369,
          -121.5690541,
          -121.664833,
          -121.8873291,
          -120.477941,
          -121.314813,
          -119.314184,
          -120.4247051,
          -118.184579,
          -120.7428041,
          -119.7002881,
          -118.566617,
          -119.458858,
          -118.2092632,
          -118.326698,
          -118.22837,
          -118.117937,
          -118.470329,
          -118.066309,
          -117.884995,
          -118.135245,
          -117.847776,
          -118.037848,
          -117.021172,
          -117.575627,
          -116.391,
          -116.971923,
          -114.598849,
          -116.212214,
          -117.260293
         ],
         "marker": {
          "color": "#EF553B",
          "size": 6
         },
         "mode": "markers",
         "name": "Single College District",
         "showlegend": true,
         "subplot": "mapbox",
         "type": "scattermapbox"
        },
        {
         "hovertemplate": "<b>%{hovertext}</b><br><br>District=San Diego                                              <br>Latitude=%{lat}<br>Longitude=%{lon}<extra></extra>",
         "hovertext": [
          "San Diego City College",
          "San Diego Mesa College",
          "San Diego Miramar College"
         ],
         "lat": [
          32.718957,
          32.803441,
          32.908849
         ],
         "legendgroup": "San Diego                                              ",
         "lon": [
          -117.153631,
          -117.164172,
          -117.123989
         ],
         "marker": {
          "color": "#00cc96",
          "size": 6
         },
         "mode": "markers",
         "name": "San Diego                                              ",
         "showlegend": true,
         "subplot": "mapbox",
         "type": "scattermapbox"
        },
        {
         "hovertemplate": "<b>%{hovertext}</b><br><br>District=Los Rios                                               <br>Latitude=%{lat}<br>Longitude=%{lon}<extra></extra>",
         "hovertext": [
          "American River College",
          "Cosumnes River College",
          "Sacramento City College",
          "Folsom Lake College"
         ],
         "lat": [
          38.650125,
          38.455405,
          38.541473,
          38.65825
         ],
         "legendgroup": "Los Rios                                               ",
         "lon": [
          -121.350283,
          -121.427561,
          -121.491631,
          -121.128419
         ],
         "marker": {
          "color": "#ab63fa",
          "size": 6
         },
         "mode": "markers",
         "name": "Los Rios                                               ",
         "showlegend": true,
         "subplot": "mapbox",
         "type": "scattermapbox"
        },
        {
         "hovertemplate": "<b>%{hovertext}</b><br><br>District=Yuba                                                   <br>Latitude=%{lat}<br>Longitude=%{lon}<extra></extra>",
         "hovertext": [
          "Yuba College",
          "Woodland Community College"
         ],
         "lat": [
          39.127895,
          38.662461
         ],
         "legendgroup": "Yuba                                                   ",
         "lon": [
          -121.539753,
          -121.735667
         ],
         "marker": {
          "color": "#FFA15A",
          "size": 6
         },
         "mode": "markers",
         "name": "Yuba                                                   ",
         "showlegend": true,
         "subplot": "mapbox",
         "type": "scattermapbox"
        },
        {
         "hovertemplate": "<b>%{hovertext}</b><br><br>District=Contra Costa                                           <br>Latitude=%{lat}<br>Longitude=%{lon}<extra></extra>",
         "hovertext": [
          "Contra Costa College",
          "Diablo Valley College",
          "Los Medanos College"
         ],
         "lat": [
          37.96696,
          37.971268,
          38.008082
         ],
         "legendgroup": "Contra Costa                                           ",
         "lon": [
          -122.343213,
          -122.070027,
          -121.860106
         ],
         "marker": {
          "color": "#19d3f3",
          "size": 6
         },
         "mode": "markers",
         "name": "Contra Costa                                           ",
         "showlegend": true,
         "subplot": "mapbox",
         "type": "scattermapbox"
        },
        {
         "hovertemplate": "<b>%{hovertext}</b><br><br>District=Peralta                                                <br>Latitude=%{lat}<br>Longitude=%{lon}<extra></extra>",
         "hovertext": [
          "College of Alameda",
          "Laney College",
          "Merritt College",
          "Berkeley City College"
         ],
         "lat": [
          37.779899,
          37.797205,
          37.791241,
          37.869997
         ],
         "legendgroup": "Peralta                                                ",
         "lon": [
          -122.280515,
          -122.263717,
          -122.16773,
          -122.269272
         ],
         "marker": {
          "color": "#FF6692",
          "size": 6
         },
         "mode": "markers",
         "name": "Peralta                                                ",
         "showlegend": true,
         "subplot": "mapbox",
         "type": "scattermapbox"
        },
        {
         "hovertemplate": "<b>%{hovertext}</b><br><br>District=San Mateo County                                       <br>Latitude=%{lat}<br>Longitude=%{lon}<extra></extra>",
         "hovertext": [
          "Cañada College",
          "College of San Mateo",
          "Skyline College"
         ],
         "lat": [
          37.447235,
          37.531806,
          37.632218
         ],
         "legendgroup": "San Mateo County                                       ",
         "lon": [
          -122.260516,
          -122.33523,
          -122.461335
         ],
         "marker": {
          "color": "#B6E880",
          "size": 6
         },
         "mode": "markers",
         "name": "San Mateo County                                       ",
         "showlegend": true,
         "subplot": "mapbox",
         "type": "scattermapbox"
        },
        {
         "hovertemplate": "<b>%{hovertext}</b><br><br>District=Foothill-De Anza                                       <br>Latitude=%{lat}<br>Longitude=%{lon}<extra></extra>",
         "hovertext": [
          "De Anza College",
          "Foothill College"
         ],
         "lat": [
          37.322667,
          37.359792
         ],
         "legendgroup": "Foothill-De Anza                                       ",
         "lon": [
          -122.045855,
          -122.122352
         ],
         "marker": {
          "color": "#FF97FF",
          "size": 6
         },
         "mode": "markers",
         "name": "Foothill-De Anza                                       ",
         "showlegend": true,
         "subplot": "mapbox",
         "type": "scattermapbox"
        },
        {
         "hovertemplate": "<b>%{hovertext}</b><br><br>District=San José-Evergreen                                     <br>Latitude=%{lat}<br>Longitude=%{lon}<extra></extra>",
         "hovertext": [
          "Evergreen Valley College",
          "San José City College"
         ],
         "lat": [
          37.2979351,
          37.3163381
         ],
         "legendgroup": "San José-Evergreen                                     ",
         "lon": [
          -121.761481,
          -121.926891
         ],
         "marker": {
          "color": "#FECB52",
          "size": 6
         },
         "mode": "markers",
         "name": "San José-Evergreen                                     ",
         "showlegend": true,
         "subplot": "mapbox",
         "type": "scattermapbox"
        },
        {
         "hovertemplate": "<b>%{hovertext}</b><br><br>District=Chabot-Las Positas                                     <br>Latitude=%{lat}<br>Longitude=%{lon}<extra></extra>",
         "hovertext": [
          "Las Positas College",
          "Chabot College"
         ],
         "lat": [
          37.7086,
          37.642865
         ],
         "legendgroup": "Chabot-Las Positas                                     ",
         "lon": [
          -121.804916,
          -122.104307
         ],
         "marker": {
          "color": "#636efa",
          "size": 6
         },
         "mode": "markers",
         "name": "Chabot-Las Positas                                     ",
         "showlegend": true,
         "subplot": "mapbox",
         "type": "scattermapbox"
        },
        {
         "hovertemplate": "<b>%{hovertext}</b><br><br>District=West Valley-Mission                                    <br>Latitude=%{lat}<br>Longitude=%{lon}<extra></extra>",
         "hovertext": [
          "Mission College",
          "West Valley College"
         ],
         "lat": [
          37.391842,
          37.265841
         ],
         "legendgroup": "West Valley-Mission                                    ",
         "lon": [
          -121.980134,
          -122.013575
         ],
         "marker": {
          "color": "#EF553B",
          "size": 6
         },
         "mode": "markers",
         "name": "West Valley-Mission                                    ",
         "showlegend": true,
         "subplot": "mapbox",
         "type": "scattermapbox"
        },
        {
         "hovertemplate": "<b>%{hovertext}</b><br><br>District=Kern                                                   <br>Latitude=%{lat}<br>Longitude=%{lon}<extra></extra>",
         "hovertext": [
          "Bakersfield College",
          "Cerro Coso Community College",
          "Porterville College"
         ],
         "lat": [
          35.410795,
          35.568673,
          36.048309
         ],
         "legendgroup": "Kern                                                   ",
         "lon": [
          -118.9735,
          -117.670047,
          -119.014193
         ],
         "marker": {
          "color": "#00cc96",
          "size": 6
         },
         "mode": "markers",
         "name": "Kern                                                   ",
         "showlegend": true,
         "subplot": "mapbox",
         "type": "scattermapbox"
        },
        {
         "hovertemplate": "<b>%{hovertext}</b><br><br>District=State Center                                           <br>Latitude=%{lat}<br>Longitude=%{lon}<extra></extra>",
         "hovertext": [
          "Fresno City College",
          "Reedley College",
          "Madera Community College",
          "Clovis Community College"
         ],
         "lat": [
          36.766625,
          36.605852,
          36.924985,
          36.884529
         ],
         "legendgroup": "State Center                                           ",
         "lon": [
          -119.798312,
          -119.457834,
          -119.998072,
          -119.73
         ],
         "marker": {
          "color": "#ab63fa",
          "size": 6
         },
         "mode": "markers",
         "name": "State Center                                           ",
         "showlegend": true,
         "subplot": "mapbox",
         "type": "scattermapbox"
        },
        {
         "hovertemplate": "<b>%{hovertext}</b><br><br>District=West Hills                                             <br>Latitude=%{lat}<br>Longitude=%{lon}<extra></extra>",
         "hovertext": [
          "Coalinga College",
          "Lemoore College"
         ],
         "lat": [
          36.147575,
          36.292286
         ],
         "legendgroup": "West Hills                                             ",
         "lon": [
          -120.357183,
          -119.821752
         ],
         "marker": {
          "color": "#FFA15A",
          "size": 6
         },
         "mode": "markers",
         "name": "West Hills                                             ",
         "showlegend": true,
         "subplot": "mapbox",
         "type": "scattermapbox"
        },
        {
         "hovertemplate": "<b>%{hovertext}</b><br><br>District=Yosemite                                               <br>Latitude=%{lat}<br>Longitude=%{lon}<extra></extra>",
         "hovertext": [
          "Columbia College",
          "Modesto Junior College"
         ],
         "lat": [
          38.032148,
          37.650879
         ],
         "legendgroup": "Yosemite                                               ",
         "lon": [
          -120.389719,
          -121.007474
         ],
         "marker": {
          "color": "#19d3f3",
          "size": 6
         },
         "mode": "markers",
         "name": "Yosemite                                               ",
         "showlegend": true,
         "subplot": "mapbox",
         "type": "scattermapbox"
        },
        {
         "hovertemplate": "<b>%{hovertext}</b><br><br>District=Ventura County                                         <br>Latitude=%{lat}<br>Longitude=%{lon}<extra></extra>",
         "hovertext": [
          "Moorpark College",
          "Oxnard College",
          "Ventura College"
         ],
         "lat": [
          34.301162,
          34.1677431,
          34.2757611
         ],
         "legendgroup": "Ventura County                                         ",
         "lon": [
          -118.831972,
          -119.1593981,
          -119.2304871
         ],
         "marker": {
          "color": "#FF6692",
          "size": 6
         },
         "mode": "markers",
         "name": "Ventura County                                         ",
         "showlegend": true,
         "subplot": "mapbox",
         "type": "scattermapbox"
        },
        {
         "hovertemplate": "<b>%{hovertext}</b><br><br>District=Los Angeles                                            <br>Latitude=%{lat}<br>Longitude=%{lon}<extra></extra>",
         "hovertext": [
          "Los Angeles City College",
          "Los Angeles Harbor College",
          "Los Angeles Mission College",
          "Los Angeles Pierce College",
          "Los Angeles Southwest College",
          "Los Angeles Trade-Technical College",
          "Los Angeles Valley College",
          "East Los Angeles College",
          "West Los Angeles College"
         ],
         "lat": [
          34.086844,
          33.784817,
          34.314604,
          34.183189,
          33.930808,
          34.033038,
          34.176044,
          34.039736,
          34.00182
         ],
         "legendgroup": "Los Angeles                                            ",
         "lon": [
          -118.291864,
          -118.281649,
          -118.420189,
          -118.571124,
          -118.304588,
          -118.269624,
          -118.422335,
          -118.148754,
          -118.391139
         ],
         "marker": {
          "color": "#B6E880",
          "size": 6
         },
         "mode": "markers",
         "name": "Los Angeles                                            ",
         "showlegend": true,
         "subplot": "mapbox",
         "type": "scattermapbox"
        },
        {
         "hovertemplate": "<b>%{hovertext}</b><br><br>District=Coast                                                  <br>Latitude=%{lat}<br>Longitude=%{lon}<extra></extra>",
         "hovertext": [
          "Coastline College",
          "Golden West College",
          "Orange Coast College"
         ],
         "lat": [
          33.716208,
          33.732291,
          33.67204
         ],
         "legendgroup": "Coast                                                  ",
         "lon": [
          -117.929166,
          -118.006656,
          -117.907979
         ],
         "marker": {
          "color": "#FF97FF",
          "size": 6
         },
         "mode": "markers",
         "name": "Coast                                                  ",
         "showlegend": true,
         "subplot": "mapbox",
         "type": "scattermapbox"
        },
        {
         "hovertemplate": "<b>%{hovertext}</b><br><br>District=North Orange County                                    <br>Latitude=%{lat}<br>Longitude=%{lon}<extra></extra>",
         "hovertext": [
          "Cypress College",
          "Fullerton College"
         ],
         "lat": [
          33.82834,
          33.874148
         ],
         "legendgroup": "North Orange County                                    ",
         "lon": [
          -118.028153,
          -117.920096
         ],
         "marker": {
          "color": "#FECB52",
          "size": 6
         },
         "mode": "markers",
         "name": "North Orange County                                    ",
         "showlegend": true,
         "subplot": "mapbox",
         "type": "scattermapbox"
        },
        {
         "hovertemplate": "<b>%{hovertext}</b><br><br>District=Rancho Santiago                                        <br>Latitude=%{lat}<br>Longitude=%{lon}<extra></extra>",
         "hovertext": [
          "Santa Ana College",
          "Santiago Canyon College"
         ],
         "lat": [
          33.75983,
          33.794694
         ],
         "legendgroup": "Rancho Santiago                                        ",
         "lon": [
          -117.888996,
          -117.769334
         ],
         "marker": {
          "color": "#636efa",
          "size": 6
         },
         "mode": "markers",
         "name": "Rancho Santiago                                        ",
         "showlegend": true,
         "subplot": "mapbox",
         "type": "scattermapbox"
        },
        {
         "hovertemplate": "<b>%{hovertext}</b><br><br>District=South Orange County                                    <br>Latitude=%{lat}<br>Longitude=%{lon}<extra></extra>",
         "hovertext": [
          "Saddleback College",
          "Irvine Valley College"
         ],
         "lat": [
          33.557694,
          33.679097
         ],
         "legendgroup": "South Orange County                                    ",
         "lon": [
          -117.664457,
          -117.778525
         ],
         "marker": {
          "color": "#EF553B",
          "size": 6
         },
         "mode": "markers",
         "name": "South Orange County                                    ",
         "showlegend": true,
         "subplot": "mapbox",
         "type": "scattermapbox"
        },
        {
         "hovertemplate": "<b>%{hovertext}</b><br><br>District=Riverside                                              <br>Latitude=%{lat}<br>Longitude=%{lon}<extra></extra>",
         "hovertext": [
          "Riverside City College",
          "Moreno Valley College",
          "Norco College"
         ],
         "lat": [
          33.971771,
          33.887025,
          33.915421
         ],
         "legendgroup": "Riverside                                              ",
         "lon": [
          -117.384356,
          -117.20505,
          -117.568755
         ],
         "marker": {
          "color": "#00cc96",
          "size": 6
         },
         "mode": "markers",
         "name": "Riverside                                              ",
         "showlegend": true,
         "subplot": "mapbox",
         "type": "scattermapbox"
        },
        {
         "hovertemplate": "<b>%{hovertext}</b><br><br>District=San Bernardino                                         <br>Latitude=%{lat}<br>Longitude=%{lon}<extra></extra>",
         "hovertext": [
          "Crafton Hills College",
          "San Bernardino Valley College"
         ],
         "lat": [
          34.041104,
          34.088099
         ],
         "legendgroup": "San Bernardino                                         ",
         "lon": [
          -117.107133,
          -117.313704
         ],
         "marker": {
          "color": "#ab63fa",
          "size": 6
         },
         "mode": "markers",
         "name": "San Bernardino                                         ",
         "showlegend": true,
         "subplot": "mapbox",
         "type": "scattermapbox"
        }
       ],
       "layout": {
        "height": 800,
        "legend": {
         "title": {
          "text": "District"
         },
         "tracegroupgap": 0
        },
        "mapbox": {
         "center": {
          "lat": 35.86590452173913,
          "lon": -119.63765350434782
         },
         "domain": {
          "x": [
           0,
           1
          ],
          "y": [
           0,
           1
          ]
         },
         "style": "carto-positron",
         "zoom": 5
        },
        "template": {
         "data": {
          "bar": [
           {
            "error_x": {
             "color": "#2a3f5f"
            },
            "error_y": {
             "color": "#2a3f5f"
            },
            "marker": {
             "line": {
              "color": "white",
              "width": 0.5
             },
             "pattern": {
              "fillmode": "overlay",
              "size": 10,
              "solidity": 0.2
             }
            },
            "type": "bar"
           }
          ],
          "barpolar": [
           {
            "marker": {
             "line": {
              "color": "white",
              "width": 0.5
             },
             "pattern": {
              "fillmode": "overlay",
              "size": 10,
              "solidity": 0.2
             }
            },
            "type": "barpolar"
           }
          ],
          "carpet": [
           {
            "aaxis": {
             "endlinecolor": "#2a3f5f",
             "gridcolor": "#C8D4E3",
             "linecolor": "#C8D4E3",
             "minorgridcolor": "#C8D4E3",
             "startlinecolor": "#2a3f5f"
            },
            "baxis": {
             "endlinecolor": "#2a3f5f",
             "gridcolor": "#C8D4E3",
             "linecolor": "#C8D4E3",
             "minorgridcolor": "#C8D4E3",
             "startlinecolor": "#2a3f5f"
            },
            "type": "carpet"
           }
          ],
          "choropleth": [
           {
            "colorbar": {
             "outlinewidth": 0,
             "ticks": ""
            },
            "type": "choropleth"
           }
          ],
          "contour": [
           {
            "colorbar": {
             "outlinewidth": 0,
             "ticks": ""
            },
            "colorscale": [
             [
              0,
              "#0d0887"
             ],
             [
              0.1111111111111111,
              "#46039f"
             ],
             [
              0.2222222222222222,
              "#7201a8"
             ],
             [
              0.3333333333333333,
              "#9c179e"
             ],
             [
              0.4444444444444444,
              "#bd3786"
             ],
             [
              0.5555555555555556,
              "#d8576b"
             ],
             [
              0.6666666666666666,
              "#ed7953"
             ],
             [
              0.7777777777777778,
              "#fb9f3a"
             ],
             [
              0.8888888888888888,
              "#fdca26"
             ],
             [
              1,
              "#f0f921"
             ]
            ],
            "type": "contour"
           }
          ],
          "contourcarpet": [
           {
            "colorbar": {
             "outlinewidth": 0,
             "ticks": ""
            },
            "type": "contourcarpet"
           }
          ],
          "heatmap": [
           {
            "colorbar": {
             "outlinewidth": 0,
             "ticks": ""
            },
            "colorscale": [
             [
              0,
              "#0d0887"
             ],
             [
              0.1111111111111111,
              "#46039f"
             ],
             [
              0.2222222222222222,
              "#7201a8"
             ],
             [
              0.3333333333333333,
              "#9c179e"
             ],
             [
              0.4444444444444444,
              "#bd3786"
             ],
             [
              0.5555555555555556,
              "#d8576b"
             ],
             [
              0.6666666666666666,
              "#ed7953"
             ],
             [
              0.7777777777777778,
              "#fb9f3a"
             ],
             [
              0.8888888888888888,
              "#fdca26"
             ],
             [
              1,
              "#f0f921"
             ]
            ],
            "type": "heatmap"
           }
          ],
          "heatmapgl": [
           {
            "colorbar": {
             "outlinewidth": 0,
             "ticks": ""
            },
            "colorscale": [
             [
              0,
              "#0d0887"
             ],
             [
              0.1111111111111111,
              "#46039f"
             ],
             [
              0.2222222222222222,
              "#7201a8"
             ],
             [
              0.3333333333333333,
              "#9c179e"
             ],
             [
              0.4444444444444444,
              "#bd3786"
             ],
             [
              0.5555555555555556,
              "#d8576b"
             ],
             [
              0.6666666666666666,
              "#ed7953"
             ],
             [
              0.7777777777777778,
              "#fb9f3a"
             ],
             [
              0.8888888888888888,
              "#fdca26"
             ],
             [
              1,
              "#f0f921"
             ]
            ],
            "type": "heatmapgl"
           }
          ],
          "histogram": [
           {
            "marker": {
             "pattern": {
              "fillmode": "overlay",
              "size": 10,
              "solidity": 0.2
             }
            },
            "type": "histogram"
           }
          ],
          "histogram2d": [
           {
            "colorbar": {
             "outlinewidth": 0,
             "ticks": ""
            },
            "colorscale": [
             [
              0,
              "#0d0887"
             ],
             [
              0.1111111111111111,
              "#46039f"
             ],
             [
              0.2222222222222222,
              "#7201a8"
             ],
             [
              0.3333333333333333,
              "#9c179e"
             ],
             [
              0.4444444444444444,
              "#bd3786"
             ],
             [
              0.5555555555555556,
              "#d8576b"
             ],
             [
              0.6666666666666666,
              "#ed7953"
             ],
             [
              0.7777777777777778,
              "#fb9f3a"
             ],
             [
              0.8888888888888888,
              "#fdca26"
             ],
             [
              1,
              "#f0f921"
             ]
            ],
            "type": "histogram2d"
           }
          ],
          "histogram2dcontour": [
           {
            "colorbar": {
             "outlinewidth": 0,
             "ticks": ""
            },
            "colorscale": [
             [
              0,
              "#0d0887"
             ],
             [
              0.1111111111111111,
              "#46039f"
             ],
             [
              0.2222222222222222,
              "#7201a8"
             ],
             [
              0.3333333333333333,
              "#9c179e"
             ],
             [
              0.4444444444444444,
              "#bd3786"
             ],
             [
              0.5555555555555556,
              "#d8576b"
             ],
             [
              0.6666666666666666,
              "#ed7953"
             ],
             [
              0.7777777777777778,
              "#fb9f3a"
             ],
             [
              0.8888888888888888,
              "#fdca26"
             ],
             [
              1,
              "#f0f921"
             ]
            ],
            "type": "histogram2dcontour"
           }
          ],
          "mesh3d": [
           {
            "colorbar": {
             "outlinewidth": 0,
             "ticks": ""
            },
            "type": "mesh3d"
           }
          ],
          "parcoords": [
           {
            "line": {
             "colorbar": {
              "outlinewidth": 0,
              "ticks": ""
             }
            },
            "type": "parcoords"
           }
          ],
          "pie": [
           {
            "automargin": true,
            "type": "pie"
           }
          ],
          "scatter": [
           {
            "fillpattern": {
             "fillmode": "overlay",
             "size": 10,
             "solidity": 0.2
            },
            "type": "scatter"
           }
          ],
          "scatter3d": [
           {
            "line": {
             "colorbar": {
              "outlinewidth": 0,
              "ticks": ""
             }
            },
            "marker": {
             "colorbar": {
              "outlinewidth": 0,
              "ticks": ""
             }
            },
            "type": "scatter3d"
           }
          ],
          "scattercarpet": [
           {
            "marker": {
             "colorbar": {
              "outlinewidth": 0,
              "ticks": ""
             }
            },
            "type": "scattercarpet"
           }
          ],
          "scattergeo": [
           {
            "marker": {
             "colorbar": {
              "outlinewidth": 0,
              "ticks": ""
             }
            },
            "type": "scattergeo"
           }
          ],
          "scattergl": [
           {
            "marker": {
             "colorbar": {
              "outlinewidth": 0,
              "ticks": ""
             }
            },
            "type": "scattergl"
           }
          ],
          "scattermapbox": [
           {
            "marker": {
             "colorbar": {
              "outlinewidth": 0,
              "ticks": ""
             }
            },
            "type": "scattermapbox"
           }
          ],
          "scatterpolar": [
           {
            "marker": {
             "colorbar": {
              "outlinewidth": 0,
              "ticks": ""
             }
            },
            "type": "scatterpolar"
           }
          ],
          "scatterpolargl": [
           {
            "marker": {
             "colorbar": {
              "outlinewidth": 0,
              "ticks": ""
             }
            },
            "type": "scatterpolargl"
           }
          ],
          "scatterternary": [
           {
            "marker": {
             "colorbar": {
              "outlinewidth": 0,
              "ticks": ""
             }
            },
            "type": "scatterternary"
           }
          ],
          "surface": [
           {
            "colorbar": {
             "outlinewidth": 0,
             "ticks": ""
            },
            "colorscale": [
             [
              0,
              "#0d0887"
             ],
             [
              0.1111111111111111,
              "#46039f"
             ],
             [
              0.2222222222222222,
              "#7201a8"
             ],
             [
              0.3333333333333333,
              "#9c179e"
             ],
             [
              0.4444444444444444,
              "#bd3786"
             ],
             [
              0.5555555555555556,
              "#d8576b"
             ],
             [
              0.6666666666666666,
              "#ed7953"
             ],
             [
              0.7777777777777778,
              "#fb9f3a"
             ],
             [
              0.8888888888888888,
              "#fdca26"
             ],
             [
              1,
              "#f0f921"
             ]
            ],
            "type": "surface"
           }
          ],
          "table": [
           {
            "cells": {
             "fill": {
              "color": "#EBF0F8"
             },
             "line": {
              "color": "white"
             }
            },
            "header": {
             "fill": {
              "color": "#C8D4E3"
             },
             "line": {
              "color": "white"
             }
            },
            "type": "table"
           }
          ]
         },
         "layout": {
          "annotationdefaults": {
           "arrowcolor": "#2a3f5f",
           "arrowhead": 0,
           "arrowwidth": 1
          },
          "autotypenumbers": "strict",
          "coloraxis": {
           "colorbar": {
            "outlinewidth": 0,
            "ticks": ""
           }
          },
          "colorscale": {
           "diverging": [
            [
             0,
             "#8e0152"
            ],
            [
             0.1,
             "#c51b7d"
            ],
            [
             0.2,
             "#de77ae"
            ],
            [
             0.3,
             "#f1b6da"
            ],
            [
             0.4,
             "#fde0ef"
            ],
            [
             0.5,
             "#f7f7f7"
            ],
            [
             0.6,
             "#e6f5d0"
            ],
            [
             0.7,
             "#b8e186"
            ],
            [
             0.8,
             "#7fbc41"
            ],
            [
             0.9,
             "#4d9221"
            ],
            [
             1,
             "#276419"
            ]
           ],
           "sequential": [
            [
             0,
             "#0d0887"
            ],
            [
             0.1111111111111111,
             "#46039f"
            ],
            [
             0.2222222222222222,
             "#7201a8"
            ],
            [
             0.3333333333333333,
             "#9c179e"
            ],
            [
             0.4444444444444444,
             "#bd3786"
            ],
            [
             0.5555555555555556,
             "#d8576b"
            ],
            [
             0.6666666666666666,
             "#ed7953"
            ],
            [
             0.7777777777777778,
             "#fb9f3a"
            ],
            [
             0.8888888888888888,
             "#fdca26"
            ],
            [
             1,
             "#f0f921"
            ]
           ],
           "sequentialminus": [
            [
             0,
             "#0d0887"
            ],
            [
             0.1111111111111111,
             "#46039f"
            ],
            [
             0.2222222222222222,
             "#7201a8"
            ],
            [
             0.3333333333333333,
             "#9c179e"
            ],
            [
             0.4444444444444444,
             "#bd3786"
            ],
            [
             0.5555555555555556,
             "#d8576b"
            ],
            [
             0.6666666666666666,
             "#ed7953"
            ],
            [
             0.7777777777777778,
             "#fb9f3a"
            ],
            [
             0.8888888888888888,
             "#fdca26"
            ],
            [
             1,
             "#f0f921"
            ]
           ]
          },
          "colorway": [
           "#636efa",
           "#EF553B",
           "#00cc96",
           "#ab63fa",
           "#FFA15A",
           "#19d3f3",
           "#FF6692",
           "#B6E880",
           "#FF97FF",
           "#FECB52"
          ],
          "font": {
           "color": "#2a3f5f"
          },
          "geo": {
           "bgcolor": "white",
           "lakecolor": "white",
           "landcolor": "white",
           "showlakes": true,
           "showland": true,
           "subunitcolor": "#C8D4E3"
          },
          "hoverlabel": {
           "align": "left"
          },
          "hovermode": "closest",
          "mapbox": {
           "style": "light"
          },
          "paper_bgcolor": "white",
          "plot_bgcolor": "white",
          "polar": {
           "angularaxis": {
            "gridcolor": "#EBF0F8",
            "linecolor": "#EBF0F8",
            "ticks": ""
           },
           "bgcolor": "white",
           "radialaxis": {
            "gridcolor": "#EBF0F8",
            "linecolor": "#EBF0F8",
            "ticks": ""
           }
          },
          "scene": {
           "xaxis": {
            "backgroundcolor": "white",
            "gridcolor": "#DFE8F3",
            "gridwidth": 2,
            "linecolor": "#EBF0F8",
            "showbackground": true,
            "ticks": "",
            "zerolinecolor": "#EBF0F8"
           },
           "yaxis": {
            "backgroundcolor": "white",
            "gridcolor": "#DFE8F3",
            "gridwidth": 2,
            "linecolor": "#EBF0F8",
            "showbackground": true,
            "ticks": "",
            "zerolinecolor": "#EBF0F8"
           },
           "zaxis": {
            "backgroundcolor": "white",
            "gridcolor": "#DFE8F3",
            "gridwidth": 2,
            "linecolor": "#EBF0F8",
            "showbackground": true,
            "ticks": "",
            "zerolinecolor": "#EBF0F8"
           }
          },
          "shapedefaults": {
           "line": {
            "color": "#2a3f5f"
           }
          },
          "ternary": {
           "aaxis": {
            "gridcolor": "#DFE8F3",
            "linecolor": "#A2B1C6",
            "ticks": ""
           },
           "baxis": {
            "gridcolor": "#DFE8F3",
            "linecolor": "#A2B1C6",
            "ticks": ""
           },
           "bgcolor": "white",
           "caxis": {
            "gridcolor": "#DFE8F3",
            "linecolor": "#A2B1C6",
            "ticks": ""
           }
          },
          "title": {
           "x": 0.05
          },
          "xaxis": {
           "automargin": true,
           "gridcolor": "#EBF0F8",
           "linecolor": "#EBF0F8",
           "ticks": "",
           "title": {
            "standoff": 15
           },
           "zerolinecolor": "#EBF0F8",
           "zerolinewidth": 2
          },
          "yaxis": {
           "automargin": true,
           "gridcolor": "#EBF0F8",
           "linecolor": "#EBF0F8",
           "ticks": "",
           "title": {
            "standoff": 15
           },
           "zerolinecolor": "#EBF0F8",
           "zerolinewidth": 2
          }
         }
        },
        "title": {
         "text": "Geographic Distribution of California Community Colleges"
        },
        "width": 1200
       }
      }
     },
     "metadata": {},
     "output_type": "display_data"
    }
   ],
   "source": [
    "fig = px.scatter_mapbox(\n",
    "    all_colleges,\n",
    "    lat=\"Latitude\",\n",
    "    lon=\"Longitude\",\n",
    "    hover_name=\"CollegeName\",\n",
    "    zoom=5,\n",
    "    width=1200,\n",
    "    height=800,\n",
    "    color=\"DistrictName\",\n",
    "    title=\"Geographic Distribution of California Community Colleges\",\n",
    "    labels={\n",
    "        \"DistrictName\": \"District\",\n",
    "    },\n",
    ")\n",
    "\n",
    "fig.update_layout(\n",
    "    mapbox_style=\"carto-positron\",\n",
    "    template=\"plotly_white\",\n",
    ")\n",
    "\n",
    "fig.update_traces(marker=dict(size=6))\n",
    "\n",
    "# fig.write_image(\n",
    "#     \"./figures/california_community_colleges_bw.png\",\n",
    "#     engine=\"kaleido\"\n",
    "# )\n",
    "fig.write_html(\"./figures/california_community_colleges.html\")\n",
    "fig.show()"
   ]
  },
  {
   "cell_type": "code",
   "execution_count": 29,
   "metadata": {},
   "outputs": [
    {
     "data": {
      "text/plain": [
       "DistrictTitle\n",
       "Los Angeles Community College District            9\n",
       "Los Rios Community College District               4\n",
       "Peralta Community College District                4\n",
       "State Center Community College District           4\n",
       "Kern Community College District                   3\n",
       "Ventura County Community College District         3\n",
       "Riverside Community College District              3\n",
       "Contra Costa Community College District           3\n",
       "San Mateo County Community College District       3\n",
       "Coast Community College District                  3\n",
       "San Diego Community College District              3\n",
       "South Orange County Community College District    2\n",
       "Rancho Santiago Community College District        2\n",
       "North Orange County Community College District    2\n",
       "Grossmont-Cuyamaca Community College District     2\n",
       "Yosemite Community College District               2\n",
       "West Hills Community College District             2\n",
       "West Valley-Mission Community College District    2\n",
       "Chabot-Las Positas Community College District     2\n",
       "San José-Evergreen Community College District     2\n",
       "Foothill-De Anza Community College District       2\n",
       "Yuba Community College District                   2\n",
       "San Bernardino Community College District         2\n",
       "Name: count, dtype: int64"
      ]
     },
     "execution_count": 29,
     "metadata": {},
     "output_type": "execute_result"
    }
   ],
   "source": [
    "# Rank the districts by college count.\n",
    "\n",
    "mc_district = all_districts.loc[all_districts[\"CollegesPerDistrict\"] > 1, \"DistrictID\"]\n",
    "all_colleges[all_colleges[\"DistrictID\"].isin(mc_district)][\"DistrictTitle\"].value_counts()"
   ]
  },
  {
   "cell_type": "markdown",
   "metadata": {},
   "source": [
    "## Enrollment and Student Demographics"
   ]
  },
  {
   "cell_type": "code",
   "execution_count": null,
   "metadata": {},
   "outputs": [],
   "source": []
  },
  {
   "cell_type": "markdown",
   "metadata": {},
   "source": [
    "## Labor Market Projections"
   ]
  },
  {
   "cell_type": "code",
   "execution_count": null,
   "metadata": {},
   "outputs": [],
   "source": []
  }
 ],
 "metadata": {
  "kernelspec": {
   "display_name": "base",
   "language": "python",
   "name": "python3"
  },
  "language_info": {
   "codemirror_mode": {
    "name": "ipython",
    "version": 3
   },
   "file_extension": ".py",
   "mimetype": "text/x-python",
   "name": "python",
   "nbconvert_exporter": "python",
   "pygments_lexer": "ipython3",
   "version": "3.12.7"
  }
 },
 "nbformat": 4,
 "nbformat_minor": 2
}
