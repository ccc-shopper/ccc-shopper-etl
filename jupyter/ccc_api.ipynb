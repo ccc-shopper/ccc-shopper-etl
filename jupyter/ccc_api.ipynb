{
 "cells": [
  {
   "cell_type": "markdown",
   "metadata": {},
   "source": [
    "## api.cccco.edu"
   ]
  },
  {
   "cell_type": "code",
   "execution_count": null,
   "metadata": {},
   "outputs": [],
   "source": [
    "# Dependencies\n",
    "\n",
    "!pip install geopandas\n",
    "!pip install plotly\n",
    "!pip install shapely\n",
    "!pip install urllib3"
   ]
  },
  {
   "cell_type": "code",
   "execution_count": 2,
   "metadata": {},
   "outputs": [],
   "source": [
    "import pandas as pd\n",
    "import requests"
   ]
  },
  {
   "cell_type": "code",
   "execution_count": 3,
   "metadata": {},
   "outputs": [],
   "source": [
    "import geopandas as gpd\n",
    "from shapely.geometry import Point\n",
    "import plotly.express as px"
   ]
  },
  {
   "cell_type": "code",
   "execution_count": 4,
   "metadata": {},
   "outputs": [],
   "source": [
    "# Requests to https://api.cccco.edu/ always throw SSL warnings. \n",
    "# Suppress them here.\n",
    "\n",
    "import urllib3\n",
    "urllib3.disable_warnings(urllib3.exceptions.InsecureRequestWarning)"
   ]
  },
  {
   "cell_type": "code",
   "execution_count": 5,
   "metadata": {},
   "outputs": [],
   "source": [
    "def get_colleges(search_param: str | None = None) -> pd.DataFrame:\n",
    "    \"\"\"\n",
    "    Sends a `GET` request to the CCCCO API to retrieve a list of colleges.\n",
    "\n",
    "    :param search_param: The parameters for the search query. Either the college\n",
    "        MIS ID or the college name. If `None`, all colleges are returned.\n",
    "    :return: A pandas DataFrame containing the list of colleges.\n",
    "    \"\"\"\n",
    "\n",
    "    cccco_api_url = \"https://api.cccco.edu/\"\n",
    "\n",
    "    if not search_param:\n",
    "        cccco_api_url += \"colleges\"\n",
    "    elif search_param.isnumeric():\n",
    "        cccco_api_url += f\"colleges/{search_param}\"\n",
    "    else:\n",
    "        cccco_api_url += f\"colleges/search/{search_param}\"\n",
    "\n",
    "    response = requests.get(cccco_api_url, verify=False)\n",
    "    response.raise_for_status()\n",
    "    return pd.DataFrame(response.json()).drop(columns=[\"CollegeContacts\"])"
   ]
  },
  {
   "cell_type": "code",
   "execution_count": 6,
   "metadata": {},
   "outputs": [
    {
     "data": {
      "text/html": [
       "<div>\n",
       "<style scoped>\n",
       "    .dataframe tbody tr th:only-of-type {\n",
       "        vertical-align: middle;\n",
       "    }\n",
       "\n",
       "    .dataframe tbody tr th {\n",
       "        vertical-align: top;\n",
       "    }\n",
       "\n",
       "    .dataframe thead th {\n",
       "        text-align: right;\n",
       "    }\n",
       "</style>\n",
       "<table border=\"1\" class=\"dataframe\">\n",
       "  <thead>\n",
       "    <tr style=\"text-align: right;\">\n",
       "      <th></th>\n",
       "      <th>CollegeID</th>\n",
       "      <th>CollegeName</th>\n",
       "      <th>DistrictID</th>\n",
       "      <th>StreetAddress</th>\n",
       "      <th>City</th>\n",
       "      <th>County</th>\n",
       "      <th>Zip</th>\n",
       "      <th>ZipPlus4</th>\n",
       "      <th>MailingAddress</th>\n",
       "      <th>MailingCity</th>\n",
       "      <th>MailingZip</th>\n",
       "      <th>Phone</th>\n",
       "      <th>WebsiteURL</th>\n",
       "      <th>Latitude</th>\n",
       "      <th>Longitude</th>\n",
       "      <th>LogoURL</th>\n",
       "      <th>District</th>\n",
       "    </tr>\n",
       "  </thead>\n",
       "  <tbody>\n",
       "    <tr>\n",
       "      <th>0</th>\n",
       "      <td>021</td>\n",
       "      <td>Cuyamaca College</td>\n",
       "      <td>020</td>\n",
       "      <td>900 Rancho San Diego Parkway</td>\n",
       "      <td>El Cajon</td>\n",
       "      <td>San Diego</td>\n",
       "      <td>92019</td>\n",
       "      <td>4304</td>\n",
       "      <td>900 Rancho San Diego Parkway</td>\n",
       "      <td>El Cajon</td>\n",
       "      <td>92019</td>\n",
       "      <td>619.660.4000</td>\n",
       "      <td>www.cuyamaca.edu</td>\n",
       "      <td>32.744890</td>\n",
       "      <td>-116.935229</td>\n",
       "      <td>CuyamacaCollegeLogo.jpg</td>\n",
       "      <td>None</td>\n",
       "    </tr>\n",
       "    <tr>\n",
       "      <th>1</th>\n",
       "      <td>022</td>\n",
       "      <td>Grossmont College</td>\n",
       "      <td>020</td>\n",
       "      <td>8800 Grossmont College Drive</td>\n",
       "      <td>El Cajon</td>\n",
       "      <td>San Diego</td>\n",
       "      <td>92020</td>\n",
       "      <td>1799</td>\n",
       "      <td>8800 Grossmont College Drive</td>\n",
       "      <td>El Cajon</td>\n",
       "      <td>92020</td>\n",
       "      <td>619.644.7000</td>\n",
       "      <td>www.grossmont.edu</td>\n",
       "      <td>32.817897</td>\n",
       "      <td>-117.005640</td>\n",
       "      <td>GrossmontCollegelogo.jpg</td>\n",
       "      <td>None</td>\n",
       "    </tr>\n",
       "    <tr>\n",
       "      <th>2</th>\n",
       "      <td>031</td>\n",
       "      <td>Imperial Valley College</td>\n",
       "      <td>030</td>\n",
       "      <td>380 East Aten Road</td>\n",
       "      <td>Imperial</td>\n",
       "      <td>Imperial</td>\n",
       "      <td>92251</td>\n",
       "      <td>9787</td>\n",
       "      <td>380 East Aten Road</td>\n",
       "      <td>Imperial</td>\n",
       "      <td>92251</td>\n",
       "      <td>760.352.8320</td>\n",
       "      <td>www.imperial.edu</td>\n",
       "      <td>32.825859</td>\n",
       "      <td>-115.502999</td>\n",
       "      <td>ImperialValleyCollegeLogocopy.jpg</td>\n",
       "      <td>None</td>\n",
       "    </tr>\n",
       "    <tr>\n",
       "      <th>3</th>\n",
       "      <td>051</td>\n",
       "      <td>MiraCosta College</td>\n",
       "      <td>050</td>\n",
       "      <td>1 Barnard Drive</td>\n",
       "      <td>Oceanside</td>\n",
       "      <td>San Diego</td>\n",
       "      <td>92056</td>\n",
       "      <td>3899</td>\n",
       "      <td>1 Barnard Drive</td>\n",
       "      <td>Oceanside</td>\n",
       "      <td>92056</td>\n",
       "      <td>760.757.2121</td>\n",
       "      <td>www.miracosta.edu</td>\n",
       "      <td>33.188864</td>\n",
       "      <td>-117.301064</td>\n",
       "      <td>Mira_Costa_College_Logo_4c.png</td>\n",
       "      <td>None</td>\n",
       "    </tr>\n",
       "    <tr>\n",
       "      <th>4</th>\n",
       "      <td>061</td>\n",
       "      <td>Palomar College</td>\n",
       "      <td>060</td>\n",
       "      <td>1140 West Mission Road</td>\n",
       "      <td>San Marcos</td>\n",
       "      <td>San Diego</td>\n",
       "      <td>92069</td>\n",
       "      <td>1487</td>\n",
       "      <td>1140 West Mission Road</td>\n",
       "      <td>San Marcos</td>\n",
       "      <td>92069</td>\n",
       "      <td>760.744.1150</td>\n",
       "      <td>www.palomar.edu</td>\n",
       "      <td>33.147015</td>\n",
       "      <td>-117.183980</td>\n",
       "      <td>PalomarCollegeLogo.jpg</td>\n",
       "      <td>None</td>\n",
       "    </tr>\n",
       "  </tbody>\n",
       "</table>\n",
       "</div>"
      ],
      "text/plain": [
       "  CollegeID              CollegeName DistrictID                 StreetAddress  \\\n",
       "0       021         Cuyamaca College        020  900 Rancho San Diego Parkway   \n",
       "1       022        Grossmont College        020  8800 Grossmont College Drive   \n",
       "2       031  Imperial Valley College        030            380 East Aten Road   \n",
       "3       051        MiraCosta College        050               1 Barnard Drive   \n",
       "4       061          Palomar College        060        1140 West Mission Road   \n",
       "\n",
       "         City      County    Zip ZipPlus4                 MailingAddress  \\\n",
       "0    El Cajon  San Diego   92019     4304   900 Rancho San Diego Parkway   \n",
       "1    El Cajon  San Diego   92020     1799  8800 Grossmont College Drive    \n",
       "2    Imperial   Imperial   92251     9787            380 East Aten Road    \n",
       "3   Oceanside  San Diego   92056     3899               1 Barnard Drive    \n",
       "4  San Marcos  San Diego   92069     1487        1140 West Mission Road    \n",
       "\n",
       "  MailingCity MailingZip          Phone         WebsiteURL   Latitude  \\\n",
       "0    El Cajon      92019  619.660.4000    www.cuyamaca.edu  32.744890   \n",
       "1    El Cajon      92020  619.644.7000   www.grossmont.edu  32.817897   \n",
       "2    Imperial      92251  760.352.8320    www.imperial.edu  32.825859   \n",
       "3   Oceanside      92056  760.757.2121   www.miracosta.edu  33.188864   \n",
       "4  San Marcos      92069  760.744.1150     www.palomar.edu  33.147015   \n",
       "\n",
       "    Longitude                            LogoURL District  \n",
       "0 -116.935229            CuyamacaCollegeLogo.jpg     None  \n",
       "1 -117.005640           GrossmontCollegelogo.jpg     None  \n",
       "2 -115.502999  ImperialValleyCollegeLogocopy.jpg     None  \n",
       "3 -117.301064     Mira_Costa_College_Logo_4c.png     None  \n",
       "4 -117.183980             PalomarCollegeLogo.jpg     None  "
      ]
     },
     "execution_count": 6,
     "metadata": {},
     "output_type": "execute_result"
    }
   ],
   "source": [
    "df = get_colleges()\n",
    "df.head()"
   ]
  },
  {
   "cell_type": "code",
   "execution_count": 7,
   "metadata": {},
   "outputs": [],
   "source": [
    "def get_districts(search_param: str | None = None) -> pd.DataFrame:\n",
    "    \"\"\"\n",
    "    Sends a `GET` request to the CCCCO API to retrieve a list of districts.\n",
    "\n",
    "    :param search_param: The parameters for the search query. Either the \n",
    "        district MIS ID or the college name. If `None`, all districts are\n",
    "        returned.\n",
    "    :return: A pandas DataFrame containing the list of districts.\n",
    "    \"\"\"\n",
    "\n",
    "    cccco_api_url = \"https://api.cccco.edu/\"\n",
    "\n",
    "    if not search_param:\n",
    "        cccco_api_url += \"districts\"\n",
    "    elif search_param.isnumeric():\n",
    "        cccco_api_url += f\"districts/{search_param}\"\n",
    "    else:\n",
    "        cccco_api_url += f\"districts/search/{search_param}\"\n",
    "\n",
    "    response = requests.get(cccco_api_url, verify=False)\n",
    "    response.raise_for_status()\n",
    "    return pd.DataFrame(response.json())"
   ]
  },
  {
   "cell_type": "code",
   "execution_count": 8,
   "metadata": {},
   "outputs": [
    {
     "data": {
      "text/html": [
       "<div>\n",
       "<style scoped>\n",
       "    .dataframe tbody tr th:only-of-type {\n",
       "        vertical-align: middle;\n",
       "    }\n",
       "\n",
       "    .dataframe tbody tr th {\n",
       "        vertical-align: top;\n",
       "    }\n",
       "\n",
       "    .dataframe thead th {\n",
       "        text-align: right;\n",
       "    }\n",
       "</style>\n",
       "<table border=\"1\" class=\"dataframe\">\n",
       "  <thead>\n",
       "    <tr style=\"text-align: right;\">\n",
       "      <th></th>\n",
       "      <th>DistrictID</th>\n",
       "      <th>DistrictName</th>\n",
       "      <th>DistrictTitle</th>\n",
       "      <th>StreetAddress</th>\n",
       "      <th>City</th>\n",
       "      <th>Zip</th>\n",
       "      <th>Phone</th>\n",
       "      <th>WebsiteURL</th>\n",
       "      <th>Boundaries</th>\n",
       "      <th>Colleges</th>\n",
       "    </tr>\n",
       "  </thead>\n",
       "  <tbody>\n",
       "    <tr>\n",
       "      <th>0</th>\n",
       "      <td>020</td>\n",
       "      <td>Grossmont-Cuyamaca                            ...</td>\n",
       "      <td>Grossmont-Cuyamaca Community College District</td>\n",
       "      <td>8800 Grossmont College Drive</td>\n",
       "      <td>El Cajon</td>\n",
       "      <td>92020</td>\n",
       "      <td>619-644-7010</td>\n",
       "      <td>www.gcccd.edu</td>\n",
       "      <td>None</td>\n",
       "      <td>[{'CollegeID': '021', 'CollegeName': 'Cuyamaca...</td>\n",
       "    </tr>\n",
       "    <tr>\n",
       "      <th>1</th>\n",
       "      <td>030</td>\n",
       "      <td>Imperial                                      ...</td>\n",
       "      <td>Imperial Community College District</td>\n",
       "      <td>380 E. Aten Road (PO Box 158)</td>\n",
       "      <td>Imperial</td>\n",
       "      <td>92251</td>\n",
       "      <td>760-352-8320</td>\n",
       "      <td>www.imperial.edu</td>\n",
       "      <td>None</td>\n",
       "      <td>[{'CollegeID': '031', 'CollegeName': 'Imperial...</td>\n",
       "    </tr>\n",
       "    <tr>\n",
       "      <th>2</th>\n",
       "      <td>050</td>\n",
       "      <td>MiraCosta                                     ...</td>\n",
       "      <td>MiraCosta Community College District</td>\n",
       "      <td>None</td>\n",
       "      <td>None</td>\n",
       "      <td>None</td>\n",
       "      <td>None</td>\n",
       "      <td>www.miracosta.edu</td>\n",
       "      <td>None</td>\n",
       "      <td>[{'CollegeID': '051', 'CollegeName': 'MiraCost...</td>\n",
       "    </tr>\n",
       "    <tr>\n",
       "      <th>3</th>\n",
       "      <td>060</td>\n",
       "      <td>Palomar                                       ...</td>\n",
       "      <td>Palomar Community College District</td>\n",
       "      <td>1140 W. Mission Road</td>\n",
       "      <td>San Marcos</td>\n",
       "      <td>92069</td>\n",
       "      <td>760-744-1150</td>\n",
       "      <td>www.palomar.edu</td>\n",
       "      <td>None</td>\n",
       "      <td>[{'CollegeID': '061', 'CollegeName': 'Palomar ...</td>\n",
       "    </tr>\n",
       "    <tr>\n",
       "      <th>4</th>\n",
       "      <td>070</td>\n",
       "      <td>San Diego                                     ...</td>\n",
       "      <td>San Diego Community College District</td>\n",
       "      <td>3375 Camino del Rio South</td>\n",
       "      <td>San Diego</td>\n",
       "      <td>92108</td>\n",
       "      <td>619-388-6500</td>\n",
       "      <td>www.sdccd.edu</td>\n",
       "      <td>None</td>\n",
       "      <td>[{'CollegeID': '071', 'CollegeName': 'San Dieg...</td>\n",
       "    </tr>\n",
       "    <tr>\n",
       "      <th>...</th>\n",
       "      <td>...</td>\n",
       "      <td>...</td>\n",
       "      <td>...</td>\n",
       "      <td>...</td>\n",
       "      <td>...</td>\n",
       "      <td>...</td>\n",
       "      <td>...</td>\n",
       "      <td>...</td>\n",
       "      <td>...</td>\n",
       "      <td>...</td>\n",
       "    </tr>\n",
       "    <tr>\n",
       "      <th>68</th>\n",
       "      <td>950</td>\n",
       "      <td>Palo Verde                                    ...</td>\n",
       "      <td>Palo Verde Community College District</td>\n",
       "      <td>One College Drive</td>\n",
       "      <td>Blythe</td>\n",
       "      <td>92225</td>\n",
       "      <td>760-921-5500</td>\n",
       "      <td>www.paloverde.edu</td>\n",
       "      <td>None</td>\n",
       "      <td>[{'CollegeID': '951', 'CollegeName': 'Palo Ver...</td>\n",
       "    </tr>\n",
       "    <tr>\n",
       "      <th>69</th>\n",
       "      <td>960</td>\n",
       "      <td>Riverside                                     ...</td>\n",
       "      <td>Riverside Community College District</td>\n",
       "      <td>4800 Magnolia Avenue</td>\n",
       "      <td>Riverside</td>\n",
       "      <td>92506</td>\n",
       "      <td>951-222-8000</td>\n",
       "      <td>www.rcc.edu</td>\n",
       "      <td>None</td>\n",
       "      <td>[{'CollegeID': '961', 'CollegeName': 'Riversid...</td>\n",
       "    </tr>\n",
       "    <tr>\n",
       "      <th>70</th>\n",
       "      <td>970</td>\n",
       "      <td>Copper Mountain                               ...</td>\n",
       "      <td>Copper Mountain Community College District</td>\n",
       "      <td>6162 Rotary Way (PO Box 1398)</td>\n",
       "      <td>Joshua Tree</td>\n",
       "      <td>92252</td>\n",
       "      <td>760-366-3791</td>\n",
       "      <td>www.cmccd.edu</td>\n",
       "      <td>None</td>\n",
       "      <td>[{'CollegeID': '971', 'CollegeName': 'Copper M...</td>\n",
       "    </tr>\n",
       "    <tr>\n",
       "      <th>71</th>\n",
       "      <td>980</td>\n",
       "      <td>San Bernardino                                ...</td>\n",
       "      <td>San Bernardino Community College District</td>\n",
       "      <td>114 S. Del Rosa Drive</td>\n",
       "      <td>San Bernardino</td>\n",
       "      <td>92408</td>\n",
       "      <td>909-382-4000</td>\n",
       "      <td>sbccd.edu</td>\n",
       "      <td>None</td>\n",
       "      <td>[{'CollegeID': '981', 'CollegeName': 'Crafton ...</td>\n",
       "    </tr>\n",
       "    <tr>\n",
       "      <th>72</th>\n",
       "      <td>990</td>\n",
       "      <td>Victor Valley                                 ...</td>\n",
       "      <td>Victor Valley Community College District</td>\n",
       "      <td>18422 Bear Valley Road</td>\n",
       "      <td>Victorville</td>\n",
       "      <td>92395</td>\n",
       "      <td>760-245-4271</td>\n",
       "      <td>www.vvc.edu</td>\n",
       "      <td>None</td>\n",
       "      <td>[{'CollegeID': '991', 'CollegeName': 'Victor V...</td>\n",
       "    </tr>\n",
       "  </tbody>\n",
       "</table>\n",
       "<p>73 rows × 10 columns</p>\n",
       "</div>"
      ],
      "text/plain": [
       "   DistrictID                                       DistrictName  \\\n",
       "0         020  Grossmont-Cuyamaca                            ...   \n",
       "1         030  Imperial                                      ...   \n",
       "2         050  MiraCosta                                     ...   \n",
       "3         060  Palomar                                       ...   \n",
       "4         070  San Diego                                     ...   \n",
       "..        ...                                                ...   \n",
       "68        950  Palo Verde                                    ...   \n",
       "69        960  Riverside                                     ...   \n",
       "70        970  Copper Mountain                               ...   \n",
       "71        980  San Bernardino                                ...   \n",
       "72        990  Victor Valley                                 ...   \n",
       "\n",
       "                                    DistrictTitle  \\\n",
       "0   Grossmont-Cuyamaca Community College District   \n",
       "1             Imperial Community College District   \n",
       "2            MiraCosta Community College District   \n",
       "3              Palomar Community College District   \n",
       "4            San Diego Community College District   \n",
       "..                                            ...   \n",
       "68          Palo Verde Community College District   \n",
       "69           Riverside Community College District   \n",
       "70     Copper Mountain Community College District   \n",
       "71      San Bernardino Community College District   \n",
       "72       Victor Valley Community College District   \n",
       "\n",
       "                    StreetAddress            City    Zip         Phone  \\\n",
       "0    8800 Grossmont College Drive        El Cajon  92020  619-644-7010   \n",
       "1   380 E. Aten Road (PO Box 158)        Imperial  92251  760-352-8320   \n",
       "2                            None            None   None          None   \n",
       "3           1140 W. Mission Road       San Marcos  92069  760-744-1150   \n",
       "4       3375 Camino del Rio South       San Diego  92108  619-388-6500   \n",
       "..                            ...             ...    ...           ...   \n",
       "68              One College Drive          Blythe  92225  760-921-5500   \n",
       "69          4800 Magnolia Avenue        Riverside  92506  951-222-8000   \n",
       "70  6162 Rotary Way (PO Box 1398)     Joshua Tree  92252  760-366-3791   \n",
       "71         114 S. Del Rosa Drive   San Bernardino  92408  909-382-4000   \n",
       "72        18422 Bear Valley Road      Victorville  92395  760-245-4271   \n",
       "\n",
       "           WebsiteURL Boundaries  \\\n",
       "0       www.gcccd.edu       None   \n",
       "1    www.imperial.edu       None   \n",
       "2   www.miracosta.edu       None   \n",
       "3     www.palomar.edu       None   \n",
       "4       www.sdccd.edu       None   \n",
       "..                ...        ...   \n",
       "68  www.paloverde.edu       None   \n",
       "69        www.rcc.edu       None   \n",
       "70      www.cmccd.edu       None   \n",
       "71          sbccd.edu       None   \n",
       "72        www.vvc.edu       None   \n",
       "\n",
       "                                             Colleges  \n",
       "0   [{'CollegeID': '021', 'CollegeName': 'Cuyamaca...  \n",
       "1   [{'CollegeID': '031', 'CollegeName': 'Imperial...  \n",
       "2   [{'CollegeID': '051', 'CollegeName': 'MiraCost...  \n",
       "3   [{'CollegeID': '061', 'CollegeName': 'Palomar ...  \n",
       "4   [{'CollegeID': '071', 'CollegeName': 'San Dieg...  \n",
       "..                                                ...  \n",
       "68  [{'CollegeID': '951', 'CollegeName': 'Palo Ver...  \n",
       "69  [{'CollegeID': '961', 'CollegeName': 'Riversid...  \n",
       "70  [{'CollegeID': '971', 'CollegeName': 'Copper M...  \n",
       "71  [{'CollegeID': '981', 'CollegeName': 'Crafton ...  \n",
       "72  [{'CollegeID': '991', 'CollegeName': 'Victor V...  \n",
       "\n",
       "[73 rows x 10 columns]"
      ]
     },
     "execution_count": 8,
     "metadata": {},
     "output_type": "execute_result"
    }
   ],
   "source": [
    "get_districts()"
   ]
  },
  {
   "cell_type": "code",
   "execution_count": 9,
   "metadata": {},
   "outputs": [],
   "source": [
    "def get_programs(search_param: str | None = None) -> pd.DataFrame:\n",
    "    \"\"\"\n",
    "    Sends a `GET` request to the CCCCO API to retrieve a list of programs.\n",
    "\n",
    "    :param search_param: The parameters for the search query. Either the TOP\n",
    "        code or a keyword the program title contains. If `None`, all TOP codes\n",
    "        and program titles are returned.\n",
    "    :return: A pandas DataFrame containing the list of programs.\n",
    "    \"\"\"\n",
    "\n",
    "    cccco_api_url = \"https://api.cccco.edu/\"\n",
    "\n",
    "    if not search_param:\n",
    "        cccco_api_url += \"programs\"\n",
    "    elif search_param.isnumeric():\n",
    "        cccco_api_url += f\"programs/search{search_param}\"\n",
    "    else:\n",
    "        cccco_api_url += f\"programs/search/{search_param}\"\n",
    "\n",
    "    response = requests.get(cccco_api_url, verify=False)\n",
    "    response.raise_for_status()\n",
    "    return pd.DataFrame(response.json())"
   ]
  },
  {
   "cell_type": "code",
   "execution_count": 10,
   "metadata": {},
   "outputs": [
    {
     "data": {
      "text/html": [
       "<div>\n",
       "<style scoped>\n",
       "    .dataframe tbody tr th:only-of-type {\n",
       "        vertical-align: middle;\n",
       "    }\n",
       "\n",
       "    .dataframe tbody tr th {\n",
       "        vertical-align: top;\n",
       "    }\n",
       "\n",
       "    .dataframe thead th {\n",
       "        text-align: right;\n",
       "    }\n",
       "</style>\n",
       "<table border=\"1\" class=\"dataframe\">\n",
       "  <thead>\n",
       "    <tr style=\"text-align: right;\">\n",
       "      <th></th>\n",
       "      <th>CollegeID</th>\n",
       "      <th>CollegeName</th>\n",
       "      <th>ProgramAward</th>\n",
       "      <th>CreditType</th>\n",
       "      <th>Title</th>\n",
       "      <th>TopCode</th>\n",
       "    </tr>\n",
       "  </thead>\n",
       "  <tbody>\n",
       "    <tr>\n",
       "      <th>0</th>\n",
       "      <td>233</td>\n",
       "      <td>Sacramento City College</td>\n",
       "      <td>M</td>\n",
       "      <td>C</td>\n",
       "      <td>Data Science</td>\n",
       "      <td>070200</td>\n",
       "    </tr>\n",
       "    <tr>\n",
       "      <th>1</th>\n",
       "      <td>681</td>\n",
       "      <td>Moorpark College</td>\n",
       "      <td>M</td>\n",
       "      <td>C</td>\n",
       "      <td>Data Science</td>\n",
       "      <td>070200</td>\n",
       "    </tr>\n",
       "    <tr>\n",
       "      <th>2</th>\n",
       "      <td>741</td>\n",
       "      <td>Los Angeles City College</td>\n",
       "      <td>N</td>\n",
       "      <td>C</td>\n",
       "      <td>DATA SCIENCE</td>\n",
       "      <td>070200</td>\n",
       "    </tr>\n",
       "    <tr>\n",
       "      <th>3</th>\n",
       "      <td>748</td>\n",
       "      <td>East Los Angeles College</td>\n",
       "      <td>N</td>\n",
       "      <td>C</td>\n",
       "      <td>Data Science</td>\n",
       "      <td>070200</td>\n",
       "    </tr>\n",
       "    <tr>\n",
       "      <th>4</th>\n",
       "      <td>749</td>\n",
       "      <td>West Los Angeles College</td>\n",
       "      <td>N</td>\n",
       "      <td>C</td>\n",
       "      <td>Data Science</td>\n",
       "      <td>070200</td>\n",
       "    </tr>\n",
       "    <tr>\n",
       "      <th>5</th>\n",
       "      <td>771</td>\n",
       "      <td>Pasadena City College</td>\n",
       "      <td>N</td>\n",
       "      <td>C</td>\n",
       "      <td>Data Science</td>\n",
       "      <td>070200</td>\n",
       "    </tr>\n",
       "    <tr>\n",
       "      <th>6</th>\n",
       "      <td>831</td>\n",
       "      <td>Coastline College</td>\n",
       "      <td>N</td>\n",
       "      <td>C</td>\n",
       "      <td>Data Science</td>\n",
       "      <td>070200</td>\n",
       "    </tr>\n",
       "    <tr>\n",
       "      <th>7</th>\n",
       "      <td>771</td>\n",
       "      <td>Pasadena City College</td>\n",
       "      <td>S</td>\n",
       "      <td>C</td>\n",
       "      <td>Data Science</td>\n",
       "      <td>070200</td>\n",
       "    </tr>\n",
       "    <tr>\n",
       "      <th>8</th>\n",
       "      <td>743</td>\n",
       "      <td>Los Angeles Mission College</td>\n",
       "      <td>T</td>\n",
       "      <td>C</td>\n",
       "      <td>Data Science</td>\n",
       "      <td>070200</td>\n",
       "    </tr>\n",
       "    <tr>\n",
       "      <th>9</th>\n",
       "      <td>281</td>\n",
       "      <td>Solano Community College</td>\n",
       "      <td>N</td>\n",
       "      <td>C</td>\n",
       "      <td>Data Science</td>\n",
       "      <td>070600</td>\n",
       "    </tr>\n",
       "    <tr>\n",
       "      <th>10</th>\n",
       "      <td>962</td>\n",
       "      <td>Moreno Valley College</td>\n",
       "      <td>S</td>\n",
       "      <td>C</td>\n",
       "      <td>Data Science</td>\n",
       "      <td>070600</td>\n",
       "    </tr>\n",
       "    <tr>\n",
       "      <th>11</th>\n",
       "      <td>022</td>\n",
       "      <td>Grossmont College</td>\n",
       "      <td>N</td>\n",
       "      <td>C</td>\n",
       "      <td>Data Science</td>\n",
       "      <td>070700</td>\n",
       "    </tr>\n",
       "    <tr>\n",
       "      <th>12</th>\n",
       "      <td>233</td>\n",
       "      <td>Sacramento City College</td>\n",
       "      <td>S</td>\n",
       "      <td>C</td>\n",
       "      <td>Data Science</td>\n",
       "      <td>070700</td>\n",
       "    </tr>\n",
       "    <tr>\n",
       "      <th>13</th>\n",
       "      <td>781</td>\n",
       "      <td>Santa Monica College</td>\n",
       "      <td>N</td>\n",
       "      <td>C</td>\n",
       "      <td>Data Science</td>\n",
       "      <td>070730</td>\n",
       "    </tr>\n",
       "    <tr>\n",
       "      <th>14</th>\n",
       "      <td>961</td>\n",
       "      <td>Riverside City College</td>\n",
       "      <td>S</td>\n",
       "      <td>C</td>\n",
       "      <td>Data Science</td>\n",
       "      <td>070730</td>\n",
       "    </tr>\n",
       "    <tr>\n",
       "      <th>15</th>\n",
       "      <td>963</td>\n",
       "      <td>Norco College</td>\n",
       "      <td>S</td>\n",
       "      <td>C</td>\n",
       "      <td>Data Science</td>\n",
       "      <td>070730</td>\n",
       "    </tr>\n",
       "    <tr>\n",
       "      <th>16</th>\n",
       "      <td>061</td>\n",
       "      <td>Palomar College</td>\n",
       "      <td>S</td>\n",
       "      <td>C</td>\n",
       "      <td>Data Science</td>\n",
       "      <td>079900</td>\n",
       "    </tr>\n",
       "    <tr>\n",
       "      <th>17</th>\n",
       "      <td>281</td>\n",
       "      <td>Solano Community College</td>\n",
       "      <td>S</td>\n",
       "      <td>C</td>\n",
       "      <td>Data Science</td>\n",
       "      <td>090100</td>\n",
       "    </tr>\n",
       "    <tr>\n",
       "      <th>18</th>\n",
       "      <td>651</td>\n",
       "      <td>Santa Barbara City College</td>\n",
       "      <td>N</td>\n",
       "      <td>C</td>\n",
       "      <td>Data Science</td>\n",
       "      <td>170100</td>\n",
       "    </tr>\n",
       "    <tr>\n",
       "      <th>19</th>\n",
       "      <td>343</td>\n",
       "      <td>Laney College</td>\n",
       "      <td>S</td>\n",
       "      <td>C</td>\n",
       "      <td>Data Science</td>\n",
       "      <td>170100</td>\n",
       "    </tr>\n",
       "    <tr>\n",
       "      <th>20</th>\n",
       "      <td>361</td>\n",
       "      <td>City College of San Francisco</td>\n",
       "      <td>S</td>\n",
       "      <td>C</td>\n",
       "      <td>Data Science</td>\n",
       "      <td>170100</td>\n",
       "    </tr>\n",
       "    <tr>\n",
       "      <th>21</th>\n",
       "      <td>493</td>\n",
       "      <td>West Valley College</td>\n",
       "      <td>S</td>\n",
       "      <td>C</td>\n",
       "      <td>Data Science</td>\n",
       "      <td>170100</td>\n",
       "    </tr>\n",
       "    <tr>\n",
       "      <th>22</th>\n",
       "      <td>651</td>\n",
       "      <td>Santa Barbara City College</td>\n",
       "      <td>S</td>\n",
       "      <td>C</td>\n",
       "      <td>Data Science</td>\n",
       "      <td>170100</td>\n",
       "    </tr>\n",
       "    <tr>\n",
       "      <th>23</th>\n",
       "      <td>747</td>\n",
       "      <td>Los Angeles Valley College</td>\n",
       "      <td>N</td>\n",
       "      <td>C</td>\n",
       "      <td>Data Science and Analytics</td>\n",
       "      <td>070200</td>\n",
       "    </tr>\n",
       "    <tr>\n",
       "      <th>24</th>\n",
       "      <td>749</td>\n",
       "      <td>West Los Angeles College</td>\n",
       "      <td>M</td>\n",
       "      <td>C</td>\n",
       "      <td>Data Science Essentials</td>\n",
       "      <td>070200</td>\n",
       "    </tr>\n",
       "    <tr>\n",
       "      <th>25</th>\n",
       "      <td>343</td>\n",
       "      <td>Laney College</td>\n",
       "      <td>N</td>\n",
       "      <td>C</td>\n",
       "      <td>Data Science Fundamentals</td>\n",
       "      <td>070100</td>\n",
       "    </tr>\n",
       "    <tr>\n",
       "      <th>26</th>\n",
       "      <td>873</td>\n",
       "      <td>Santiago Canyon College</td>\n",
       "      <td>S</td>\n",
       "      <td>C</td>\n",
       "      <td>Data Science, AS</td>\n",
       "      <td>170100</td>\n",
       "    </tr>\n",
       "    <tr>\n",
       "      <th>27</th>\n",
       "      <td>873</td>\n",
       "      <td>Santiago Canyon College</td>\n",
       "      <td>N</td>\n",
       "      <td>C</td>\n",
       "      <td>Data Science, CA</td>\n",
       "      <td>170100</td>\n",
       "    </tr>\n",
       "  </tbody>\n",
       "</table>\n",
       "</div>"
      ],
      "text/plain": [
       "   CollegeID                    CollegeName ProgramAward CreditType  \\\n",
       "0        233        Sacramento City College            M          C   \n",
       "1        681               Moorpark College            M          C   \n",
       "2        741       Los Angeles City College            N          C   \n",
       "3        748       East Los Angeles College            N          C   \n",
       "4        749       West Los Angeles College            N          C   \n",
       "5        771          Pasadena City College            N          C   \n",
       "6        831              Coastline College            N          C   \n",
       "7        771          Pasadena City College            S          C   \n",
       "8        743    Los Angeles Mission College            T          C   \n",
       "9        281       Solano Community College            N          C   \n",
       "10       962          Moreno Valley College            S          C   \n",
       "11       022              Grossmont College            N          C   \n",
       "12       233        Sacramento City College            S          C   \n",
       "13       781           Santa Monica College            N          C   \n",
       "14       961         Riverside City College            S          C   \n",
       "15       963                  Norco College            S          C   \n",
       "16       061                Palomar College            S          C   \n",
       "17       281       Solano Community College            S          C   \n",
       "18       651     Santa Barbara City College            N          C   \n",
       "19       343                  Laney College            S          C   \n",
       "20       361  City College of San Francisco            S          C   \n",
       "21       493            West Valley College            S          C   \n",
       "22       651     Santa Barbara City College            S          C   \n",
       "23       747     Los Angeles Valley College            N          C   \n",
       "24       749       West Los Angeles College            M          C   \n",
       "25       343                  Laney College            N          C   \n",
       "26       873        Santiago Canyon College            S          C   \n",
       "27       873        Santiago Canyon College            N          C   \n",
       "\n",
       "                         Title TopCode  \n",
       "0                 Data Science  070200  \n",
       "1                 Data Science  070200  \n",
       "2                 DATA SCIENCE  070200  \n",
       "3                 Data Science  070200  \n",
       "4                 Data Science  070200  \n",
       "5                 Data Science  070200  \n",
       "6                 Data Science  070200  \n",
       "7                 Data Science  070200  \n",
       "8                 Data Science  070200  \n",
       "9                 Data Science  070600  \n",
       "10                Data Science  070600  \n",
       "11                Data Science  070700  \n",
       "12                Data Science  070700  \n",
       "13                Data Science  070730  \n",
       "14                Data Science  070730  \n",
       "15                Data Science  070730  \n",
       "16                Data Science  079900  \n",
       "17                Data Science  090100  \n",
       "18                Data Science  170100  \n",
       "19                Data Science  170100  \n",
       "20                Data Science  170100  \n",
       "21                Data Science  170100  \n",
       "22                Data Science  170100  \n",
       "23  Data Science and Analytics  070200  \n",
       "24     Data Science Essentials  070200  \n",
       "25   Data Science Fundamentals  070100  \n",
       "26            Data Science, AS  170100  \n",
       "27            Data Science, CA  170100  "
      ]
     },
     "execution_count": 10,
     "metadata": {},
     "output_type": "execute_result"
    }
   ],
   "source": [
    "# Potential questions of interest: For more novel programs like data science, \n",
    "# what is the distribution of TOP codes to which they are assigned?\n",
    "# TOP code validation can be found here: \n",
    "# https://www.cccco.edu/-/media/CCCCO-Website/docs/curriculum/final-top-code-manual-2023edit-4-a11y.pdf\n",
    "\n",
    "get_programs(\"data science\")"
   ]
  },
  {
   "cell_type": "code",
   "execution_count": null,
   "metadata": {},
   "outputs": [
    {
     "data": {
      "application/vnd.plotly.v1+json": {
       "config": {
        "plotlyServerURL": "https://plot.ly"
       },
       "data": [
        {
         "customdata": [
          [
           "www.cuyamaca.edu"
          ],
          [
           "www.grossmont.edu"
          ],
          [
           "www.imperial.edu"
          ],
          [
           "www.miracosta.edu"
          ],
          [
           "www.palomar.edu"
          ],
          [
           "www.sdcity.edu"
          ],
          [
           "www.sdmesa.edu"
          ],
          [
           "www.sdmiramar.edu"
          ],
          [
           "www.swccd.edu"
          ],
          [
           "www.butte.edu"
          ],
          [
           "www.frc.edu"
          ],
          [
           "www.lassencollege.edu"
          ],
          [
           "www.mendocino.edu"
          ],
          [
           "www.redwoods.edu"
          ],
          [
           "www.shastacollege.edu"
          ],
          [
           "www.siskiyous.edu"
          ],
          [
           "www.ltcc.edu"
          ],
          [
           "www.arc.losrios.edu"
          ],
          [
           "www.crc.losrios.edu"
          ],
          [
           "www.scc.losrios.edu"
          ],
          [
           "www.flc.losrios.edu"
          ],
          [
           "www.napavalley.edu"
          ],
          [
           "www.santarosa.edu"
          ],
          [
           "www.sierracollege.edu"
          ],
          [
           "www.solano.edu"
          ],
          [
           "yc.yccd.edu"
          ],
          [
           "wcc.yccd.edu"
          ],
          [
           "www.contracosta.edu"
          ],
          [
           "www.dvc.edu"
          ],
          [
           "www.losmedanos.edu"
          ],
          [
           "www.marin.edu"
          ],
          [
           "www.alameda.edu"
          ],
          [
           "www.laney.edu"
          ],
          [
           "www.merritt.edu"
          ],
          [
           "www.berkeleycitycollege.edu"
          ],
          [
           "www.ccsf.edu"
          ],
          [
           "www.canadacollege.edu"
          ],
          [
           "www.collegeofsanmateo.edu"
          ],
          [
           "www.skylinecollege.edu"
          ],
          [
           "www.cabrillo.edu"
          ],
          [
           "www.deanza.edu"
          ],
          [
           "www.foothill.edu"
          ],
          [
           "www.ohlone.edu"
          ],
          [
           "www.gavilan.edu"
          ],
          [
           "www.hartnell.edu"
          ],
          [
           "www.mpc.edu"
          ],
          [
           "www.evc.edu"
          ],
          [
           "www.sjcc.edu"
          ],
          [
           "www.laspositascollege.edu"
          ],
          [
           "www.chabotcollege.edu"
          ],
          [
           "www.missioncollege.edu"
          ],
          [
           "www.westvalley.edu"
          ],
          [
           "www.bakersfieldcollege.edu"
          ],
          [
           "www.cerrocoso.edu"
          ],
          [
           "www.portervillecollege.edu"
          ],
          [
           "www.mccd.edu"
          ],
          [
           "www.deltacollege.edu"
          ],
          [
           "www.cos.edu"
          ],
          [
           "www.fresnocitycollege.edu"
          ],
          [
           "www.reedleycollege.edu"
          ],
          [
           "www.maderacollege.edu"
          ],
          [
           "www.cloviscollege.edu"
          ],
          [
           "www.westhillscollege.com/coalinga"
          ],
          [
           "www.westhillscollege.com/lemoore"
          ],
          [
           "www.columbia.yosemite.edu"
          ],
          [
           "www.mjc.edu"
          ],
          [
           "www.hancockcollege.edu"
          ],
          [
           "www.avc.edu"
          ],
          [
           "www.cuesta.edu"
          ],
          [
           "www.sbcc.edu"
          ],
          [
           "www.canyons.edu"
          ],
          [
           "www.moorparkcollege.edu"
          ],
          [
           "www.oxnardcollege.edu"
          ],
          [
           "www.venturacollege.edu"
          ],
          [
           "www.taftcollege.edu"
          ],
          [
           "www.compton.edu"
          ],
          [
           "www.elcamino.edu"
          ],
          [
           "www.glendale.edu"
          ],
          [
           "www.lacitycollege.edu"
          ],
          [
           "www.lahc.edu"
          ],
          [
           "www.lamission.edu"
          ],
          [
           "www.piercecollege.edu"
          ],
          [
           "www.lasc.edu"
          ],
          [
           "www.lattc.edu"
          ],
          [
           "www.lavc.edu"
          ],
          [
           "www.elac.edu"
          ],
          [
           "www.wlac.edu"
          ],
          [
           "www.pasadena.edu"
          ],
          [
           "www.smc.edu"
          ],
          [
           "www.cerritos.edu"
          ],
          [
           "www.citruscollege.edu"
          ],
          [
           "www.coastline.edu"
          ],
          [
           "www.goldenwestcollege.edu"
          ],
          [
           "www.orangecoastcollege.edu"
          ],
          [
           "www.lbcc.edu"
          ],
          [
           "www.mtsac.edu"
          ],
          [
           "www.cypresscollege.edu"
          ],
          [
           "www.fullcoll.edu"
          ],
          [
           "www.sac.edu"
          ],
          [
           "www.sccollege.edu"
          ],
          [
           "www.riohondo.edu"
          ],
          [
           "www.saddleback.edu"
          ],
          [
           "www.ivc.edu"
          ],
          [
           "www.barstow.edu"
          ],
          [
           "www.chaffey.edu"
          ],
          [
           "www.collegeofthedesert.edu"
          ],
          [
           "www.msjc.edu"
          ],
          [
           "www.paloverde.edu"
          ],
          [
           "www.rcc.edu"
          ],
          [
           "www.mvc.edu"
          ],
          [
           "www.norcocollege.edu"
          ],
          [
           "www.cmccd.edu"
          ],
          [
           "www.craftonhills.edu"
          ],
          [
           "www.valleycollege.edu"
          ],
          [
           "www.vvc.edu"
          ]
         ],
         "hovertemplate": "<b>%{hovertext}</b><br><br>lat=%{lat}<br>lon=%{lon}<br>WebsiteURL=%{customdata[0]}<extra></extra>",
         "hovertext": [
          "Cuyamaca College",
          "Grossmont College",
          "Imperial Valley College",
          "MiraCosta College",
          "Palomar College",
          "San Diego City College",
          "San Diego Mesa College",
          "San Diego Miramar College",
          "Southwestern College",
          "Butte College",
          "Feather River College",
          "Lassen Community College",
          "Mendocino College",
          "College of the Redwoods",
          "Shasta College",
          "College of the Siskiyous",
          "Lake Tahoe Community College",
          "American River College",
          "Cosumnes River College",
          "Sacramento City College",
          "Folsom Lake College",
          "Napa Valley College",
          "Santa Rosa Junior College",
          "Sierra College",
          "Solano Community College",
          "Yuba College",
          "Woodland Community College",
          "Contra Costa College",
          "Diablo Valley College",
          "Los Medanos College",
          "College of Marin",
          "College of Alameda",
          "Laney College",
          "Merritt College",
          "Berkeley City College",
          "City College of San Francisco",
          "Cañada College",
          "College of San Mateo",
          "Skyline College",
          "Cabrillo College",
          "De Anza College",
          "Foothill College",
          "Ohlone College",
          "Gavilan College",
          "Hartnell College",
          "Monterey Peninsula College",
          "Evergreen Valley College",
          "San José City College",
          "Las Positas College",
          "Chabot College",
          "Mission College",
          "West Valley College",
          "Bakersfield College",
          "Cerro Coso Community College",
          "Porterville College",
          "Merced College",
          "San Joaquin Delta College",
          "College of the Sequoias",
          "Fresno City College",
          "Reedley College",
          "Madera Community College",
          "Clovis Community College",
          "Coalinga College",
          "Lemoore College",
          "Columbia College",
          "Modesto Junior College",
          "Allan Hancock College",
          "Antelope Valley College",
          "Cuesta College",
          "Santa Barbara City College",
          "College of the Canyons",
          "Moorpark College",
          "Oxnard College",
          "Ventura College",
          "Taft College",
          "Compton College",
          "El Camino College",
          "Glendale Community College",
          "Los Angeles City College",
          "Los Angeles Harbor College",
          "Los Angeles Mission College",
          "Los Angeles Pierce College",
          "Los Angeles Southwest College",
          "Los Angeles Trade-Technical College",
          "Los Angeles Valley College",
          "East Los Angeles College",
          "West Los Angeles College",
          "Pasadena City College",
          "Santa Monica College",
          "Cerritos College",
          "Citrus College",
          "Coastline College",
          "Golden West College",
          "Orange Coast College",
          "Long Beach City College",
          "Mt. San Antonio College",
          "Cypress College",
          "Fullerton College",
          "Santa Ana College",
          "Santiago Canyon College",
          "Rio Hondo College",
          "Saddleback College",
          "Irvine Valley College",
          "Barstow Community College",
          "Chaffey College",
          "College of the Desert",
          "Mt. San Jacinto College",
          "Palo Verde College",
          "Riverside City College",
          "Moreno Valley College",
          "Norco College",
          "Copper Mountain College",
          "Crafton Hills College",
          "San Bernardino Valley College",
          "Victor Valley College"
         ],
         "lat": [
          32.74489,
          32.817897,
          32.825859,
          33.188864,
          33.147015,
          32.718957,
          32.803441,
          32.908849,
          32.641828,
          39.647365,
          39.95095,
          40.432698,
          39.185684,
          40.70504,
          40.634751,
          41.412714,
          38.926708,
          38.650125,
          38.455405,
          38.541473,
          38.65825,
          38.27363,
          38.454805,
          38.788501,
          38.232644,
          39.127895,
          38.662461,
          37.96696,
          37.971268,
          38.008082,
          37.953801,
          37.779899,
          37.797205,
          37.791241,
          37.869997,
          37.724247,
          37.447235,
          37.531806,
          37.632218,
          36.9883421,
          37.322667,
          37.359792,
          37.527822,
          36.9762761,
          36.673843,
          36.5947521,
          37.2979351,
          37.3163381,
          37.7086,
          37.642865,
          37.391842,
          37.265841,
          35.410795,
          35.568673,
          36.048309,
          37.333957,
          37.995974,
          36.322927,
          36.766625,
          36.605852,
          36.924985,
          36.884529,
          36.147575,
          36.292286,
          38.032148,
          37.650879,
          34.9421711,
          34.675044,
          35.3330991,
          34.4067171,
          34.402685,
          34.301162,
          34.1677431,
          34.2757611,
          35.149388,
          33.874393,
          33.884799,
          34.168679,
          34.086844,
          33.784817,
          34.314604,
          34.183189,
          33.930808,
          34.033038,
          34.176044,
          34.039736,
          34.00182,
          34.145852,
          34.018915,
          33.88766,
          34.135857,
          33.716208,
          33.732291,
          33.67204,
          33.832509,
          34.043398,
          33.82834,
          33.874148,
          33.75983,
          33.794694,
          34.019628,
          33.557694,
          33.679097,
          34.87077,
          34.146492,
          33.732329,
          33.807225,
          33.610395,
          33.971771,
          33.887025,
          33.915421,
          34.141518,
          34.041104,
          34.088099,
          34.471081
         ],
         "legendgroup": "",
         "lon": [
          -116.935229,
          -117.00564,
          -115.502999,
          -117.301064,
          -117.18398,
          -117.153631,
          -117.164172,
          -117.123989,
          -116.994018,
          -121.649277,
          -120.970148,
          -120.635333,
          -123.219601,
          -124.207829,
          -122.325779,
          -122.395695,
          -119.971093,
          -121.350283,
          -121.427561,
          -121.491631,
          -121.128419,
          -122.272936,
          -122.717412,
          -121.209383,
          -122.126308,
          -121.539753,
          -121.735667,
          -122.343213,
          -122.070027,
          -121.860106,
          -122.548962,
          -122.280515,
          -122.263717,
          -122.16773,
          -122.269272,
          -122.452332,
          -122.260516,
          -122.33523,
          -122.461335,
          -121.9250651,
          -122.045855,
          -122.122352,
          -121.918369,
          -121.5690541,
          -121.664833,
          -121.8873291,
          -121.761481,
          -121.926891,
          -121.804916,
          -122.104307,
          -121.980134,
          -122.013575,
          -118.9735,
          -117.670047,
          -119.014193,
          -120.477941,
          -121.314813,
          -119.314184,
          -119.798312,
          -119.457834,
          -119.998072,
          -119.73,
          -120.357183,
          -119.821752,
          -120.389719,
          -121.007474,
          -120.4247051,
          -118.184579,
          -120.7428041,
          -119.7002881,
          -118.566617,
          -118.831972,
          -119.1593981,
          -119.2304871,
          -119.458858,
          -118.2092632,
          -118.326698,
          -118.22837,
          -118.291864,
          -118.281649,
          -118.420189,
          -118.571124,
          -118.304588,
          -118.269624,
          -118.422335,
          -118.148754,
          -118.391139,
          -118.117937,
          -118.470329,
          -118.066309,
          -117.884995,
          -117.929166,
          -118.006656,
          -117.907979,
          -118.135245,
          -117.847776,
          -118.028153,
          -117.920096,
          -117.888996,
          -117.769334,
          -118.037848,
          -117.664457,
          -117.778525,
          -117.021172,
          -117.575627,
          -116.391,
          -116.971923,
          -114.598849,
          -117.384356,
          -117.20505,
          -117.568755,
          -116.212214,
          -117.107133,
          -117.313704,
          -117.260293
         ],
         "marker": {
          "color": "#636efa",
          "size": 8
         },
         "mode": "markers",
         "name": "",
         "showlegend": false,
         "subplot": "mapbox",
         "type": "scattermapbox"
        }
       ],
       "layout": {
        "height": 600,
        "legend": {
         "tracegroupgap": 0
        },
        "mapbox": {
         "center": {
          "lat": 35.86590452173913,
          "lon": -119.63765350434782
         },
         "domain": {
          "x": [
           0,
           1
          ],
          "y": [
           0,
           1
          ]
         },
         "style": "open-street-map",
         "zoom": 5
        },
        "template": {
         "data": {
          "bar": [
           {
            "error_x": {
             "color": "#2a3f5f"
            },
            "error_y": {
             "color": "#2a3f5f"
            },
            "marker": {
             "line": {
              "color": "#E5ECF6",
              "width": 0.5
             },
             "pattern": {
              "fillmode": "overlay",
              "size": 10,
              "solidity": 0.2
             }
            },
            "type": "bar"
           }
          ],
          "barpolar": [
           {
            "marker": {
             "line": {
              "color": "#E5ECF6",
              "width": 0.5
             },
             "pattern": {
              "fillmode": "overlay",
              "size": 10,
              "solidity": 0.2
             }
            },
            "type": "barpolar"
           }
          ],
          "carpet": [
           {
            "aaxis": {
             "endlinecolor": "#2a3f5f",
             "gridcolor": "white",
             "linecolor": "white",
             "minorgridcolor": "white",
             "startlinecolor": "#2a3f5f"
            },
            "baxis": {
             "endlinecolor": "#2a3f5f",
             "gridcolor": "white",
             "linecolor": "white",
             "minorgridcolor": "white",
             "startlinecolor": "#2a3f5f"
            },
            "type": "carpet"
           }
          ],
          "choropleth": [
           {
            "colorbar": {
             "outlinewidth": 0,
             "ticks": ""
            },
            "type": "choropleth"
           }
          ],
          "contour": [
           {
            "colorbar": {
             "outlinewidth": 0,
             "ticks": ""
            },
            "colorscale": [
             [
              0,
              "#0d0887"
             ],
             [
              0.1111111111111111,
              "#46039f"
             ],
             [
              0.2222222222222222,
              "#7201a8"
             ],
             [
              0.3333333333333333,
              "#9c179e"
             ],
             [
              0.4444444444444444,
              "#bd3786"
             ],
             [
              0.5555555555555556,
              "#d8576b"
             ],
             [
              0.6666666666666666,
              "#ed7953"
             ],
             [
              0.7777777777777778,
              "#fb9f3a"
             ],
             [
              0.8888888888888888,
              "#fdca26"
             ],
             [
              1,
              "#f0f921"
             ]
            ],
            "type": "contour"
           }
          ],
          "contourcarpet": [
           {
            "colorbar": {
             "outlinewidth": 0,
             "ticks": ""
            },
            "type": "contourcarpet"
           }
          ],
          "heatmap": [
           {
            "colorbar": {
             "outlinewidth": 0,
             "ticks": ""
            },
            "colorscale": [
             [
              0,
              "#0d0887"
             ],
             [
              0.1111111111111111,
              "#46039f"
             ],
             [
              0.2222222222222222,
              "#7201a8"
             ],
             [
              0.3333333333333333,
              "#9c179e"
             ],
             [
              0.4444444444444444,
              "#bd3786"
             ],
             [
              0.5555555555555556,
              "#d8576b"
             ],
             [
              0.6666666666666666,
              "#ed7953"
             ],
             [
              0.7777777777777778,
              "#fb9f3a"
             ],
             [
              0.8888888888888888,
              "#fdca26"
             ],
             [
              1,
              "#f0f921"
             ]
            ],
            "type": "heatmap"
           }
          ],
          "heatmapgl": [
           {
            "colorbar": {
             "outlinewidth": 0,
             "ticks": ""
            },
            "colorscale": [
             [
              0,
              "#0d0887"
             ],
             [
              0.1111111111111111,
              "#46039f"
             ],
             [
              0.2222222222222222,
              "#7201a8"
             ],
             [
              0.3333333333333333,
              "#9c179e"
             ],
             [
              0.4444444444444444,
              "#bd3786"
             ],
             [
              0.5555555555555556,
              "#d8576b"
             ],
             [
              0.6666666666666666,
              "#ed7953"
             ],
             [
              0.7777777777777778,
              "#fb9f3a"
             ],
             [
              0.8888888888888888,
              "#fdca26"
             ],
             [
              1,
              "#f0f921"
             ]
            ],
            "type": "heatmapgl"
           }
          ],
          "histogram": [
           {
            "marker": {
             "pattern": {
              "fillmode": "overlay",
              "size": 10,
              "solidity": 0.2
             }
            },
            "type": "histogram"
           }
          ],
          "histogram2d": [
           {
            "colorbar": {
             "outlinewidth": 0,
             "ticks": ""
            },
            "colorscale": [
             [
              0,
              "#0d0887"
             ],
             [
              0.1111111111111111,
              "#46039f"
             ],
             [
              0.2222222222222222,
              "#7201a8"
             ],
             [
              0.3333333333333333,
              "#9c179e"
             ],
             [
              0.4444444444444444,
              "#bd3786"
             ],
             [
              0.5555555555555556,
              "#d8576b"
             ],
             [
              0.6666666666666666,
              "#ed7953"
             ],
             [
              0.7777777777777778,
              "#fb9f3a"
             ],
             [
              0.8888888888888888,
              "#fdca26"
             ],
             [
              1,
              "#f0f921"
             ]
            ],
            "type": "histogram2d"
           }
          ],
          "histogram2dcontour": [
           {
            "colorbar": {
             "outlinewidth": 0,
             "ticks": ""
            },
            "colorscale": [
             [
              0,
              "#0d0887"
             ],
             [
              0.1111111111111111,
              "#46039f"
             ],
             [
              0.2222222222222222,
              "#7201a8"
             ],
             [
              0.3333333333333333,
              "#9c179e"
             ],
             [
              0.4444444444444444,
              "#bd3786"
             ],
             [
              0.5555555555555556,
              "#d8576b"
             ],
             [
              0.6666666666666666,
              "#ed7953"
             ],
             [
              0.7777777777777778,
              "#fb9f3a"
             ],
             [
              0.8888888888888888,
              "#fdca26"
             ],
             [
              1,
              "#f0f921"
             ]
            ],
            "type": "histogram2dcontour"
           }
          ],
          "mesh3d": [
           {
            "colorbar": {
             "outlinewidth": 0,
             "ticks": ""
            },
            "type": "mesh3d"
           }
          ],
          "parcoords": [
           {
            "line": {
             "colorbar": {
              "outlinewidth": 0,
              "ticks": ""
             }
            },
            "type": "parcoords"
           }
          ],
          "pie": [
           {
            "automargin": true,
            "type": "pie"
           }
          ],
          "scatter": [
           {
            "fillpattern": {
             "fillmode": "overlay",
             "size": 10,
             "solidity": 0.2
            },
            "type": "scatter"
           }
          ],
          "scatter3d": [
           {
            "line": {
             "colorbar": {
              "outlinewidth": 0,
              "ticks": ""
             }
            },
            "marker": {
             "colorbar": {
              "outlinewidth": 0,
              "ticks": ""
             }
            },
            "type": "scatter3d"
           }
          ],
          "scattercarpet": [
           {
            "marker": {
             "colorbar": {
              "outlinewidth": 0,
              "ticks": ""
             }
            },
            "type": "scattercarpet"
           }
          ],
          "scattergeo": [
           {
            "marker": {
             "colorbar": {
              "outlinewidth": 0,
              "ticks": ""
             }
            },
            "type": "scattergeo"
           }
          ],
          "scattergl": [
           {
            "marker": {
             "colorbar": {
              "outlinewidth": 0,
              "ticks": ""
             }
            },
            "type": "scattergl"
           }
          ],
          "scattermapbox": [
           {
            "marker": {
             "colorbar": {
              "outlinewidth": 0,
              "ticks": ""
             }
            },
            "type": "scattermapbox"
           }
          ],
          "scatterpolar": [
           {
            "marker": {
             "colorbar": {
              "outlinewidth": 0,
              "ticks": ""
             }
            },
            "type": "scatterpolar"
           }
          ],
          "scatterpolargl": [
           {
            "marker": {
             "colorbar": {
              "outlinewidth": 0,
              "ticks": ""
             }
            },
            "type": "scatterpolargl"
           }
          ],
          "scatterternary": [
           {
            "marker": {
             "colorbar": {
              "outlinewidth": 0,
              "ticks": ""
             }
            },
            "type": "scatterternary"
           }
          ],
          "surface": [
           {
            "colorbar": {
             "outlinewidth": 0,
             "ticks": ""
            },
            "colorscale": [
             [
              0,
              "#0d0887"
             ],
             [
              0.1111111111111111,
              "#46039f"
             ],
             [
              0.2222222222222222,
              "#7201a8"
             ],
             [
              0.3333333333333333,
              "#9c179e"
             ],
             [
              0.4444444444444444,
              "#bd3786"
             ],
             [
              0.5555555555555556,
              "#d8576b"
             ],
             [
              0.6666666666666666,
              "#ed7953"
             ],
             [
              0.7777777777777778,
              "#fb9f3a"
             ],
             [
              0.8888888888888888,
              "#fdca26"
             ],
             [
              1,
              "#f0f921"
             ]
            ],
            "type": "surface"
           }
          ],
          "table": [
           {
            "cells": {
             "fill": {
              "color": "#EBF0F8"
             },
             "line": {
              "color": "white"
             }
            },
            "header": {
             "fill": {
              "color": "#C8D4E3"
             },
             "line": {
              "color": "white"
             }
            },
            "type": "table"
           }
          ]
         },
         "layout": {
          "annotationdefaults": {
           "arrowcolor": "#2a3f5f",
           "arrowhead": 0,
           "arrowwidth": 1
          },
          "autotypenumbers": "strict",
          "coloraxis": {
           "colorbar": {
            "outlinewidth": 0,
            "ticks": ""
           }
          },
          "colorscale": {
           "diverging": [
            [
             0,
             "#8e0152"
            ],
            [
             0.1,
             "#c51b7d"
            ],
            [
             0.2,
             "#de77ae"
            ],
            [
             0.3,
             "#f1b6da"
            ],
            [
             0.4,
             "#fde0ef"
            ],
            [
             0.5,
             "#f7f7f7"
            ],
            [
             0.6,
             "#e6f5d0"
            ],
            [
             0.7,
             "#b8e186"
            ],
            [
             0.8,
             "#7fbc41"
            ],
            [
             0.9,
             "#4d9221"
            ],
            [
             1,
             "#276419"
            ]
           ],
           "sequential": [
            [
             0,
             "#0d0887"
            ],
            [
             0.1111111111111111,
             "#46039f"
            ],
            [
             0.2222222222222222,
             "#7201a8"
            ],
            [
             0.3333333333333333,
             "#9c179e"
            ],
            [
             0.4444444444444444,
             "#bd3786"
            ],
            [
             0.5555555555555556,
             "#d8576b"
            ],
            [
             0.6666666666666666,
             "#ed7953"
            ],
            [
             0.7777777777777778,
             "#fb9f3a"
            ],
            [
             0.8888888888888888,
             "#fdca26"
            ],
            [
             1,
             "#f0f921"
            ]
           ],
           "sequentialminus": [
            [
             0,
             "#0d0887"
            ],
            [
             0.1111111111111111,
             "#46039f"
            ],
            [
             0.2222222222222222,
             "#7201a8"
            ],
            [
             0.3333333333333333,
             "#9c179e"
            ],
            [
             0.4444444444444444,
             "#bd3786"
            ],
            [
             0.5555555555555556,
             "#d8576b"
            ],
            [
             0.6666666666666666,
             "#ed7953"
            ],
            [
             0.7777777777777778,
             "#fb9f3a"
            ],
            [
             0.8888888888888888,
             "#fdca26"
            ],
            [
             1,
             "#f0f921"
            ]
           ]
          },
          "colorway": [
           "#636efa",
           "#EF553B",
           "#00cc96",
           "#ab63fa",
           "#FFA15A",
           "#19d3f3",
           "#FF6692",
           "#B6E880",
           "#FF97FF",
           "#FECB52"
          ],
          "font": {
           "color": "#2a3f5f"
          },
          "geo": {
           "bgcolor": "white",
           "lakecolor": "white",
           "landcolor": "#E5ECF6",
           "showlakes": true,
           "showland": true,
           "subunitcolor": "white"
          },
          "hoverlabel": {
           "align": "left"
          },
          "hovermode": "closest",
          "mapbox": {
           "style": "light"
          },
          "paper_bgcolor": "white",
          "plot_bgcolor": "#E5ECF6",
          "polar": {
           "angularaxis": {
            "gridcolor": "white",
            "linecolor": "white",
            "ticks": ""
           },
           "bgcolor": "#E5ECF6",
           "radialaxis": {
            "gridcolor": "white",
            "linecolor": "white",
            "ticks": ""
           }
          },
          "scene": {
           "xaxis": {
            "backgroundcolor": "#E5ECF6",
            "gridcolor": "white",
            "gridwidth": 2,
            "linecolor": "white",
            "showbackground": true,
            "ticks": "",
            "zerolinecolor": "white"
           },
           "yaxis": {
            "backgroundcolor": "#E5ECF6",
            "gridcolor": "white",
            "gridwidth": 2,
            "linecolor": "white",
            "showbackground": true,
            "ticks": "",
            "zerolinecolor": "white"
           },
           "zaxis": {
            "backgroundcolor": "#E5ECF6",
            "gridcolor": "white",
            "gridwidth": 2,
            "linecolor": "white",
            "showbackground": true,
            "ticks": "",
            "zerolinecolor": "white"
           }
          },
          "shapedefaults": {
           "line": {
            "color": "#2a3f5f"
           }
          },
          "ternary": {
           "aaxis": {
            "gridcolor": "white",
            "linecolor": "white",
            "ticks": ""
           },
           "baxis": {
            "gridcolor": "white",
            "linecolor": "white",
            "ticks": ""
           },
           "bgcolor": "#E5ECF6",
           "caxis": {
            "gridcolor": "white",
            "linecolor": "white",
            "ticks": ""
           }
          },
          "title": {
           "x": 0.05
          },
          "xaxis": {
           "automargin": true,
           "gridcolor": "white",
           "linecolor": "white",
           "ticks": "",
           "title": {
            "standoff": 15
           },
           "zerolinecolor": "white",
           "zerolinewidth": 2
          },
          "yaxis": {
           "automargin": true,
           "gridcolor": "white",
           "linecolor": "white",
           "ticks": "",
           "title": {
            "standoff": 15
           },
           "zerolinecolor": "white",
           "zerolinewidth": 2
          }
         }
        },
        "title": {
         "text": "California Community Colleges"
        }
       }
      }
     },
     "metadata": {},
     "output_type": "display_data"
    }
   ],
   "source": [
    "geometry = [Point(xy) for xy in zip(df[\"Longitude\"], df[\"Latitude\"])]\n",
    "gdf = gpd.GeoDataFrame(df, geometry=geometry)\n",
    "\n",
    "# Load a world map and filter for the United States\n",
    "world = gpd.read_file(\n",
    "    \"https://naturalearth.s3.amazonaws.com/110m_cultural/ne_110m_admin_0_countries.zip\"\n",
    ")\n",
    "usa = world[world[\"ADMIN\"] == \"United States of America\"]\n",
    "\n",
    "# Load US states map and filter for California\n",
    "states = gpd.read_file(\n",
    "    \"https://naturalearth.s3.amazonaws.com/10m_cultural/ne_10m_admin_1_states_provinces.zip\"\n",
    ")\n",
    "california = states[(states[\"name\"] == \"California\")]\n",
    "\n",
    "fig = px.scatter_mapbox(\n",
    "    gdf,\n",
    "    lat=gdf.geometry.y,\n",
    "    lon=gdf.geometry.x,\n",
    "    hover_name=\"CollegeName\",\n",
    "    hover_data=[\"WebsiteURL\"],\n",
    "    zoom=5,\n",
    "    height=600,\n",
    "    title=\"California Community Colleges\",\n",
    ")\n",
    "fig.update_traces(marker=dict(size=8))\n",
    "fig.update_layout(\n",
    "    mapbox_style=\"open-street-map\",\n",
    ")\n",
    "\n",
    "# fig.write_html(\"extracts/california_community_colleges.html\")\n",
    "\n",
    "fig.show()"
   ]
  },
  {
   "cell_type": "code",
   "execution_count": null,
   "metadata": {},
   "outputs": [],
   "source": []
  }
 ],
 "metadata": {
  "kernelspec": {
   "display_name": "base",
   "language": "python",
   "name": "python3"
  },
  "language_info": {
   "codemirror_mode": {
    "name": "ipython",
    "version": 3
   },
   "file_extension": ".py",
   "mimetype": "text/x-python",
   "name": "python",
   "nbconvert_exporter": "python",
   "pygments_lexer": "ipython3",
   "version": "3.12.7"
  }
 },
 "nbformat": 4,
 "nbformat_minor": 2
}
